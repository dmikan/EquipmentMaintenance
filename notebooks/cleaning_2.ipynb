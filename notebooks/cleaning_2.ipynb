{
 "cells": [
  {
   "cell_type": "code",
   "execution_count": 1,
   "metadata": {
    "colab": {
     "base_uri": "https://localhost:8080/"
    },
    "executionInfo": {
     "elapsed": 762,
     "status": "ok",
     "timestamp": 1740842660642,
     "user": {
      "displayName": "Danny Perilla",
      "userId": "12445778756415185299"
     },
     "user_tz": 300
    },
    "id": "V7OmCto07hNr",
    "outputId": "ac83d38e-430c-4db1-92aa-bbbd5aee6953"
   },
   "outputs": [
    {
     "ename": "ModuleNotFoundError",
     "evalue": "No module named 'google'",
     "output_type": "error",
     "traceback": [
      "\u001b[0;31m---------------------------------------------------------------------------\u001b[0m",
      "\u001b[0;31mModuleNotFoundError\u001b[0m                       Traceback (most recent call last)",
      "Cell \u001b[0;32mIn[1], line 2\u001b[0m\n\u001b[1;32m      1\u001b[0m \u001b[38;5;66;03m# importar de drive\u001b[39;00m\n\u001b[0;32m----> 2\u001b[0m \u001b[38;5;28;01mfrom\u001b[39;00m\u001b[38;5;250m \u001b[39m\u001b[38;5;21;01mgoogle\u001b[39;00m\u001b[38;5;21;01m.\u001b[39;00m\u001b[38;5;21;01mcolab\u001b[39;00m\u001b[38;5;250m \u001b[39m\u001b[38;5;28;01mimport\u001b[39;00m drive\n\u001b[1;32m      3\u001b[0m drive\u001b[38;5;241m.\u001b[39mmount(\u001b[38;5;124m'\u001b[39m\u001b[38;5;124m/content/drive\u001b[39m\u001b[38;5;124m'\u001b[39m)\n",
      "\u001b[0;31mModuleNotFoundError\u001b[0m: No module named 'google'"
     ]
    }
   ],
   "source": [
    "# importar de drive\n",
    "\n",
    "from google.colab import drive\n",
    "drive.mount('/content/drive')"
   ]
  },
  {
   "cell_type": "code",
   "execution_count": null,
   "metadata": {
    "colab": {
     "base_uri": "https://localhost:8080/"
    },
    "executionInfo": {
     "elapsed": 306,
     "status": "ok",
     "timestamp": 1740842151188,
     "user": {
      "displayName": "Danny Perilla",
      "userId": "12445778756415185299"
     },
     "user_tz": 300
    },
    "id": "StWNS40a7qy0",
    "outputId": "7c860f8f-9fe4-4ce7-84cf-5607f155e15a"
   },
   "outputs": [
    {
     "name": "stdout",
     "output_type": "stream",
     "text": [
      "df_parcial.csv\t\t      mantenimiento_equipos_reducido_con_pooh.csv\n",
      "df_parcial.gsheet\t      mantenimiento_equipos_reducido.csv\n",
      "mantenimiento_equipos.csv     mantenimiento_equipos_reducido_sin_pooh.csv\n",
      "mantenimiento_equipos.gsheet  mantenimiento_equipos_running.csv\n"
     ]
    }
   ],
   "source": [
    "!ls /content/drive/MyDrive/Preparatorio/Optimizacion/datos"
   ]
  },
  {
   "cell_type": "code",
   "execution_count": null,
   "metadata": {
    "id": "4MoqYTNZ7xUD"
   },
   "outputs": [],
   "source": [
    "# base folder en drive\n",
    "BASE_FOLDER = '/content/drive/MyDrive/Preparatorio/Optimizacion/datos'"
   ]
  },
  {
   "cell_type": "code",
   "execution_count": null,
   "metadata": {
    "colab": {
     "base_uri": "https://localhost:8080/"
    },
    "executionInfo": {
     "elapsed": 198,
     "status": "ok",
     "timestamp": 1740850816688,
     "user": {
      "displayName": "Danny Perilla",
      "userId": "12445778756415185299"
     },
     "user_tz": 300
    },
    "id": "ufBlEhyN7z2J",
    "outputId": "1313d18e-0f05-472d-ad0e-3b0519a6c6ad"
   },
   "outputs": [
    {
     "name": "stderr",
     "output_type": "stream",
     "text": [
      "<ipython-input-171-24afae4b3606>:3: DtypeWarning: Columns (28,30,31,32,33,35,40,48,49,54,57,70,72,73,85,86,87,88,89,90,91) have mixed types. Specify dtype option on import or set low_memory=False.\n",
      "  df = pd.read_csv(f'{BASE_FOLDER}/mantenimiento_equipos.csv')\n"
     ]
    }
   ],
   "source": [
    "#importar csv de drive\n",
    "import pandas as pd\n",
    "df = pd.read_csv(f'{BASE_FOLDER}/mantenimiento_equipos.csv')"
   ]
  },
  {
   "cell_type": "code",
   "execution_count": null,
   "metadata": {
    "id": "n7zJtEbK742C"
   },
   "outputs": [],
   "source": [
    "#importar csv de drive\n",
    "import pandas as pd\n",
    "df_reducido = pd.read_csv(f'{BASE_FOLDER}/df_parcial.csv')"
   ]
  },
  {
   "cell_type": "code",
   "execution_count": null,
   "metadata": {
    "colab": {
     "base_uri": "https://localhost:8080/",
     "height": 423
    },
    "executionInfo": {
     "elapsed": 82,
     "status": "ok",
     "timestamp": 1740842376649,
     "user": {
      "displayName": "Danny Perilla",
      "userId": "12445778756415185299"
     },
     "user_tz": 300
    },
    "id": "xuFfSCqvSj4l",
    "outputId": "3729e0bd-ecf5-4c1d-e069-0c8b92b03aa9"
   },
   "outputs": [
    {
     "data": {
      "application/vnd.google.colaboratory.intrinsic+json": {
       "summary": "{\n  \"name\": \"df_reducido[['STOP_INDEX', 'STOP_GROUP']]\",\n  \"rows\": 8289,\n  \"fields\": [\n    {\n      \"column\": \"STOP_INDEX\",\n      \"properties\": {\n        \"dtype\": \"number\",\n        \"std\": 13.429334131678477,\n        \"min\": 1.0,\n        \"max\": 54.0,\n        \"num_unique_values\": 54,\n        \"samples\": [\n          52.0,\n          6.0,\n          29.0\n        ],\n        \"semantic_type\": \"\",\n        \"description\": \"\"\n      }\n    },\n    {\n      \"column\": \"STOP_GROUP\",\n      \"properties\": {\n        \"dtype\": \"category\",\n        \"num_unique_values\": 10,\n        \"samples\": [\n          \"UNSPECIFIED_FAILURE\",\n          \"WELL\",\n          \"NON_ESP_FAILURE\"\n        ],\n        \"semantic_type\": \"\",\n        \"description\": \"\"\n      }\n    }\n  ]\n}",
       "type": "dataframe"
      },
      "text/html": [
       "\n",
       "  <div id=\"df-6c5d4794-912d-435f-aa33-13b25baf84aa\" class=\"colab-df-container\">\n",
       "    <div>\n",
       "<style scoped>\n",
       "    .dataframe tbody tr th:only-of-type {\n",
       "        vertical-align: middle;\n",
       "    }\n",
       "\n",
       "    .dataframe tbody tr th {\n",
       "        vertical-align: top;\n",
       "    }\n",
       "\n",
       "    .dataframe thead th {\n",
       "        text-align: right;\n",
       "    }\n",
       "</style>\n",
       "<table border=\"1\" class=\"dataframe\">\n",
       "  <thead>\n",
       "    <tr style=\"text-align: right;\">\n",
       "      <th></th>\n",
       "      <th>STOP_INDEX</th>\n",
       "      <th>STOP_GROUP</th>\n",
       "    </tr>\n",
       "  </thead>\n",
       "  <tbody>\n",
       "    <tr>\n",
       "      <th>0</th>\n",
       "      <td>16.0</td>\n",
       "      <td>ELECTRIC</td>\n",
       "    </tr>\n",
       "    <tr>\n",
       "      <th>1</th>\n",
       "      <td>16.0</td>\n",
       "      <td>ELECTRIC</td>\n",
       "    </tr>\n",
       "    <tr>\n",
       "      <th>2</th>\n",
       "      <td>48.0</td>\n",
       "      <td>WELL</td>\n",
       "    </tr>\n",
       "    <tr>\n",
       "      <th>3</th>\n",
       "      <td>48.0</td>\n",
       "      <td>WELL</td>\n",
       "    </tr>\n",
       "    <tr>\n",
       "      <th>4</th>\n",
       "      <td>48.0</td>\n",
       "      <td>WELL</td>\n",
       "    </tr>\n",
       "    <tr>\n",
       "      <th>...</th>\n",
       "      <td>...</td>\n",
       "      <td>...</td>\n",
       "    </tr>\n",
       "    <tr>\n",
       "      <th>8284</th>\n",
       "      <td>11.0</td>\n",
       "      <td>ELECTIVE</td>\n",
       "    </tr>\n",
       "    <tr>\n",
       "      <th>8285</th>\n",
       "      <td>32.0</td>\n",
       "      <td>MECHANICAL</td>\n",
       "    </tr>\n",
       "    <tr>\n",
       "      <th>8286</th>\n",
       "      <td>39.0</td>\n",
       "      <td>UNKNOWN</td>\n",
       "    </tr>\n",
       "    <tr>\n",
       "      <th>8287</th>\n",
       "      <td>14.0</td>\n",
       "      <td>ELECTRIC</td>\n",
       "    </tr>\n",
       "    <tr>\n",
       "      <th>8288</th>\n",
       "      <td>18.0</td>\n",
       "      <td>ELECTRIC</td>\n",
       "    </tr>\n",
       "  </tbody>\n",
       "</table>\n",
       "<p>8289 rows × 2 columns</p>\n",
       "</div>\n",
       "    <div class=\"colab-df-buttons\">\n",
       "\n",
       "  <div class=\"colab-df-container\">\n",
       "    <button class=\"colab-df-convert\" onclick=\"convertToInteractive('df-6c5d4794-912d-435f-aa33-13b25baf84aa')\"\n",
       "            title=\"Convert this dataframe to an interactive table.\"\n",
       "            style=\"display:none;\">\n",
       "\n",
       "  <svg xmlns=\"http://www.w3.org/2000/svg\" height=\"24px\" viewBox=\"0 -960 960 960\">\n",
       "    <path d=\"M120-120v-720h720v720H120Zm60-500h600v-160H180v160Zm220 220h160v-160H400v160Zm0 220h160v-160H400v160ZM180-400h160v-160H180v160Zm440 0h160v-160H620v160ZM180-180h160v-160H180v160Zm440 0h160v-160H620v160Z\"/>\n",
       "  </svg>\n",
       "    </button>\n",
       "\n",
       "  <style>\n",
       "    .colab-df-container {\n",
       "      display:flex;\n",
       "      gap: 12px;\n",
       "    }\n",
       "\n",
       "    .colab-df-convert {\n",
       "      background-color: #E8F0FE;\n",
       "      border: none;\n",
       "      border-radius: 50%;\n",
       "      cursor: pointer;\n",
       "      display: none;\n",
       "      fill: #1967D2;\n",
       "      height: 32px;\n",
       "      padding: 0 0 0 0;\n",
       "      width: 32px;\n",
       "    }\n",
       "\n",
       "    .colab-df-convert:hover {\n",
       "      background-color: #E2EBFA;\n",
       "      box-shadow: 0px 1px 2px rgba(60, 64, 67, 0.3), 0px 1px 3px 1px rgba(60, 64, 67, 0.15);\n",
       "      fill: #174EA6;\n",
       "    }\n",
       "\n",
       "    .colab-df-buttons div {\n",
       "      margin-bottom: 4px;\n",
       "    }\n",
       "\n",
       "    [theme=dark] .colab-df-convert {\n",
       "      background-color: #3B4455;\n",
       "      fill: #D2E3FC;\n",
       "    }\n",
       "\n",
       "    [theme=dark] .colab-df-convert:hover {\n",
       "      background-color: #434B5C;\n",
       "      box-shadow: 0px 1px 3px 1px rgba(0, 0, 0, 0.15);\n",
       "      filter: drop-shadow(0px 1px 2px rgba(0, 0, 0, 0.3));\n",
       "      fill: #FFFFFF;\n",
       "    }\n",
       "  </style>\n",
       "\n",
       "    <script>\n",
       "      const buttonEl =\n",
       "        document.querySelector('#df-6c5d4794-912d-435f-aa33-13b25baf84aa button.colab-df-convert');\n",
       "      buttonEl.style.display =\n",
       "        google.colab.kernel.accessAllowed ? 'block' : 'none';\n",
       "\n",
       "      async function convertToInteractive(key) {\n",
       "        const element = document.querySelector('#df-6c5d4794-912d-435f-aa33-13b25baf84aa');\n",
       "        const dataTable =\n",
       "          await google.colab.kernel.invokeFunction('convertToInteractive',\n",
       "                                                    [key], {});\n",
       "        if (!dataTable) return;\n",
       "\n",
       "        const docLinkHtml = 'Like what you see? Visit the ' +\n",
       "          '<a target=\"_blank\" href=https://colab.research.google.com/notebooks/data_table.ipynb>data table notebook</a>'\n",
       "          + ' to learn more about interactive tables.';\n",
       "        element.innerHTML = '';\n",
       "        dataTable['output_type'] = 'display_data';\n",
       "        await google.colab.output.renderOutput(dataTable, element);\n",
       "        const docLink = document.createElement('div');\n",
       "        docLink.innerHTML = docLinkHtml;\n",
       "        element.appendChild(docLink);\n",
       "      }\n",
       "    </script>\n",
       "  </div>\n",
       "\n",
       "\n",
       "<div id=\"df-fad96e58-02cf-4b73-8a92-41e9c196d27d\">\n",
       "  <button class=\"colab-df-quickchart\" onclick=\"quickchart('df-fad96e58-02cf-4b73-8a92-41e9c196d27d')\"\n",
       "            title=\"Suggest charts\"\n",
       "            style=\"display:none;\">\n",
       "\n",
       "<svg xmlns=\"http://www.w3.org/2000/svg\" height=\"24px\"viewBox=\"0 0 24 24\"\n",
       "     width=\"24px\">\n",
       "    <g>\n",
       "        <path d=\"M19 3H5c-1.1 0-2 .9-2 2v14c0 1.1.9 2 2 2h14c1.1 0 2-.9 2-2V5c0-1.1-.9-2-2-2zM9 17H7v-7h2v7zm4 0h-2V7h2v10zm4 0h-2v-4h2v4z\"/>\n",
       "    </g>\n",
       "</svg>\n",
       "  </button>\n",
       "\n",
       "<style>\n",
       "  .colab-df-quickchart {\n",
       "      --bg-color: #E8F0FE;\n",
       "      --fill-color: #1967D2;\n",
       "      --hover-bg-color: #E2EBFA;\n",
       "      --hover-fill-color: #174EA6;\n",
       "      --disabled-fill-color: #AAA;\n",
       "      --disabled-bg-color: #DDD;\n",
       "  }\n",
       "\n",
       "  [theme=dark] .colab-df-quickchart {\n",
       "      --bg-color: #3B4455;\n",
       "      --fill-color: #D2E3FC;\n",
       "      --hover-bg-color: #434B5C;\n",
       "      --hover-fill-color: #FFFFFF;\n",
       "      --disabled-bg-color: #3B4455;\n",
       "      --disabled-fill-color: #666;\n",
       "  }\n",
       "\n",
       "  .colab-df-quickchart {\n",
       "    background-color: var(--bg-color);\n",
       "    border: none;\n",
       "    border-radius: 50%;\n",
       "    cursor: pointer;\n",
       "    display: none;\n",
       "    fill: var(--fill-color);\n",
       "    height: 32px;\n",
       "    padding: 0;\n",
       "    width: 32px;\n",
       "  }\n",
       "\n",
       "  .colab-df-quickchart:hover {\n",
       "    background-color: var(--hover-bg-color);\n",
       "    box-shadow: 0 1px 2px rgba(60, 64, 67, 0.3), 0 1px 3px 1px rgba(60, 64, 67, 0.15);\n",
       "    fill: var(--button-hover-fill-color);\n",
       "  }\n",
       "\n",
       "  .colab-df-quickchart-complete:disabled,\n",
       "  .colab-df-quickchart-complete:disabled:hover {\n",
       "    background-color: var(--disabled-bg-color);\n",
       "    fill: var(--disabled-fill-color);\n",
       "    box-shadow: none;\n",
       "  }\n",
       "\n",
       "  .colab-df-spinner {\n",
       "    border: 2px solid var(--fill-color);\n",
       "    border-color: transparent;\n",
       "    border-bottom-color: var(--fill-color);\n",
       "    animation:\n",
       "      spin 1s steps(1) infinite;\n",
       "  }\n",
       "\n",
       "  @keyframes spin {\n",
       "    0% {\n",
       "      border-color: transparent;\n",
       "      border-bottom-color: var(--fill-color);\n",
       "      border-left-color: var(--fill-color);\n",
       "    }\n",
       "    20% {\n",
       "      border-color: transparent;\n",
       "      border-left-color: var(--fill-color);\n",
       "      border-top-color: var(--fill-color);\n",
       "    }\n",
       "    30% {\n",
       "      border-color: transparent;\n",
       "      border-left-color: var(--fill-color);\n",
       "      border-top-color: var(--fill-color);\n",
       "      border-right-color: var(--fill-color);\n",
       "    }\n",
       "    40% {\n",
       "      border-color: transparent;\n",
       "      border-right-color: var(--fill-color);\n",
       "      border-top-color: var(--fill-color);\n",
       "    }\n",
       "    60% {\n",
       "      border-color: transparent;\n",
       "      border-right-color: var(--fill-color);\n",
       "    }\n",
       "    80% {\n",
       "      border-color: transparent;\n",
       "      border-right-color: var(--fill-color);\n",
       "      border-bottom-color: var(--fill-color);\n",
       "    }\n",
       "    90% {\n",
       "      border-color: transparent;\n",
       "      border-bottom-color: var(--fill-color);\n",
       "    }\n",
       "  }\n",
       "</style>\n",
       "\n",
       "  <script>\n",
       "    async function quickchart(key) {\n",
       "      const quickchartButtonEl =\n",
       "        document.querySelector('#' + key + ' button');\n",
       "      quickchartButtonEl.disabled = true;  // To prevent multiple clicks.\n",
       "      quickchartButtonEl.classList.add('colab-df-spinner');\n",
       "      try {\n",
       "        const charts = await google.colab.kernel.invokeFunction(\n",
       "            'suggestCharts', [key], {});\n",
       "      } catch (error) {\n",
       "        console.error('Error during call to suggestCharts:', error);\n",
       "      }\n",
       "      quickchartButtonEl.classList.remove('colab-df-spinner');\n",
       "      quickchartButtonEl.classList.add('colab-df-quickchart-complete');\n",
       "    }\n",
       "    (() => {\n",
       "      let quickchartButtonEl =\n",
       "        document.querySelector('#df-fad96e58-02cf-4b73-8a92-41e9c196d27d button');\n",
       "      quickchartButtonEl.style.display =\n",
       "        google.colab.kernel.accessAllowed ? 'block' : 'none';\n",
       "    })();\n",
       "  </script>\n",
       "</div>\n",
       "\n",
       "    </div>\n",
       "  </div>\n"
      ],
      "text/plain": [
       "      STOP_INDEX  STOP_GROUP\n",
       "0           16.0    ELECTRIC\n",
       "1           16.0    ELECTRIC\n",
       "2           48.0        WELL\n",
       "3           48.0        WELL\n",
       "4           48.0        WELL\n",
       "...          ...         ...\n",
       "8284        11.0    ELECTIVE\n",
       "8285        32.0  MECHANICAL\n",
       "8286        39.0     UNKNOWN\n",
       "8287        14.0    ELECTRIC\n",
       "8288        18.0    ELECTRIC\n",
       "\n",
       "[8289 rows x 2 columns]"
      ]
     },
     "execution_count": 13,
     "metadata": {},
     "output_type": "execute_result"
    }
   ],
   "source": [
    "df_reducido[['STOP_INDEX', 'STOP_GROUP']]"
   ]
  },
  {
   "cell_type": "code",
   "execution_count": null,
   "metadata": {
    "colab": {
     "base_uri": "https://localhost:8080/",
     "height": 146
    },
    "executionInfo": {
     "elapsed": 8,
     "status": "ok",
     "timestamp": 1740842650855,
     "user": {
      "displayName": "Danny Perilla",
      "userId": "12445778756415185299"
     },
     "user_tz": 300
    },
    "id": "7lPN67guSspY",
    "outputId": "98428d4c-7e27-4be1-9aa9-b2d72d1557c1"
   },
   "outputs": [
    {
     "data": {
      "text/html": [
       "<div>\n",
       "<style scoped>\n",
       "    .dataframe tbody tr th:only-of-type {\n",
       "        vertical-align: middle;\n",
       "    }\n",
       "\n",
       "    .dataframe tbody tr th {\n",
       "        vertical-align: top;\n",
       "    }\n",
       "\n",
       "    .dataframe thead th {\n",
       "        text-align: right;\n",
       "    }\n",
       "</style>\n",
       "<table border=\"1\" class=\"dataframe\">\n",
       "  <thead>\n",
       "    <tr style=\"text-align: right;\">\n",
       "      <th></th>\n",
       "      <th>count</th>\n",
       "    </tr>\n",
       "    <tr>\n",
       "      <th>STOP_GROUP</th>\n",
       "      <th></th>\n",
       "    </tr>\n",
       "  </thead>\n",
       "  <tbody>\n",
       "    <tr>\n",
       "      <th>ELECTIVE</th>\n",
       "      <td>108</td>\n",
       "    </tr>\n",
       "  </tbody>\n",
       "</table>\n",
       "</div><br><label><b>dtype:</b> int64</label>"
      ],
      "text/plain": [
       "STOP_GROUP\n",
       "ELECTIVE      108\n",
       "Name: count, dtype: int64"
      ]
     },
     "execution_count": 28,
     "metadata": {},
     "output_type": "execute_result"
    }
   ],
   "source": [
    "# hacer groupby por stop index y haga un count solo por la columna de stop group\n",
    "df_reducido[df_reducido['STOP_INDEX'] == 2][['STOP_GROUP', 'REASON_FOR']].value_counts()"
   ]
  },
  {
   "cell_type": "code",
   "execution_count": null,
   "metadata": {
    "colab": {
     "base_uri": "https://localhost:8080/"
    },
    "executionInfo": {
     "elapsed": 9,
     "status": "ok",
     "timestamp": 1740842253238,
     "user": {
      "displayName": "Danny Perilla",
      "userId": "12445778756415185299"
     },
     "user_tz": 300
    },
    "id": "L5g0R4C378bj",
    "outputId": "e414c67f-a2a4-4424-f794-9039f6c8c3d3"
   },
   "outputs": [
    {
     "data": {
      "text/plain": [
       "8289"
      ]
     },
     "execution_count": 10,
     "metadata": {},
     "output_type": "execute_result"
    }
   ],
   "source": [
    "df.shape[0]"
   ]
  },
  {
   "cell_type": "code",
   "execution_count": null,
   "metadata": {
    "id": "gIwcTOiX8GTo"
   },
   "outputs": [],
   "source": [
    "df.columns = df.columns.str.upper()\n",
    "df.columns = df.columns.str.replace(' ', '_')\n",
    "df.columns = df.columns.str.replace('-', '_')"
   ]
  },
  {
   "cell_type": "code",
   "execution_count": null,
   "metadata": {
    "id": "FBVLlCxt8MlT"
   },
   "outputs": [],
   "source": [
    "# eliminar las primeras 14 columnas de df\n",
    "df = df.iloc[:, 23:]"
   ]
  },
  {
   "cell_type": "code",
   "execution_count": null,
   "metadata": {
    "colab": {
     "base_uri": "https://localhost:8080/"
    },
    "executionInfo": {
     "elapsed": 27,
     "status": "ok",
     "timestamp": 1740842758212,
     "user": {
      "displayName": "Danny Perilla",
      "userId": "12445778756415185299"
     },
     "user_tz": 300
    },
    "id": "Hj8_avi2I_m6",
    "outputId": "3993453f-6a4b-4299-e71e-e6a8bb1b5c9f"
   },
   "outputs": [
    {
     "data": {
      "text/plain": [
       "8289"
      ]
     },
     "execution_count": 34,
     "metadata": {},
     "output_type": "execute_result"
    }
   ],
   "source": [
    "df.shape[0]"
   ]
  },
  {
   "cell_type": "code",
   "execution_count": null,
   "metadata": {
    "id": "ZFaL1_qvUUXf"
   },
   "outputs": [],
   "source": [
    "# drop columnas 'Unnamed: 0.1', 'Unnamed: 0'\n",
    "df_reducido = df_reducido.drop(['Unnamed: 0.1', 'Unnamed: 0'], axis=1)"
   ]
  },
  {
   "cell_type": "code",
   "execution_count": null,
   "metadata": {
    "colab": {
     "base_uri": "https://localhost:8080/"
    },
    "executionInfo": {
     "elapsed": 6,
     "status": "ok",
     "timestamp": 1740842954172,
     "user": {
      "displayName": "Danny Perilla",
      "userId": "12445778756415185299"
     },
     "user_tz": 300
    },
    "id": "__OLi9z-E9Wd",
    "outputId": "92e06e63-774c-4403-c6d4-9b0d04e0694c"
   },
   "outputs": [
    {
     "data": {
      "text/plain": [
       "Index(['COUNTRY', 'ASSET', 'COMPLETION_NUMBER', 'ACTIVATION_TYPE', 'SUPPLIER',\n",
       "       'ENVIRONMENT', 'RUNNING_STATUS', 'INSTALLATION_DATE', 'FAILURE_DATE',\n",
       "       'ACLS_DATE', 'POOH_DATE', 'LAST_UPDATE', 'RUN_LIFE', 'RUN_LIFE_2',\n",
       "       'START_DATE', 'START_UP_DELAY_2', 'START_UP_DELAY', 'ORDINAL_CHECK',\n",
       "       'MAX_INSTALLS', 'STOP_INDEX', 'STOP_GROUP', 'LAST_INSTALL'],\n",
       "      dtype='object')"
      ]
     },
     "execution_count": 43,
     "metadata": {},
     "output_type": "execute_result"
    }
   ],
   "source": [
    "df_reducido.columns"
   ]
  },
  {
   "cell_type": "code",
   "execution_count": null,
   "metadata": {
    "id": "9BM3rDKUEcoy"
   },
   "outputs": [],
   "source": [
    "df_concat = pd.concat([df_reducido, df], axis=1)"
   ]
  },
  {
   "cell_type": "code",
   "execution_count": null,
   "metadata": {
    "colab": {
     "base_uri": "https://localhost:8080/"
    },
    "executionInfo": {
     "elapsed": 11,
     "status": "ok",
     "timestamp": 1740842963603,
     "user": {
      "displayName": "Danny Perilla",
      "userId": "12445778756415185299"
     },
     "user_tz": 300
    },
    "id": "JlgI5dbeU4a4",
    "outputId": "21e80bdd-de85-493e-c3db-778c9998468b"
   },
   "outputs": [
    {
     "data": {
      "text/plain": [
       "8289"
      ]
     },
     "execution_count": 45,
     "metadata": {},
     "output_type": "execute_result"
    }
   ],
   "source": [
    "df_concat.shape[0]"
   ]
  },
  {
   "cell_type": "code",
   "execution_count": null,
   "metadata": {
    "id": "Bvss811U-p9k"
   },
   "outputs": [],
   "source": [
    "df_concat['START_DATE'] = pd.to_datetime(df_concat['START_DATE'])\n",
    "df_concat['INSTALLATION_DATE'] = pd.to_datetime(df_concat['INSTALLATION_DATE'])\n",
    "df_concat['FAILURE_DATE'] = pd.to_datetime(df_concat['FAILURE_DATE'])\n",
    "df_concat['ACLS_DATE'] = pd.to_datetime(df_concat['ACLS_DATE'])\n",
    "df_concat['POOH_DATE'] = pd.to_datetime(df_concat['POOH_DATE'])"
   ]
  },
  {
   "cell_type": "code",
   "execution_count": null,
   "metadata": {
    "colab": {
     "base_uri": "https://localhost:8080/",
     "height": 648
    },
    "executionInfo": {
     "elapsed": 28,
     "status": "ok",
     "timestamp": 1740842974620,
     "user": {
      "displayName": "Danny Perilla",
      "userId": "12445778756415185299"
     },
     "user_tz": 300
    },
    "id": "Ct6e68c4KLYI",
    "outputId": "c0eadedd-72a2-461d-e527-2d56ff3dcaf1"
   },
   "outputs": [
    {
     "data": {
      "text/html": [
       "<div>\n",
       "<style scoped>\n",
       "    .dataframe tbody tr th:only-of-type {\n",
       "        vertical-align: middle;\n",
       "    }\n",
       "\n",
       "    .dataframe tbody tr th {\n",
       "        vertical-align: top;\n",
       "    }\n",
       "\n",
       "    .dataframe thead th {\n",
       "        text-align: right;\n",
       "    }\n",
       "</style>\n",
       "<table border=\"1\" class=\"dataframe\">\n",
       "  <thead>\n",
       "    <tr style=\"text-align: right;\">\n",
       "      <th></th>\n",
       "      <th>101</th>\n",
       "    </tr>\n",
       "  </thead>\n",
       "  <tbody>\n",
       "    <tr>\n",
       "      <th>COUNTRY</th>\n",
       "      <td>ARGENTINA</td>\n",
       "    </tr>\n",
       "    <tr>\n",
       "      <th>ASSET</th>\n",
       "      <td>Y8PMI3</td>\n",
       "    </tr>\n",
       "    <tr>\n",
       "      <th>COMPLETION_NUMBER</th>\n",
       "      <td>18</td>\n",
       "    </tr>\n",
       "    <tr>\n",
       "      <th>ACTIVATION_TYPE</th>\n",
       "      <td>ESP</td>\n",
       "    </tr>\n",
       "    <tr>\n",
       "      <th>SUPPLIER</th>\n",
       "      <td>MAC</td>\n",
       "    </tr>\n",
       "    <tr>\n",
       "      <th>ENVIRONMENT</th>\n",
       "      <td>OFFSHORE</td>\n",
       "    </tr>\n",
       "    <tr>\n",
       "      <th>RUNNING_STATUS</th>\n",
       "      <td>PULLED</td>\n",
       "    </tr>\n",
       "    <tr>\n",
       "      <th>INSTALLATION_DATE</th>\n",
       "      <td>2022-10-01 00:00:00</td>\n",
       "    </tr>\n",
       "    <tr>\n",
       "      <th>FAILURE_DATE</th>\n",
       "      <td>2023-07-18 00:00:00</td>\n",
       "    </tr>\n",
       "    <tr>\n",
       "      <th>ACLS_DATE</th>\n",
       "      <td>NaT</td>\n",
       "    </tr>\n",
       "    <tr>\n",
       "      <th>POOH_DATE</th>\n",
       "      <td>2023-07-31 00:00:00</td>\n",
       "    </tr>\n",
       "    <tr>\n",
       "      <th>LAST_UPDATE</th>\n",
       "      <td>0</td>\n",
       "    </tr>\n",
       "    <tr>\n",
       "      <th>RUN_LIFE</th>\n",
       "      <td>290</td>\n",
       "    </tr>\n",
       "    <tr>\n",
       "      <th>RUN_LIFE_2</th>\n",
       "      <td>290 days</td>\n",
       "    </tr>\n",
       "    <tr>\n",
       "      <th>START_DATE</th>\n",
       "      <td>2022-10-01 00:00:00</td>\n",
       "    </tr>\n",
       "    <tr>\n",
       "      <th>START_UP_DELAY_2</th>\n",
       "      <td>0 days</td>\n",
       "    </tr>\n",
       "    <tr>\n",
       "      <th>START_UP_DELAY</th>\n",
       "      <td>0</td>\n",
       "    </tr>\n",
       "    <tr>\n",
       "      <th>ORDINAL_CHECK</th>\n",
       "      <td>NORMAL</td>\n",
       "    </tr>\n",
       "  </tbody>\n",
       "</table>\n",
       "</div><br><label><b>dtype:</b> object</label>"
      ],
      "text/plain": [
       "COUNTRY                        ARGENTINA\n",
       "ASSET                             Y8PMI3\n",
       "COMPLETION_NUMBER                     18\n",
       "ACTIVATION_TYPE                      ESP\n",
       "SUPPLIER                             MAC\n",
       "ENVIRONMENT                     OFFSHORE\n",
       "RUNNING_STATUS                    PULLED\n",
       "INSTALLATION_DATE    2022-10-01 00:00:00\n",
       "FAILURE_DATE         2023-07-18 00:00:00\n",
       "ACLS_DATE                            NaT\n",
       "POOH_DATE            2023-07-31 00:00:00\n",
       "LAST_UPDATE                            0\n",
       "RUN_LIFE                             290\n",
       "RUN_LIFE_2                      290 days\n",
       "START_DATE           2022-10-01 00:00:00\n",
       "START_UP_DELAY_2                  0 days\n",
       "START_UP_DELAY                         0\n",
       "ORDINAL_CHECK                     NORMAL\n",
       "Name: 101, dtype: object"
      ]
     },
     "execution_count": 47,
     "metadata": {},
     "output_type": "execute_result"
    }
   ],
   "source": [
    "df_concat.iloc[101][:18]"
   ]
  },
  {
   "cell_type": "code",
   "execution_count": null,
   "metadata": {
    "id": "h19wY-1zK-6B"
   },
   "outputs": [],
   "source": [
    "# aquellos valores NaT de df_concat['START_DATE'] completalos de INTALLATION_DATE\n",
    "df_concat.loc[df_concat['START_DATE'].isna(),\n",
    "              'START_DATE'] = df_concat.loc[df_concat['START_DATE'].isna(),\n",
    "                                            'INSTALLATION_DATE']"
   ]
  },
  {
   "cell_type": "code",
   "execution_count": null,
   "metadata": {
    "colab": {
     "base_uri": "https://localhost:8080/",
     "height": 648
    },
    "executionInfo": {
     "elapsed": 14,
     "status": "ok",
     "timestamp": 1740679247786,
     "user": {
      "displayName": "Danny Perilla",
      "userId": "12445778756415185299"
     },
     "user_tz": 300
    },
    "id": "jOLvOCIMLfjz",
    "outputId": "9ca8ecf6-8d36-4729-d4fd-8ec66510340f"
   },
   "outputs": [
    {
     "data": {
      "text/html": [
       "<div>\n",
       "<style scoped>\n",
       "    .dataframe tbody tr th:only-of-type {\n",
       "        vertical-align: middle;\n",
       "    }\n",
       "\n",
       "    .dataframe tbody tr th {\n",
       "        vertical-align: top;\n",
       "    }\n",
       "\n",
       "    .dataframe thead th {\n",
       "        text-align: right;\n",
       "    }\n",
       "</style>\n",
       "<table border=\"1\" class=\"dataframe\">\n",
       "  <thead>\n",
       "    <tr style=\"text-align: right;\">\n",
       "      <th></th>\n",
       "      <th>101</th>\n",
       "    </tr>\n",
       "  </thead>\n",
       "  <tbody>\n",
       "    <tr>\n",
       "      <th>COUNTRY</th>\n",
       "      <td>ARGENTINA</td>\n",
       "    </tr>\n",
       "    <tr>\n",
       "      <th>ASSET</th>\n",
       "      <td>Y8PMI3</td>\n",
       "    </tr>\n",
       "    <tr>\n",
       "      <th>COMPLETION_NUMBER</th>\n",
       "      <td>18</td>\n",
       "    </tr>\n",
       "    <tr>\n",
       "      <th>ACTIVATION_TYPE</th>\n",
       "      <td>ESP</td>\n",
       "    </tr>\n",
       "    <tr>\n",
       "      <th>SUPPLIER</th>\n",
       "      <td>MAC</td>\n",
       "    </tr>\n",
       "    <tr>\n",
       "      <th>ENVIRONMENT</th>\n",
       "      <td>OFFSHORE</td>\n",
       "    </tr>\n",
       "    <tr>\n",
       "      <th>RUNNING_STATUS</th>\n",
       "      <td>PULLED</td>\n",
       "    </tr>\n",
       "    <tr>\n",
       "      <th>INSTALLATION_DATE</th>\n",
       "      <td>2022-10-01 00:00:00</td>\n",
       "    </tr>\n",
       "    <tr>\n",
       "      <th>FAILURE_DATE</th>\n",
       "      <td>2023-07-18 00:00:00</td>\n",
       "    </tr>\n",
       "    <tr>\n",
       "      <th>ACLS_DATE</th>\n",
       "      <td>NaT</td>\n",
       "    </tr>\n",
       "    <tr>\n",
       "      <th>POOH_DATE</th>\n",
       "      <td>2023-07-31 00:00:00</td>\n",
       "    </tr>\n",
       "    <tr>\n",
       "      <th>LAST_UPDATE</th>\n",
       "      <td>0</td>\n",
       "    </tr>\n",
       "    <tr>\n",
       "      <th>RUN_LIFE</th>\n",
       "      <td>290</td>\n",
       "    </tr>\n",
       "    <tr>\n",
       "      <th>RUN_LIFE_2</th>\n",
       "      <td>290 days</td>\n",
       "    </tr>\n",
       "    <tr>\n",
       "      <th>START_DATE</th>\n",
       "      <td>2022-10-01 00:00:00</td>\n",
       "    </tr>\n",
       "    <tr>\n",
       "      <th>START_UP_DELAY</th>\n",
       "      <td>0</td>\n",
       "    </tr>\n",
       "    <tr>\n",
       "      <th>STATUS_CHECK</th>\n",
       "      <td>OK</td>\n",
       "    </tr>\n",
       "    <tr>\n",
       "      <th>DATE/TIME_CHECK</th>\n",
       "      <td>OK</td>\n",
       "    </tr>\n",
       "  </tbody>\n",
       "</table>\n",
       "</div><br><label><b>dtype:</b> object</label>"
      ],
      "text/plain": [
       "COUNTRY                        ARGENTINA\n",
       "ASSET                             Y8PMI3\n",
       "COMPLETION_NUMBER                     18\n",
       "ACTIVATION_TYPE                      ESP\n",
       "SUPPLIER                             MAC\n",
       "ENVIRONMENT                     OFFSHORE\n",
       "RUNNING_STATUS                    PULLED\n",
       "INSTALLATION_DATE    2022-10-01 00:00:00\n",
       "FAILURE_DATE         2023-07-18 00:00:00\n",
       "ACLS_DATE                            NaT\n",
       "POOH_DATE            2023-07-31 00:00:00\n",
       "LAST_UPDATE                            0\n",
       "RUN_LIFE                             290\n",
       "RUN_LIFE_2                      290 days\n",
       "START_DATE           2022-10-01 00:00:00\n",
       "START_UP_DELAY                         0\n",
       "STATUS_CHECK                          OK\n",
       "DATE/TIME_CHECK                       OK\n",
       "Name: 101, dtype: object"
      ]
     },
     "execution_count": 37,
     "metadata": {},
     "output_type": "execute_result"
    }
   ],
   "source": [
    "df_concat.iloc[101][:18]"
   ]
  },
  {
   "cell_type": "code",
   "execution_count": null,
   "metadata": {
    "id": "tQS4fcrS--jC"
   },
   "outputs": [],
   "source": [
    "df_concat['RUN_LIFE_2'] = pd.to_timedelta(df_concat['RUN_LIFE_2'])"
   ]
  },
  {
   "cell_type": "code",
   "execution_count": null,
   "metadata": {
    "id": "-QZGDBg0MHl5"
   },
   "outputs": [],
   "source": [
    "# exportar csv\n",
    "df_reducido.to_csv(f'{BASE_FOLDER}/df_parcial.csv')"
   ]
  },
  {
   "cell_type": "markdown",
   "metadata": {
    "id": "HodJGef5OPsz"
   },
   "source": [
    "El registro 3283 es un dato sin calidad."
   ]
  },
  {
   "cell_type": "code",
   "execution_count": null,
   "metadata": {
    "id": "OemKh_T0ODIK"
   },
   "outputs": [],
   "source": [
    "# llenar con 0 días\n",
    "df_reducido['START_UP_DELAY_2'] = df_reducido['START_UP_DELAY_2'].fillna(pd.Timedelta(days=0))"
   ]
  },
  {
   "cell_type": "code",
   "execution_count": null,
   "metadata": {
    "colab": {
     "base_uri": "https://localhost:8080/",
     "height": 115
    },
    "executionInfo": {
     "elapsed": 16,
     "status": "ok",
     "timestamp": 1740679332448,
     "user": {
      "displayName": "Danny Perilla",
      "userId": "12445778756415185299"
     },
     "user_tz": 300
    },
    "id": "scAdrljoOKMd",
    "outputId": "faf96c17-9cab-4c04-bde8-17f61e6bec81"
   },
   "outputs": [
    {
     "data": {
      "text/html": [
       "<div>\n",
       "<style scoped>\n",
       "    .dataframe tbody tr th:only-of-type {\n",
       "        vertical-align: middle;\n",
       "    }\n",
       "\n",
       "    .dataframe tbody tr th {\n",
       "        vertical-align: top;\n",
       "    }\n",
       "\n",
       "    .dataframe thead th {\n",
       "        text-align: right;\n",
       "    }\n",
       "</style>\n",
       "<table border=\"1\" class=\"dataframe\">\n",
       "  <thead>\n",
       "    <tr style=\"text-align: right;\">\n",
       "      <th></th>\n",
       "      <th>count</th>\n",
       "    </tr>\n",
       "  </thead>\n",
       "  <tbody>\n",
       "    <tr>\n",
       "      <th>True</th>\n",
       "      <td>8289</td>\n",
       "    </tr>\n",
       "  </tbody>\n",
       "</table>\n",
       "</div><br><label><b>dtype:</b> int64</label>"
      ],
      "text/plain": [
       "True    8289\n",
       "Name: count, dtype: int64"
      ]
     },
     "execution_count": 46,
     "metadata": {},
     "output_type": "execute_result"
    }
   ],
   "source": [
    "# comparar START_UP_DELAY y START_UP_DELAY_2 para ver si son iguales\n",
    "(df_reducido['START_UP_DELAY'] == df_reducido['START_UP_DELAY_2'].dt.days).value_counts()"
   ]
  },
  {
   "cell_type": "code",
   "execution_count": null,
   "metadata": {
    "id": "VqmB-UKuQSY9"
   },
   "outputs": [],
   "source": [
    "df_reducido['ORDINAL_CHECK'] = df_concat['ORDINAL_CHECK'].str.upper().str.replace(' ', '_')"
   ]
  },
  {
   "cell_type": "code",
   "execution_count": null,
   "metadata": {
    "colab": {
     "base_uri": "https://localhost:8080/",
     "height": 272
    },
    "executionInfo": {
     "elapsed": 9,
     "status": "ok",
     "timestamp": 1740679346070,
     "user": {
      "displayName": "Danny Perilla",
      "userId": "12445778756415185299"
     },
     "user_tz": 300
    },
    "id": "6KInaSk5Qyah",
    "outputId": "e29cc089-ca6f-47fa-bea0-aaea8e6aecb2"
   },
   "outputs": [
    {
     "data": {
      "text/html": [
       "<div>\n",
       "<style scoped>\n",
       "    .dataframe tbody tr th:only-of-type {\n",
       "        vertical-align: middle;\n",
       "    }\n",
       "\n",
       "    .dataframe tbody tr th {\n",
       "        vertical-align: top;\n",
       "    }\n",
       "\n",
       "    .dataframe thead th {\n",
       "        text-align: right;\n",
       "    }\n",
       "</style>\n",
       "<table border=\"1\" class=\"dataframe\">\n",
       "  <thead>\n",
       "    <tr style=\"text-align: right;\">\n",
       "      <th></th>\n",
       "      <th>count</th>\n",
       "    </tr>\n",
       "    <tr>\n",
       "      <th>ORDINAL_CHECK</th>\n",
       "      <th></th>\n",
       "    </tr>\n",
       "  </thead>\n",
       "  <tbody>\n",
       "    <tr>\n",
       "      <th>NORMAL</th>\n",
       "      <td>6896</td>\n",
       "    </tr>\n",
       "    <tr>\n",
       "      <th>NEW_WELL</th>\n",
       "      <td>1381</td>\n",
       "    </tr>\n",
       "    <tr>\n",
       "      <th>REDUNDANT_WELLS</th>\n",
       "      <td>10</td>\n",
       "    </tr>\n",
       "    <tr>\n",
       "      <th>DATE_ERROR</th>\n",
       "      <td>1</td>\n",
       "    </tr>\n",
       "    <tr>\n",
       "      <th>MISSING_WELLS</th>\n",
       "      <td>1</td>\n",
       "    </tr>\n",
       "  </tbody>\n",
       "</table>\n",
       "</div><br><label><b>dtype:</b> int64</label>"
      ],
      "text/plain": [
       "ORDINAL_CHECK\n",
       "NORMAL             6896\n",
       "NEW_WELL           1381\n",
       "REDUNDANT_WELLS      10\n",
       "DATE_ERROR            1\n",
       "MISSING_WELLS         1\n",
       "Name: count, dtype: int64"
      ]
     },
     "execution_count": 48,
     "metadata": {},
     "output_type": "execute_result"
    }
   ],
   "source": [
    "df_reducido['ORDINAL_CHECK'].value_counts()"
   ]
  },
  {
   "cell_type": "code",
   "execution_count": null,
   "metadata": {
    "id": "xLhvwJBPQ3QN"
   },
   "outputs": [],
   "source": [
    "df_reducido['MAX_INSTALLS'] = df_concat['MAX_INSTALLS']"
   ]
  },
  {
   "cell_type": "code",
   "execution_count": null,
   "metadata": {
    "id": "UsFMwgoVSmxI"
   },
   "outputs": [],
   "source": [
    "df_reducido['STOP_INDEX'] = df_concat['STOP_INDEX']"
   ]
  },
  {
   "cell_type": "code",
   "execution_count": null,
   "metadata": {
    "id": "J09hSXNvS1np"
   },
   "outputs": [],
   "source": [
    "df_concat['STOP_GROUP'] = df_concat['STOP_GROUP'].str.upper().str.replace(' ', '_')"
   ]
  },
  {
   "cell_type": "code",
   "execution_count": null,
   "metadata": {
    "id": "9-oTLj0xTGBg"
   },
   "outputs": [],
   "source": [
    "df_reducido['STOP_GROUP'] = df_concat['STOP_GROUP']"
   ]
  },
  {
   "cell_type": "code",
   "execution_count": null,
   "metadata": {
    "colab": {
     "base_uri": "https://localhost:8080/"
    },
    "executionInfo": {
     "elapsed": 7,
     "status": "ok",
     "timestamp": 1740843111668,
     "user": {
      "displayName": "Danny Perilla",
      "userId": "12445778756415185299"
     },
     "user_tz": 300
    },
    "id": "ZR25MhwVTH0h",
    "outputId": "187e6f05-a644-4e7a-d9e8-e4f98396d778"
   },
   "outputs": [
    {
     "data": {
      "text/plain": [
       "array(['Electric Failure - Unspecified', 'Low Productivity', 'Unknown',\n",
       "       'Cable Failure', 'Installation Mistake',\n",
       "       'Pump Stuck, including scale', 'Intake, pump, or tubing plugged',\n",
       "       'Tubing or comp acc failure', 'ESP Downsize', 'Operation',\n",
       "       'Broken Shaft or Coupling', 'High BSW', '-', 'Low efficiency',\n",
       "       'Corrosion', 'Pump Failure', 'Wrong ESP or Change ESP design',\n",
       "       'MLE or Pothead failure', 'Splice Failure',\n",
       "       'Temporarily Abandoned', 'Mechanical Failure - unspecified',\n",
       "       'Unspecified Failure', 'ESP Upsize', 'Motor failure',\n",
       "       'WH Penetrator or Connector', 'Mechanical - Overload',\n",
       "       'Protector or seal failure', nan, 'Motor Failure',\n",
       "       'Elective - Unspecified',\n",
       "       'Packer penetrator/connector or HAS Failure',\n",
       "       'Acidize/Stimulation', 'Electric Failure - Multiple Elements',\n",
       "       'Permanently Abandoned', 'Water Shutoff',\n",
       "       'Zone change or addition', 'New perforations or re-perforate',\n",
       "       'Converted to Injector', 'gas lock', 'WELL INTEGRITY',\n",
       "       'Converted Lift Method', 'Casing integrity or collapse',\n",
       "       'Sand production, sand bridging, sand plug, or GP failure',\n",
       "       'Lease Expired', 'Sidetrack', 'Discharge Sub or Head', 'Abandoned',\n",
       "       'Elastomer or Stator failure', 'Packer Failure', 'Splice failure',\n",
       "       'Gas Lock', 'Paraffin', 'Intake or gas separator failure',\n",
       "       'Cable failure', 'Pump failure', 'Well integrity', 'ESP deepening',\n",
       "       'Well cleaning', 'ESP Deepening', 'Sabotage', 'Convert to PMM',\n",
       "       'Well Chemical Treatment'], dtype=object)"
      ]
     },
     "execution_count": 51,
     "metadata": {},
     "output_type": "execute_result"
    }
   ],
   "source": [
    "df_concat['REASON_FOR_STOP_OR_POOH'].unique()"
   ]
  },
  {
   "cell_type": "code",
   "execution_count": null,
   "metadata": {
    "collapsed": true,
    "id": "tsavOekjWHzp",
    "jupyter": {
     "outputs_hidden": true
    }
   },
   "outputs": [],
   "source": [
    "df_concat['STATUS_CHECK'].value_counts()"
   ]
  },
  {
   "cell_type": "code",
   "execution_count": null,
   "metadata": {
    "colab": {
     "base_uri": "https://localhost:8080/",
     "height": 130
    },
    "executionInfo": {
     "elapsed": 9,
     "status": "ok",
     "timestamp": 1740679369071,
     "user": {
      "displayName": "Danny Perilla",
      "userId": "12445778756415185299"
     },
     "user_tz": 300
    },
    "id": "vHGforYKWRce",
    "outputId": "dfbf913e-ff7f-4240-877e-bf41891308f4"
   },
   "outputs": [
    {
     "data": {
      "application/vnd.google.colaboratory.intrinsic+json": {
       "type": "dataframe"
      },
      "text/html": [
       "\n",
       "  <div id=\"df-1e41e933-2a68-4981-b810-92f8da0b0be9\" class=\"colab-df-container\">\n",
       "    <div>\n",
       "<style scoped>\n",
       "    .dataframe tbody tr th:only-of-type {\n",
       "        vertical-align: middle;\n",
       "    }\n",
       "\n",
       "    .dataframe tbody tr th {\n",
       "        vertical-align: top;\n",
       "    }\n",
       "\n",
       "    .dataframe thead th {\n",
       "        text-align: right;\n",
       "    }\n",
       "</style>\n",
       "<table border=\"1\" class=\"dataframe\">\n",
       "  <thead>\n",
       "    <tr style=\"text-align: right;\">\n",
       "      <th></th>\n",
       "      <th>COUNTRY</th>\n",
       "      <th>ASSET</th>\n",
       "      <th>COMPLETION_NUMBER</th>\n",
       "      <th>ACTIVATION_TYPE</th>\n",
       "      <th>SUPPLIER</th>\n",
       "      <th>ENVIRONMENT</th>\n",
       "      <th>RUNNING_STATUS</th>\n",
       "      <th>INSTALLATION_DATE</th>\n",
       "      <th>FAILURE_DATE</th>\n",
       "      <th>ACLS_DATE</th>\n",
       "      <th>...</th>\n",
       "      <th>H2S_(Y/N)</th>\n",
       "      <th>CHEMICAL_INJECTION_(Y/N)</th>\n",
       "      <th>USAGE_MOTOR</th>\n",
       "      <th>USAGE_PUMP</th>\n",
       "      <th>USAGE_PROTECTOR</th>\n",
       "      <th>USAGE_INTAKE</th>\n",
       "      <th>USAGE_ROUND</th>\n",
       "      <th>USAGE_FLAT</th>\n",
       "      <th>USAGE_GAUGE</th>\n",
       "      <th>PUMP_IS_NEW?</th>\n",
       "    </tr>\n",
       "  </thead>\n",
       "  <tbody>\n",
       "    <tr>\n",
       "      <th>3283</th>\n",
       "      <td>INDIA</td>\n",
       "      <td>LKLMIMX2GI</td>\n",
       "      <td>3</td>\n",
       "      <td>ESP</td>\n",
       "      <td>GOONER</td>\n",
       "      <td>OFFSHORE</td>\n",
       "      <td>PULLED</td>\n",
       "      <td>NaT</td>\n",
       "      <td>NaT</td>\n",
       "      <td>NaT</td>\n",
       "      <td>...</td>\n",
       "      <td>NaN</td>\n",
       "      <td>NaN</td>\n",
       "      <td>NaN</td>\n",
       "      <td>NaN</td>\n",
       "      <td>NaN</td>\n",
       "      <td>NaN</td>\n",
       "      <td>NaN</td>\n",
       "      <td>NaN</td>\n",
       "      <td>NaN</td>\n",
       "      <td>Unknown</td>\n",
       "    </tr>\n",
       "  </tbody>\n",
       "</table>\n",
       "<p>1 rows × 94 columns</p>\n",
       "</div>\n",
       "    <div class=\"colab-df-buttons\">\n",
       "\n",
       "  <div class=\"colab-df-container\">\n",
       "    <button class=\"colab-df-convert\" onclick=\"convertToInteractive('df-1e41e933-2a68-4981-b810-92f8da0b0be9')\"\n",
       "            title=\"Convert this dataframe to an interactive table.\"\n",
       "            style=\"display:none;\">\n",
       "\n",
       "  <svg xmlns=\"http://www.w3.org/2000/svg\" height=\"24px\" viewBox=\"0 -960 960 960\">\n",
       "    <path d=\"M120-120v-720h720v720H120Zm60-500h600v-160H180v160Zm220 220h160v-160H400v160Zm0 220h160v-160H400v160ZM180-400h160v-160H180v160Zm440 0h160v-160H620v160ZM180-180h160v-160H180v160Zm440 0h160v-160H620v160Z\"/>\n",
       "  </svg>\n",
       "    </button>\n",
       "\n",
       "  <style>\n",
       "    .colab-df-container {\n",
       "      display:flex;\n",
       "      gap: 12px;\n",
       "    }\n",
       "\n",
       "    .colab-df-convert {\n",
       "      background-color: #E8F0FE;\n",
       "      border: none;\n",
       "      border-radius: 50%;\n",
       "      cursor: pointer;\n",
       "      display: none;\n",
       "      fill: #1967D2;\n",
       "      height: 32px;\n",
       "      padding: 0 0 0 0;\n",
       "      width: 32px;\n",
       "    }\n",
       "\n",
       "    .colab-df-convert:hover {\n",
       "      background-color: #E2EBFA;\n",
       "      box-shadow: 0px 1px 2px rgba(60, 64, 67, 0.3), 0px 1px 3px 1px rgba(60, 64, 67, 0.15);\n",
       "      fill: #174EA6;\n",
       "    }\n",
       "\n",
       "    .colab-df-buttons div {\n",
       "      margin-bottom: 4px;\n",
       "    }\n",
       "\n",
       "    [theme=dark] .colab-df-convert {\n",
       "      background-color: #3B4455;\n",
       "      fill: #D2E3FC;\n",
       "    }\n",
       "\n",
       "    [theme=dark] .colab-df-convert:hover {\n",
       "      background-color: #434B5C;\n",
       "      box-shadow: 0px 1px 3px 1px rgba(0, 0, 0, 0.15);\n",
       "      filter: drop-shadow(0px 1px 2px rgba(0, 0, 0, 0.3));\n",
       "      fill: #FFFFFF;\n",
       "    }\n",
       "  </style>\n",
       "\n",
       "    <script>\n",
       "      const buttonEl =\n",
       "        document.querySelector('#df-1e41e933-2a68-4981-b810-92f8da0b0be9 button.colab-df-convert');\n",
       "      buttonEl.style.display =\n",
       "        google.colab.kernel.accessAllowed ? 'block' : 'none';\n",
       "\n",
       "      async function convertToInteractive(key) {\n",
       "        const element = document.querySelector('#df-1e41e933-2a68-4981-b810-92f8da0b0be9');\n",
       "        const dataTable =\n",
       "          await google.colab.kernel.invokeFunction('convertToInteractive',\n",
       "                                                    [key], {});\n",
       "        if (!dataTable) return;\n",
       "\n",
       "        const docLinkHtml = 'Like what you see? Visit the ' +\n",
       "          '<a target=\"_blank\" href=https://colab.research.google.com/notebooks/data_table.ipynb>data table notebook</a>'\n",
       "          + ' to learn more about interactive tables.';\n",
       "        element.innerHTML = '';\n",
       "        dataTable['output_type'] = 'display_data';\n",
       "        await google.colab.output.renderOutput(dataTable, element);\n",
       "        const docLink = document.createElement('div');\n",
       "        docLink.innerHTML = docLinkHtml;\n",
       "        element.appendChild(docLink);\n",
       "      }\n",
       "    </script>\n",
       "  </div>\n",
       "\n",
       "\n",
       "    </div>\n",
       "  </div>\n"
      ],
      "text/plain": [
       "     COUNTRY       ASSET  COMPLETION_NUMBER ACTIVATION_TYPE SUPPLIER  \\\n",
       "3283   INDIA  LKLMIMX2GI                  3             ESP   GOONER   \n",
       "\n",
       "     ENVIRONMENT RUNNING_STATUS INSTALLATION_DATE FAILURE_DATE ACLS_DATE  ...  \\\n",
       "3283    OFFSHORE         PULLED               NaT          NaT       NaT  ...   \n",
       "\n",
       "     H2S_(Y/N)  CHEMICAL_INJECTION_(Y/N)  USAGE_MOTOR USAGE_PUMP  \\\n",
       "3283       NaN                       NaN          NaN        NaN   \n",
       "\n",
       "     USAGE_PROTECTOR  USAGE_INTAKE USAGE_ROUND USAGE_FLAT USAGE_GAUGE  \\\n",
       "3283             NaN           NaN         NaN        NaN         NaN   \n",
       "\n",
       "      PUMP_IS_NEW?  \n",
       "3283       Unknown  \n",
       "\n",
       "[1 rows x 94 columns]"
      ]
     },
     "execution_count": 55,
     "metadata": {},
     "output_type": "execute_result"
    }
   ],
   "source": [
    "df_concat[df['STATUS_CHECK']=='Data Error']"
   ]
  },
  {
   "cell_type": "code",
   "execution_count": null,
   "metadata": {
    "colab": {
     "base_uri": "https://localhost:8080/",
     "height": 146
    },
    "executionInfo": {
     "elapsed": 11,
     "status": "ok",
     "timestamp": 1740679371723,
     "user": {
      "displayName": "Danny Perilla",
      "userId": "12445778756415185299"
     },
     "user_tz": 300
    },
    "id": "Tvtc7UxLWhHZ",
    "outputId": "df385496-b22c-4df5-b59b-e1463679ad3e"
   },
   "outputs": [
    {
     "data": {
      "text/html": [
       "<div>\n",
       "<style scoped>\n",
       "    .dataframe tbody tr th:only-of-type {\n",
       "        vertical-align: middle;\n",
       "    }\n",
       "\n",
       "    .dataframe tbody tr th {\n",
       "        vertical-align: top;\n",
       "    }\n",
       "\n",
       "    .dataframe thead th {\n",
       "        text-align: right;\n",
       "    }\n",
       "</style>\n",
       "<table border=\"1\" class=\"dataframe\">\n",
       "  <thead>\n",
       "    <tr style=\"text-align: right;\">\n",
       "      <th></th>\n",
       "      <th>count</th>\n",
       "    </tr>\n",
       "    <tr>\n",
       "      <th>DATE/TIME_CHECK</th>\n",
       "      <th></th>\n",
       "    </tr>\n",
       "  </thead>\n",
       "  <tbody>\n",
       "    <tr>\n",
       "      <th>OK</th>\n",
       "      <td>8289</td>\n",
       "    </tr>\n",
       "  </tbody>\n",
       "</table>\n",
       "</div><br><label><b>dtype:</b> int64</label>"
      ],
      "text/plain": [
       "DATE/TIME_CHECK\n",
       "OK    8289\n",
       "Name: count, dtype: int64"
      ]
     },
     "execution_count": 56,
     "metadata": {},
     "output_type": "execute_result"
    }
   ],
   "source": [
    "df_concat['DATE/TIME_CHECK'].value_counts()"
   ]
  },
  {
   "cell_type": "code",
   "execution_count": null,
   "metadata": {
    "colab": {
     "base_uri": "https://localhost:8080/",
     "height": 272
    },
    "executionInfo": {
     "elapsed": 7,
     "status": "ok",
     "timestamp": 1740679375525,
     "user": {
      "displayName": "Danny Perilla",
      "userId": "12445778756415185299"
     },
     "user_tz": 300
    },
    "id": "3zDYAuefXSkJ",
    "outputId": "ae2e2054-6e8c-40a1-9b34-3d4b20a2ea62"
   },
   "outputs": [
    {
     "data": {
      "text/html": [
       "<div>\n",
       "<style scoped>\n",
       "    .dataframe tbody tr th:only-of-type {\n",
       "        vertical-align: middle;\n",
       "    }\n",
       "\n",
       "    .dataframe tbody tr th {\n",
       "        vertical-align: top;\n",
       "    }\n",
       "\n",
       "    .dataframe thead th {\n",
       "        text-align: right;\n",
       "    }\n",
       "</style>\n",
       "<table border=\"1\" class=\"dataframe\">\n",
       "  <thead>\n",
       "    <tr style=\"text-align: right;\">\n",
       "      <th></th>\n",
       "      <th>count</th>\n",
       "    </tr>\n",
       "    <tr>\n",
       "      <th>ORDINAL_CHECK</th>\n",
       "      <th></th>\n",
       "    </tr>\n",
       "  </thead>\n",
       "  <tbody>\n",
       "    <tr>\n",
       "      <th>NORMAL</th>\n",
       "      <td>6896</td>\n",
       "    </tr>\n",
       "    <tr>\n",
       "      <th>NEW_WELL</th>\n",
       "      <td>1381</td>\n",
       "    </tr>\n",
       "    <tr>\n",
       "      <th>REDUNDANT_WELLS</th>\n",
       "      <td>10</td>\n",
       "    </tr>\n",
       "    <tr>\n",
       "      <th>DATE_ERROR</th>\n",
       "      <td>1</td>\n",
       "    </tr>\n",
       "    <tr>\n",
       "      <th>MISSING_WELLS</th>\n",
       "      <td>1</td>\n",
       "    </tr>\n",
       "  </tbody>\n",
       "</table>\n",
       "</div><br><label><b>dtype:</b> int64</label>"
      ],
      "text/plain": [
       "ORDINAL_CHECK\n",
       "NORMAL             6896\n",
       "NEW_WELL           1381\n",
       "REDUNDANT_WELLS      10\n",
       "DATE_ERROR            1\n",
       "MISSING_WELLS         1\n",
       "Name: count, dtype: int64"
      ]
     },
     "execution_count": 57,
     "metadata": {},
     "output_type": "execute_result"
    }
   ],
   "source": [
    "df_reducido['ORDINAL_CHECK'].value_counts()"
   ]
  },
  {
   "cell_type": "code",
   "execution_count": null,
   "metadata": {
    "colab": {
     "base_uri": "https://localhost:8080/",
     "height": 178
    },
    "executionInfo": {
     "elapsed": 23,
     "status": "ok",
     "timestamp": 1740679387480,
     "user": {
      "displayName": "Danny Perilla",
      "userId": "12445778756415185299"
     },
     "user_tz": 300
    },
    "id": "0g3C_HkmYHjY",
    "outputId": "74e17787-af88-4e61-98b3-edf2db22fc20"
   },
   "outputs": [
    {
     "data": {
      "text/html": [
       "<div>\n",
       "<style scoped>\n",
       "    .dataframe tbody tr th:only-of-type {\n",
       "        vertical-align: middle;\n",
       "    }\n",
       "\n",
       "    .dataframe tbody tr th {\n",
       "        vertical-align: top;\n",
       "    }\n",
       "\n",
       "    .dataframe thead th {\n",
       "        text-align: right;\n",
       "    }\n",
       "</style>\n",
       "<table border=\"1\" class=\"dataframe\">\n",
       "  <thead>\n",
       "    <tr style=\"text-align: right;\">\n",
       "      <th></th>\n",
       "      <th>count</th>\n",
       "    </tr>\n",
       "    <tr>\n",
       "      <th>LAST_INSTALL</th>\n",
       "      <th></th>\n",
       "    </tr>\n",
       "  </thead>\n",
       "  <tbody>\n",
       "    <tr>\n",
       "      <th>No</th>\n",
       "      <td>6859</td>\n",
       "    </tr>\n",
       "    <tr>\n",
       "      <th>Yes</th>\n",
       "      <td>1430</td>\n",
       "    </tr>\n",
       "  </tbody>\n",
       "</table>\n",
       "</div><br><label><b>dtype:</b> int64</label>"
      ],
      "text/plain": [
       "LAST_INSTALL\n",
       "No     6859\n",
       "Yes    1430\n",
       "Name: count, dtype: int64"
      ]
     },
     "execution_count": 58,
     "metadata": {},
     "output_type": "execute_result"
    }
   ],
   "source": [
    "df_concat['LAST_INSTALL'].value_counts()"
   ]
  },
  {
   "cell_type": "code",
   "execution_count": null,
   "metadata": {
    "id": "824ipFm1YYHh"
   },
   "outputs": [],
   "source": [
    "# binarizar yes 1 no 0\n",
    "df_concat['LAST_INSTALL'] = df_concat['LAST_INSTALL'].apply(lambda x: 1 if x == 'Yes' else 0)"
   ]
  },
  {
   "cell_type": "code",
   "execution_count": null,
   "metadata": {
    "id": "6bCpMKT5YpYP"
   },
   "outputs": [],
   "source": [
    "df_reducido['LAST_INSTALL'] = df_concat['LAST_INSTALL']"
   ]
  },
  {
   "cell_type": "code",
   "execution_count": null,
   "metadata": {
    "colab": {
     "base_uri": "https://localhost:8080/",
     "height": 178
    },
    "executionInfo": {
     "elapsed": 42,
     "status": "ok",
     "timestamp": 1740679395192,
     "user": {
      "displayName": "Danny Perilla",
      "userId": "12445778756415185299"
     },
     "user_tz": 300
    },
    "id": "UHC_FPgXYuyg",
    "outputId": "a682b280-aa48-4609-8da5-111a1952bb26"
   },
   "outputs": [
    {
     "data": {
      "text/html": [
       "<div>\n",
       "<style scoped>\n",
       "    .dataframe tbody tr th:only-of-type {\n",
       "        vertical-align: middle;\n",
       "    }\n",
       "\n",
       "    .dataframe tbody tr th {\n",
       "        vertical-align: top;\n",
       "    }\n",
       "\n",
       "    .dataframe thead th {\n",
       "        text-align: right;\n",
       "    }\n",
       "</style>\n",
       "<table border=\"1\" class=\"dataframe\">\n",
       "  <thead>\n",
       "    <tr style=\"text-align: right;\">\n",
       "      <th></th>\n",
       "      <th>count</th>\n",
       "    </tr>\n",
       "    <tr>\n",
       "      <th>LAST_INSTALL</th>\n",
       "      <th></th>\n",
       "    </tr>\n",
       "  </thead>\n",
       "  <tbody>\n",
       "    <tr>\n",
       "      <th>0</th>\n",
       "      <td>6859</td>\n",
       "    </tr>\n",
       "    <tr>\n",
       "      <th>1</th>\n",
       "      <td>1430</td>\n",
       "    </tr>\n",
       "  </tbody>\n",
       "</table>\n",
       "</div><br><label><b>dtype:</b> int64</label>"
      ],
      "text/plain": [
       "LAST_INSTALL\n",
       "0    6859\n",
       "1    1430\n",
       "Name: count, dtype: int64"
      ]
     },
     "execution_count": 61,
     "metadata": {},
     "output_type": "execute_result"
    }
   ],
   "source": [
    "df_reducido['LAST_INSTALL'].value_counts()"
   ]
  },
  {
   "cell_type": "code",
   "execution_count": null,
   "metadata": {
    "colab": {
     "base_uri": "https://localhost:8080/"
    },
    "executionInfo": {
     "elapsed": 19,
     "status": "ok",
     "timestamp": 1740679402261,
     "user": {
      "displayName": "Danny Perilla",
      "userId": "12445778756415185299"
     },
     "user_tz": 300
    },
    "id": "ihPR1RNXY1iS",
    "outputId": "83c63924-746a-4e8e-d20c-90d855e7b739"
   },
   "outputs": [
    {
     "name": "stderr",
     "output_type": "stream",
     "text": [
      "<ipython-input-62-720cf645d4ed>:1: UserWarning: Boolean Series key will be reindexed to match DataFrame index.\n",
      "  df_reducido[df_reducido['LAST_INSTALL']==1][df_reducido['RUNNING_STATUS']=='RUNNING'].shape[0]\n"
     ]
    },
    {
     "data": {
      "text/plain": [
       "575"
      ]
     },
     "execution_count": 62,
     "metadata": {},
     "output_type": "execute_result"
    }
   ],
   "source": [
    "df_reducido[df_reducido['LAST_INSTALL']==1][df_reducido['RUNNING_STATUS']=='RUNNING'].shape[0]"
   ]
  },
  {
   "cell_type": "markdown",
   "metadata": {
    "id": "8jLEZsGtZNRf"
   },
   "source": [
    "De los 1430 equipos que están etiquetados como ultima instalción, hay 575 en operación. La diferencia indica posos que ya no cuentan con equipos."
   ]
  },
  {
   "cell_type": "code",
   "execution_count": null,
   "metadata": {
    "colab": {
     "base_uri": "https://localhost:8080/",
     "height": 146
    },
    "executionInfo": {
     "elapsed": 12,
     "status": "ok",
     "timestamp": 1740679406651,
     "user": {
      "displayName": "Danny Perilla",
      "userId": "12445778756415185299"
     },
     "user_tz": 300
    },
    "id": "Al_et7lpZfkB",
    "outputId": "d76f11e2-c161-4a70-d593-2fffc9e8cb37"
   },
   "outputs": [
    {
     "data": {
      "text/html": [
       "<div>\n",
       "<style scoped>\n",
       "    .dataframe tbody tr th:only-of-type {\n",
       "        vertical-align: middle;\n",
       "    }\n",
       "\n",
       "    .dataframe tbody tr th {\n",
       "        vertical-align: top;\n",
       "    }\n",
       "\n",
       "    .dataframe thead th {\n",
       "        text-align: right;\n",
       "    }\n",
       "</style>\n",
       "<table border=\"1\" class=\"dataframe\">\n",
       "  <thead>\n",
       "    <tr style=\"text-align: right;\">\n",
       "      <th></th>\n",
       "      <th>count</th>\n",
       "    </tr>\n",
       "    <tr>\n",
       "      <th>CHECKS</th>\n",
       "      <th></th>\n",
       "    </tr>\n",
       "  </thead>\n",
       "  <tbody>\n",
       "    <tr>\n",
       "      <th>OK</th>\n",
       "      <td>8289</td>\n",
       "    </tr>\n",
       "  </tbody>\n",
       "</table>\n",
       "</div><br><label><b>dtype:</b> int64</label>"
      ],
      "text/plain": [
       "CHECKS\n",
       "OK    8289\n",
       "Name: count, dtype: int64"
      ]
     },
     "execution_count": 63,
     "metadata": {},
     "output_type": "execute_result"
    }
   ],
   "source": [
    "df_concat['CHECKS'].value_counts()"
   ]
  },
  {
   "cell_type": "code",
   "execution_count": null,
   "metadata": {
    "colab": {
     "base_uri": "https://localhost:8080/"
    },
    "executionInfo": {
     "elapsed": 23,
     "status": "ok",
     "timestamp": 1740681309737,
     "user": {
      "displayName": "Danny Perilla",
      "userId": "12445778756415185299"
     },
     "user_tz": 300
    },
    "id": "KXxBddn3apLg",
    "outputId": "80f91afa-98b2-4e13-adc5-ba736edff99d"
   },
   "outputs": [
    {
     "data": {
      "text/plain": [
       "597"
      ]
     },
     "execution_count": 86,
     "metadata": {},
     "output_type": "execute_result"
    }
   ],
   "source": [
    "df_concat[df_concat['STOP_INDEX']==1].shape[0]"
   ]
  },
  {
   "cell_type": "code",
   "execution_count": null,
   "metadata": {
    "colab": {
     "base_uri": "https://localhost:8080/",
     "height": 272
    },
    "executionInfo": {
     "elapsed": 38,
     "status": "ok",
     "timestamp": 1740843162343,
     "user": {
      "displayName": "Danny Perilla",
      "userId": "12445778756415185299"
     },
     "user_tz": 300
    },
    "id": "4igFJ3JbwfBz",
    "outputId": "b8ae3482-56d7-4a90-bb40-214ee8dfb089"
   },
   "outputs": [
    {
     "data": {
      "text/html": [
       "<div>\n",
       "<style scoped>\n",
       "    .dataframe tbody tr th:only-of-type {\n",
       "        vertical-align: middle;\n",
       "    }\n",
       "\n",
       "    .dataframe tbody tr th {\n",
       "        vertical-align: top;\n",
       "    }\n",
       "\n",
       "    .dataframe thead th {\n",
       "        text-align: right;\n",
       "    }\n",
       "</style>\n",
       "<table border=\"1\" class=\"dataframe\">\n",
       "  <thead>\n",
       "    <tr style=\"text-align: right;\">\n",
       "      <th></th>\n",
       "      <th>count</th>\n",
       "    </tr>\n",
       "    <tr>\n",
       "      <th>RUNNING_STATUS</th>\n",
       "      <th></th>\n",
       "    </tr>\n",
       "  </thead>\n",
       "  <tbody>\n",
       "    <tr>\n",
       "      <th>PULLED</th>\n",
       "      <td>6922</td>\n",
       "    </tr>\n",
       "    <tr>\n",
       "      <th>RUNNING</th>\n",
       "      <td>575</td>\n",
       "    </tr>\n",
       "    <tr>\n",
       "      <th>ACLS</th>\n",
       "      <td>542</td>\n",
       "    </tr>\n",
       "    <tr>\n",
       "      <th>FAILED</th>\n",
       "      <td>174</td>\n",
       "    </tr>\n",
       "    <tr>\n",
       "      <th>IDLE</th>\n",
       "      <td>76</td>\n",
       "    </tr>\n",
       "  </tbody>\n",
       "</table>\n",
       "</div><br><label><b>dtype:</b> int64</label>"
      ],
      "text/plain": [
       "RUNNING_STATUS\n",
       "PULLED     6922\n",
       "RUNNING     575\n",
       "ACLS        542\n",
       "FAILED      174\n",
       "IDLE         76\n",
       "Name: count, dtype: int64"
      ]
     },
     "execution_count": 53,
     "metadata": {},
     "output_type": "execute_result"
    }
   ],
   "source": [
    "df_concat['RUNNING_STATUS'].value_counts()"
   ]
  },
  {
   "cell_type": "code",
   "execution_count": null,
   "metadata": {
    "colab": {
     "base_uri": "https://localhost:8080/",
     "height": 272
    },
    "executionInfo": {
     "elapsed": 25,
     "status": "ok",
     "timestamp": 1740843173882,
     "user": {
      "displayName": "Danny Perilla",
      "userId": "12445778756415185299"
     },
     "user_tz": 300
    },
    "id": "ibvc-IQIbK8f",
    "outputId": "1ad7a266-6900-46ae-81de-179bff066e44"
   },
   "outputs": [
    {
     "data": {
      "text/html": [
       "<div>\n",
       "<style scoped>\n",
       "    .dataframe tbody tr th:only-of-type {\n",
       "        vertical-align: middle;\n",
       "    }\n",
       "\n",
       "    .dataframe tbody tr th {\n",
       "        vertical-align: top;\n",
       "    }\n",
       "\n",
       "    .dataframe thead th {\n",
       "        text-align: right;\n",
       "    }\n",
       "</style>\n",
       "<table border=\"1\" class=\"dataframe\">\n",
       "  <thead>\n",
       "    <tr style=\"text-align: right;\">\n",
       "      <th></th>\n",
       "      <th>count</th>\n",
       "    </tr>\n",
       "    <tr>\n",
       "      <th>RUNNING_STATUS</th>\n",
       "      <th></th>\n",
       "    </tr>\n",
       "  </thead>\n",
       "  <tbody>\n",
       "    <tr>\n",
       "      <th>RUNNING</th>\n",
       "      <td>575</td>\n",
       "    </tr>\n",
       "    <tr>\n",
       "      <th>IDLE</th>\n",
       "      <td>37</td>\n",
       "    </tr>\n",
       "    <tr>\n",
       "      <th>PULLED</th>\n",
       "      <td>12</td>\n",
       "    </tr>\n",
       "    <tr>\n",
       "      <th>ACLS</th>\n",
       "      <td>4</td>\n",
       "    </tr>\n",
       "    <tr>\n",
       "      <th>FAILED</th>\n",
       "      <td>3</td>\n",
       "    </tr>\n",
       "  </tbody>\n",
       "</table>\n",
       "</div><br><label><b>dtype:</b> int64</label>"
      ],
      "text/plain": [
       "RUNNING_STATUS\n",
       "RUNNING    575\n",
       "IDLE        37\n",
       "PULLED      12\n",
       "ACLS         4\n",
       "FAILED       3\n",
       "Name: count, dtype: int64"
      ]
     },
     "execution_count": 54,
     "metadata": {},
     "output_type": "execute_result"
    }
   ],
   "source": [
    "df_concat[df_concat['STOP_INDEX']==1]['RUNNING_STATUS'].value_counts()"
   ]
  },
  {
   "cell_type": "code",
   "execution_count": null,
   "metadata": {
    "colab": {
     "base_uri": "https://localhost:8080/"
    },
    "executionInfo": {
     "elapsed": 23,
     "status": "ok",
     "timestamp": 1740681829414,
     "user": {
      "displayName": "Danny Perilla",
      "userId": "12445778756415185299"
     },
     "user_tz": 300
    },
    "id": "mN6yWjFjcg1H",
    "outputId": "fa9da689-f62b-4370-9d04-fc4fc4d51f48"
   },
   "outputs": [
    {
     "name": "stderr",
     "output_type": "stream",
     "text": [
      "<ipython-input-98-6b30af861ba1>:1: UserWarning: Boolean Series key will be reindexed to match DataFrame index.\n",
      "  indices_nan = df_concat[df_concat['RUNNING_STATUS']=='RUNNING'][df_concat['STOP_INDEX'] != 1][['COMPLETION_NUMBER', 'STOP_INDEX', 'STOP_GROUP','REASON_FOR_STOP_OR_POOH']].index\n"
     ]
    }
   ],
   "source": [
    "indices_nan = df_concat[df_concat['RUNNING_STATUS']=='RUNNING'][df_concat['STOP_INDEX'] != 1][['COMPLETION_NUMBER', 'STOP_INDEX', 'STOP_GROUP','REASON_FOR_STOP_OR_POOH']].index"
   ]
  },
  {
   "cell_type": "code",
   "execution_count": null,
   "metadata": {
    "id": "xSmykYw9uOPZ"
   },
   "outputs": [],
   "source": [
    "df_concat.loc[indices_nan, 'STOP_INDEX'] = 1"
   ]
  },
  {
   "cell_type": "code",
   "execution_count": null,
   "metadata": {
    "colab": {
     "base_uri": "https://localhost:8080/",
     "height": 1000
    },
    "collapsed": true,
    "executionInfo": {
     "elapsed": 6,
     "status": "ok",
     "timestamp": 1740681271891,
     "user": {
      "displayName": "Danny Perilla",
      "userId": "12445778756415185299"
     },
     "user_tz": 300
    },
    "id": "CuTbxbkVgX_e",
    "jupyter": {
     "outputs_hidden": true
    },
    "outputId": "0df276ee-a2fd-4d3b-8a75-be5750a54c69"
   },
   "outputs": [
    {
     "data": {
      "text/html": [
       "<div>\n",
       "<style scoped>\n",
       "    .dataframe tbody tr th:only-of-type {\n",
       "        vertical-align: middle;\n",
       "    }\n",
       "\n",
       "    .dataframe tbody tr th {\n",
       "        vertical-align: top;\n",
       "    }\n",
       "\n",
       "    .dataframe thead th {\n",
       "        text-align: right;\n",
       "    }\n",
       "</style>\n",
       "<table border=\"1\" class=\"dataframe\">\n",
       "  <thead>\n",
       "    <tr style=\"text-align: right;\">\n",
       "      <th></th>\n",
       "      <th>1831</th>\n",
       "    </tr>\n",
       "  </thead>\n",
       "  <tbody>\n",
       "    <tr>\n",
       "      <th>COUNTRY</th>\n",
       "      <td>ARGENTINA</td>\n",
       "    </tr>\n",
       "    <tr>\n",
       "      <th>ASSET</th>\n",
       "      <td>VMLM6X</td>\n",
       "    </tr>\n",
       "    <tr>\n",
       "      <th>COMPLETION_NUMBER</th>\n",
       "      <td>12</td>\n",
       "    </tr>\n",
       "    <tr>\n",
       "      <th>ACTIVATION_TYPE</th>\n",
       "      <td>ESP</td>\n",
       "    </tr>\n",
       "    <tr>\n",
       "      <th>SUPPLIER</th>\n",
       "      <td>GOONER</td>\n",
       "    </tr>\n",
       "    <tr>\n",
       "      <th>ENVIRONMENT</th>\n",
       "      <td>OFFSHORE</td>\n",
       "    </tr>\n",
       "    <tr>\n",
       "      <th>RUNNING_STATUS</th>\n",
       "      <td>RUNNING</td>\n",
       "    </tr>\n",
       "    <tr>\n",
       "      <th>INSTALLATION_DATE</th>\n",
       "      <td>2023-03-26 00:00:00</td>\n",
       "    </tr>\n",
       "    <tr>\n",
       "      <th>FAILURE_DATE</th>\n",
       "      <td>NaT</td>\n",
       "    </tr>\n",
       "    <tr>\n",
       "      <th>ACLS_DATE</th>\n",
       "      <td>NaT</td>\n",
       "    </tr>\n",
       "    <tr>\n",
       "      <th>POOH_DATE</th>\n",
       "      <td>NaT</td>\n",
       "    </tr>\n",
       "    <tr>\n",
       "      <th>LAST_UPDATE</th>\n",
       "      <td>1</td>\n",
       "    </tr>\n",
       "    <tr>\n",
       "      <th>RUN_LIFE</th>\n",
       "      <td>655</td>\n",
       "    </tr>\n",
       "    <tr>\n",
       "      <th>RUN_LIFE_2</th>\n",
       "      <td>NaT</td>\n",
       "    </tr>\n",
       "    <tr>\n",
       "      <th>START_DATE</th>\n",
       "      <td>2023-03-28 00:00:00</td>\n",
       "    </tr>\n",
       "    <tr>\n",
       "      <th>START_UP_DELAY</th>\n",
       "      <td>2</td>\n",
       "    </tr>\n",
       "    <tr>\n",
       "      <th>STATUS_CHECK</th>\n",
       "      <td>OK</td>\n",
       "    </tr>\n",
       "    <tr>\n",
       "      <th>DATE/TIME_CHECK</th>\n",
       "      <td>OK</td>\n",
       "    </tr>\n",
       "    <tr>\n",
       "      <th>ORDINAL_CHECK</th>\n",
       "      <td>Normal</td>\n",
       "    </tr>\n",
       "    <tr>\n",
       "      <th>MAX_INSTALLS</th>\n",
       "      <td>12</td>\n",
       "    </tr>\n",
       "    <tr>\n",
       "      <th>LAST_INSTALL</th>\n",
       "      <td>1</td>\n",
       "    </tr>\n",
       "    <tr>\n",
       "      <th>CHECKS</th>\n",
       "      <td>OK</td>\n",
       "    </tr>\n",
       "    <tr>\n",
       "      <th>STOP_INDEX</th>\n",
       "      <td>1.0</td>\n",
       "    </tr>\n",
       "    <tr>\n",
       "      <th>STOP_GROUP</th>\n",
       "      <td>NaN</td>\n",
       "    </tr>\n",
       "    <tr>\n",
       "      <th>REASON_FOR_STOP_OR_POOH</th>\n",
       "      <td>NaN</td>\n",
       "    </tr>\n",
       "    <tr>\n",
       "      <th>CLASS</th>\n",
       "      <td>N</td>\n",
       "    </tr>\n",
       "    <tr>\n",
       "      <th>ESP_FAIL?</th>\n",
       "      <td>No</td>\n",
       "    </tr>\n",
       "    <tr>\n",
       "      <th>TUBING_SIZE_(INCH)</th>\n",
       "      <td>3,5</td>\n",
       "    </tr>\n",
       "    <tr>\n",
       "      <th>TUBING_WEIGHT_(PPF)</th>\n",
       "      <td>9,3</td>\n",
       "    </tr>\n",
       "    <tr>\n",
       "      <th>TUBING_LENGTH_(M_MD_RT)</th>\n",
       "      <td>1995</td>\n",
       "    </tr>\n",
       "  </tbody>\n",
       "</table>\n",
       "</div><br><label><b>dtype:</b> object</label>"
      ],
      "text/plain": [
       "COUNTRY                              ARGENTINA\n",
       "ASSET                                   VMLM6X\n",
       "COMPLETION_NUMBER                           12\n",
       "ACTIVATION_TYPE                            ESP\n",
       "SUPPLIER                                GOONER\n",
       "ENVIRONMENT                           OFFSHORE\n",
       "RUNNING_STATUS                         RUNNING\n",
       "INSTALLATION_DATE          2023-03-26 00:00:00\n",
       "FAILURE_DATE                               NaT\n",
       "ACLS_DATE                                  NaT\n",
       "POOH_DATE                                  NaT\n",
       "LAST_UPDATE                                  1\n",
       "RUN_LIFE                                   655\n",
       "RUN_LIFE_2                                 NaT\n",
       "START_DATE                 2023-03-28 00:00:00\n",
       "START_UP_DELAY                               2\n",
       "STATUS_CHECK                                OK\n",
       "DATE/TIME_CHECK                             OK\n",
       "ORDINAL_CHECK                           Normal\n",
       "MAX_INSTALLS                                12\n",
       "LAST_INSTALL                                 1\n",
       "CHECKS                                      OK\n",
       "STOP_INDEX                                 1.0\n",
       "STOP_GROUP                                 NaN\n",
       "REASON_FOR_STOP_OR_POOH                    NaN\n",
       "CLASS                                        N\n",
       "ESP_FAIL?                                   No\n",
       "TUBING_SIZE_(INCH)                         3,5\n",
       "TUBING_WEIGHT_(PPF)                        9,3\n",
       "TUBING_LENGTH_(M_MD_RT)                   1995\n",
       "Name: 1831, dtype: object"
      ]
     },
     "execution_count": 83,
     "metadata": {},
     "output_type": "execute_result"
    }
   ],
   "source": [
    "df_concat.iloc[1831][:30]"
   ]
  },
  {
   "cell_type": "code",
   "execution_count": null,
   "metadata": {
    "id": "-LH3zxBWqkcA"
   },
   "outputs": [],
   "source": [
    "import numpy as np\n",
    "df_concat.at[1831, 'STOP_INDEX'] = 1\n",
    "df_concat.at[1831, 'STOP_GROUP'] = np.nan\n",
    "df_concat.at[1831, 'REASON_FOR_STOP_OR_POOH'] = np.nan"
   ]
  },
  {
   "cell_type": "code",
   "execution_count": null,
   "metadata": {
    "id": "y2pK7pxMraSA"
   },
   "outputs": [],
   "source": [
    "df_concat.at[7334, 'STOP_INDEX'] = 1\n",
    "df_concat.at[7334, 'STOP_GROUP'] = np.nan\n",
    "df_concat.at[7334, 'REASON_FOR_STOP_OR_POOH'] = np.nan"
   ]
  },
  {
   "cell_type": "code",
   "execution_count": null,
   "metadata": {
    "id": "sZAecRtBs-U5"
   },
   "outputs": [],
   "source": [
    "df_concat.at[7532, 'STOP_INDEX'] = 1\n",
    "df_concat.at[7532, 'STOP_GROUP'] = np.nan\n",
    "df_concat.at[7532, 'REASON_FOR_STOP_OR_POOH'] = np.nan"
   ]
  },
  {
   "cell_type": "code",
   "execution_count": null,
   "metadata": {
    "colab": {
     "base_uri": "https://localhost:8080/"
    },
    "executionInfo": {
     "elapsed": 7,
     "status": "ok",
     "timestamp": 1740510707056,
     "user": {
      "displayName": "Danny Perilla",
      "userId": "12445778756415185299"
     },
     "user_tz": 300
    },
    "id": "RN2COWuSg-P-",
    "outputId": "6367743d-2d3e-4891-8082-8b4b4bc85e21"
   },
   "outputs": [
    {
     "data": {
      "text/plain": [
       "1.0"
      ]
     },
     "execution_count": 229,
     "metadata": {},
     "output_type": "execute_result"
    }
   ],
   "source": [
    "df_reducido['STOP_INDEX'].iloc[1831]"
   ]
  },
  {
   "cell_type": "code",
   "execution_count": null,
   "metadata": {
    "id": "xOl6uVF5yOAH"
   },
   "outputs": [],
   "source": [
    "# importar csv\n",
    "df_partial = pd.read_csv(f'{BASE_FOLDER}/df_parcial.csv')"
   ]
  },
  {
   "cell_type": "code",
   "execution_count": null,
   "metadata": {
    "id": "O8-C8CpVySI5"
   },
   "outputs": [],
   "source": [
    "df_partial['STOP_INDEX'] = df_concat['STOP_INDEX']"
   ]
  },
  {
   "cell_type": "code",
   "execution_count": null,
   "metadata": {
    "id": "dm8hBbk-yWFS"
   },
   "outputs": [],
   "source": [
    "df_partial['STOP_GROUP'] = df_concat['STOP_GROUP']"
   ]
  },
  {
   "cell_type": "code",
   "execution_count": null,
   "metadata": {
    "id": "6dhzCOK4yc2a"
   },
   "outputs": [],
   "source": [
    "# guardar csv\n",
    "df_partial.to_csv(f'{BASE_FOLDER}/df_parcial.csv')"
   ]
  },
  {
   "cell_type": "code",
   "execution_count": null,
   "metadata": {
    "id": "aZLJbimfzYyL"
   },
   "outputs": [],
   "source": [
    "# convertir a mayuscula\n",
    "df_concat['CLASS'] = df_concat['CLASS'].str.upper()"
   ]
  },
  {
   "cell_type": "code",
   "execution_count": null,
   "metadata": {
    "colab": {
     "base_uri": "https://localhost:8080/",
     "height": 397
    },
    "executionInfo": {
     "elapsed": 38,
     "status": "ok",
     "timestamp": 1740683211741,
     "user": {
      "displayName": "Danny Perilla",
      "userId": "12445778756415185299"
     },
     "user_tz": 300
    },
    "id": "45q4GF8JzET7",
    "outputId": "8de8bb0d-bf5d-4cd0-f4ab-d67083b8efee"
   },
   "outputs": [
    {
     "data": {
      "text/html": [
       "<div>\n",
       "<style scoped>\n",
       "    .dataframe tbody tr th:only-of-type {\n",
       "        vertical-align: middle;\n",
       "    }\n",
       "\n",
       "    .dataframe tbody tr th {\n",
       "        vertical-align: top;\n",
       "    }\n",
       "\n",
       "    .dataframe thead th {\n",
       "        text-align: right;\n",
       "    }\n",
       "</style>\n",
       "<table border=\"1\" class=\"dataframe\">\n",
       "  <thead>\n",
       "    <tr style=\"text-align: right;\">\n",
       "      <th></th>\n",
       "      <th>count</th>\n",
       "    </tr>\n",
       "    <tr>\n",
       "      <th>CLASS</th>\n",
       "      <th></th>\n",
       "    </tr>\n",
       "  </thead>\n",
       "  <tbody>\n",
       "    <tr>\n",
       "      <th>F</th>\n",
       "      <td>4825</td>\n",
       "    </tr>\n",
       "    <tr>\n",
       "      <th>E</th>\n",
       "      <td>933</td>\n",
       "    </tr>\n",
       "    <tr>\n",
       "      <th>N</th>\n",
       "      <td>731</td>\n",
       "    </tr>\n",
       "    <tr>\n",
       "      <th>U</th>\n",
       "      <td>444</td>\n",
       "    </tr>\n",
       "    <tr>\n",
       "      <th>S</th>\n",
       "      <td>174</td>\n",
       "    </tr>\n",
       "    <tr>\n",
       "      <th>C</th>\n",
       "      <td>172</td>\n",
       "    </tr>\n",
       "    <tr>\n",
       "      <th>L</th>\n",
       "      <td>168</td>\n",
       "    </tr>\n",
       "    <tr>\n",
       "      <th>A</th>\n",
       "      <td>65</td>\n",
       "    </tr>\n",
       "    <tr>\n",
       "      <th>N/A</th>\n",
       "      <td>1</td>\n",
       "    </tr>\n",
       "  </tbody>\n",
       "</table>\n",
       "</div><br><label><b>dtype:</b> int64</label>"
      ],
      "text/plain": [
       "CLASS\n",
       "F      4825\n",
       "E       933\n",
       "N       731\n",
       "U       444\n",
       "S       174\n",
       "C       172\n",
       "L       168\n",
       "A        65\n",
       "N/A       1\n",
       "Name: count, dtype: int64"
      ]
     },
     "execution_count": 122,
     "metadata": {},
     "output_type": "execute_result"
    }
   ],
   "source": [
    "df_concat['CLASS'].value_counts()"
   ]
  },
  {
   "cell_type": "code",
   "execution_count": null,
   "metadata": {
    "colab": {
     "base_uri": "https://localhost:8080/",
     "height": 366
    },
    "executionInfo": {
     "elapsed": 44,
     "status": "ok",
     "timestamp": 1740683608440,
     "user": {
      "displayName": "Danny Perilla",
      "userId": "12445778756415185299"
     },
     "user_tz": 300
    },
    "id": "1iTiBc9czvAj",
    "outputId": "0a936091-8ca5-4565-e1b4-e00790c3faf0"
   },
   "outputs": [
    {
     "data": {
      "text/html": [
       "<div>\n",
       "<style scoped>\n",
       "    .dataframe tbody tr th:only-of-type {\n",
       "        vertical-align: middle;\n",
       "    }\n",
       "\n",
       "    .dataframe tbody tr th {\n",
       "        vertical-align: top;\n",
       "    }\n",
       "\n",
       "    .dataframe thead th {\n",
       "        text-align: right;\n",
       "    }\n",
       "</style>\n",
       "<table border=\"1\" class=\"dataframe\">\n",
       "  <thead>\n",
       "    <tr style=\"text-align: right;\">\n",
       "      <th></th>\n",
       "      <th>count</th>\n",
       "    </tr>\n",
       "    <tr>\n",
       "      <th>CLASS</th>\n",
       "      <th></th>\n",
       "    </tr>\n",
       "  </thead>\n",
       "  <tbody>\n",
       "    <tr>\n",
       "      <th>F</th>\n",
       "      <td>4217</td>\n",
       "    </tr>\n",
       "    <tr>\n",
       "      <th>E</th>\n",
       "      <td>659</td>\n",
       "    </tr>\n",
       "    <tr>\n",
       "      <th>N</th>\n",
       "      <td>520</td>\n",
       "    </tr>\n",
       "    <tr>\n",
       "      <th>U</th>\n",
       "      <td>395</td>\n",
       "    </tr>\n",
       "    <tr>\n",
       "      <th>C</th>\n",
       "      <td>66</td>\n",
       "    </tr>\n",
       "    <tr>\n",
       "      <th>S</th>\n",
       "      <td>52</td>\n",
       "    </tr>\n",
       "    <tr>\n",
       "      <th>A</th>\n",
       "      <td>25</td>\n",
       "    </tr>\n",
       "    <tr>\n",
       "      <th>L</th>\n",
       "      <td>5</td>\n",
       "    </tr>\n",
       "  </tbody>\n",
       "</table>\n",
       "</div><br><label><b>dtype:</b> int64</label>"
      ],
      "text/plain": [
       "CLASS\n",
       "F    4217\n",
       "E     659\n",
       "N     520\n",
       "U     395\n",
       "C      66\n",
       "S      52\n",
       "A      25\n",
       "L       5\n",
       "Name: count, dtype: int64"
      ]
     },
     "execution_count": 139,
     "metadata": {},
     "output_type": "execute_result"
    }
   ],
   "source": [
    "df_concat[~pd.isna(df_concat['FAILURE_DATE'])]['CLASS'].value_counts()"
   ]
  },
  {
   "cell_type": "code",
   "execution_count": null,
   "metadata": {
    "colab": {
     "base_uri": "https://localhost:8080/",
     "height": 272
    },
    "executionInfo": {
     "elapsed": 96,
     "status": "ok",
     "timestamp": 1740684061079,
     "user": {
      "displayName": "Danny Perilla",
      "userId": "12445778756415185299"
     },
     "user_tz": 300
    },
    "id": "BBFNJQpc2teq",
    "outputId": "23a2bb45-eb9c-4bff-a1f0-50be8eccd07e"
   },
   "outputs": [
    {
     "data": {
      "text/html": [
       "<div>\n",
       "<style scoped>\n",
       "    .dataframe tbody tr th:only-of-type {\n",
       "        vertical-align: middle;\n",
       "    }\n",
       "\n",
       "    .dataframe tbody tr th {\n",
       "        vertical-align: top;\n",
       "    }\n",
       "\n",
       "    .dataframe thead th {\n",
       "        text-align: right;\n",
       "    }\n",
       "</style>\n",
       "<table border=\"1\" class=\"dataframe\">\n",
       "  <thead>\n",
       "    <tr style=\"text-align: right;\">\n",
       "      <th></th>\n",
       "      <th>count</th>\n",
       "    </tr>\n",
       "    <tr>\n",
       "      <th>RUNNING_STATUS</th>\n",
       "      <th></th>\n",
       "    </tr>\n",
       "  </thead>\n",
       "  <tbody>\n",
       "    <tr>\n",
       "      <th>PULLED</th>\n",
       "      <td>6922</td>\n",
       "    </tr>\n",
       "    <tr>\n",
       "      <th>RUNNING</th>\n",
       "      <td>575</td>\n",
       "    </tr>\n",
       "    <tr>\n",
       "      <th>ACLS</th>\n",
       "      <td>542</td>\n",
       "    </tr>\n",
       "    <tr>\n",
       "      <th>FAILED</th>\n",
       "      <td>174</td>\n",
       "    </tr>\n",
       "    <tr>\n",
       "      <th>IDLE</th>\n",
       "      <td>76</td>\n",
       "    </tr>\n",
       "  </tbody>\n",
       "</table>\n",
       "</div><br><label><b>dtype:</b> int64</label>"
      ],
      "text/plain": [
       "RUNNING_STATUS\n",
       "PULLED     6922\n",
       "RUNNING     575\n",
       "ACLS        542\n",
       "FAILED      174\n",
       "IDLE         76\n",
       "Name: count, dtype: int64"
      ]
     },
     "execution_count": 142,
     "metadata": {},
     "output_type": "execute_result"
    }
   ],
   "source": [
    "df_concat['RUNNING_STATUS'].value_counts()"
   ]
  },
  {
   "cell_type": "markdown",
   "metadata": {
    "id": "piuCA6f5aiIQ"
   },
   "source": [
    "## CLASS"
   ]
  },
  {
   "cell_type": "code",
   "execution_count": null,
   "metadata": {
    "id": "EPPkJ-iPa8hK"
   },
   "outputs": [],
   "source": [
    "# .upper a class\n",
    "df_concat['CLASS'] = df_concat['CLASS'].str.upper()"
   ]
  },
  {
   "cell_type": "code",
   "execution_count": null,
   "metadata": {
    "colab": {
     "base_uri": "https://localhost:8080/",
     "height": 429
    },
    "executionInfo": {
     "elapsed": 28,
     "status": "ok",
     "timestamp": 1740846683555,
     "user": {
      "displayName": "Danny Perilla",
      "userId": "12445778756415185299"
     },
     "user_tz": 300
    },
    "id": "X7DdYoFGi3yp",
    "outputId": "064881a6-d7c6-4ea7-c9fd-2b2c8bfa9612"
   },
   "outputs": [
    {
     "data": {
      "text/html": [
       "<div>\n",
       "<style scoped>\n",
       "    .dataframe tbody tr th:only-of-type {\n",
       "        vertical-align: middle;\n",
       "    }\n",
       "\n",
       "    .dataframe tbody tr th {\n",
       "        vertical-align: top;\n",
       "    }\n",
       "\n",
       "    .dataframe thead th {\n",
       "        text-align: right;\n",
       "    }\n",
       "</style>\n",
       "<table border=\"1\" class=\"dataframe\">\n",
       "  <thead>\n",
       "    <tr style=\"text-align: right;\">\n",
       "      <th></th>\n",
       "      <th>count</th>\n",
       "    </tr>\n",
       "    <tr>\n",
       "      <th>CLASS</th>\n",
       "      <th></th>\n",
       "    </tr>\n",
       "  </thead>\n",
       "  <tbody>\n",
       "    <tr>\n",
       "      <th>F</th>\n",
       "      <td>4825</td>\n",
       "    </tr>\n",
       "    <tr>\n",
       "      <th>E</th>\n",
       "      <td>933</td>\n",
       "    </tr>\n",
       "    <tr>\n",
       "      <th>NaN</th>\n",
       "      <td>776</td>\n",
       "    </tr>\n",
       "    <tr>\n",
       "      <th>N</th>\n",
       "      <td>731</td>\n",
       "    </tr>\n",
       "    <tr>\n",
       "      <th>U</th>\n",
       "      <td>444</td>\n",
       "    </tr>\n",
       "    <tr>\n",
       "      <th>S</th>\n",
       "      <td>174</td>\n",
       "    </tr>\n",
       "    <tr>\n",
       "      <th>C</th>\n",
       "      <td>172</td>\n",
       "    </tr>\n",
       "    <tr>\n",
       "      <th>L</th>\n",
       "      <td>168</td>\n",
       "    </tr>\n",
       "    <tr>\n",
       "      <th>A</th>\n",
       "      <td>65</td>\n",
       "    </tr>\n",
       "    <tr>\n",
       "      <th>N/A</th>\n",
       "      <td>1</td>\n",
       "    </tr>\n",
       "  </tbody>\n",
       "</table>\n",
       "</div><br><label><b>dtype:</b> int64</label>"
      ],
      "text/plain": [
       "CLASS\n",
       "F      4825\n",
       "E       933\n",
       "NaN     776\n",
       "N       731\n",
       "U       444\n",
       "S       174\n",
       "C       172\n",
       "L       168\n",
       "A        65\n",
       "N/A       1\n",
       "Name: count, dtype: int64"
      ]
     },
     "execution_count": 100,
     "metadata": {},
     "output_type": "execute_result"
    }
   ],
   "source": [
    "df_concat['CLASS'].value_counts(dropna = False)"
   ]
  },
  {
   "cell_type": "code",
   "execution_count": null,
   "metadata": {
    "colab": {
     "base_uri": "https://localhost:8080/",
     "height": 241
    },
    "executionInfo": {
     "elapsed": 10,
     "status": "ok",
     "timestamp": 1740846956685,
     "user": {
      "displayName": "Danny Perilla",
      "userId": "12445778756415185299"
     },
     "user_tz": 300
    },
    "id": "7cmkySMQ7_SS",
    "outputId": "b053c663-2451-4997-c8cf-3716d736add9"
   },
   "outputs": [
    {
     "data": {
      "text/html": [
       "<div>\n",
       "<style scoped>\n",
       "    .dataframe tbody tr th:only-of-type {\n",
       "        vertical-align: middle;\n",
       "    }\n",
       "\n",
       "    .dataframe tbody tr th {\n",
       "        vertical-align: top;\n",
       "    }\n",
       "\n",
       "    .dataframe thead th {\n",
       "        text-align: right;\n",
       "    }\n",
       "</style>\n",
       "<table border=\"1\" class=\"dataframe\">\n",
       "  <thead>\n",
       "    <tr style=\"text-align: right;\">\n",
       "      <th></th>\n",
       "      <th>count</th>\n",
       "    </tr>\n",
       "    <tr>\n",
       "      <th>CLASS</th>\n",
       "      <th></th>\n",
       "    </tr>\n",
       "  </thead>\n",
       "  <tbody>\n",
       "    <tr>\n",
       "      <th>NaN</th>\n",
       "      <td>571</td>\n",
       "    </tr>\n",
       "    <tr>\n",
       "      <th>F</th>\n",
       "      <td>2</td>\n",
       "    </tr>\n",
       "    <tr>\n",
       "      <th>S</th>\n",
       "      <td>1</td>\n",
       "    </tr>\n",
       "    <tr>\n",
       "      <th>N</th>\n",
       "      <td>1</td>\n",
       "    </tr>\n",
       "  </tbody>\n",
       "</table>\n",
       "</div><br><label><b>dtype:</b> int64</label>"
      ],
      "text/plain": [
       "CLASS\n",
       "NaN    571\n",
       "F        2\n",
       "S        1\n",
       "N        1\n",
       "Name: count, dtype: int64"
      ]
     },
     "execution_count": 101,
     "metadata": {},
     "output_type": "execute_result"
    }
   ],
   "source": [
    "df_concat\\\n",
    " [df_concat['RUNNING_STATUS']=='RUNNING']\\\n",
    "  ['CLASS'].value_counts(dropna=False)"
   ]
  },
  {
   "cell_type": "code",
   "execution_count": null,
   "metadata": {
    "colab": {
     "base_uri": "https://localhost:8080/",
     "height": 178
    },
    "executionInfo": {
     "elapsed": 10,
     "status": "ok",
     "timestamp": 1740851658067,
     "user": {
      "displayName": "Danny Perilla",
      "userId": "12445778756415185299"
     },
     "user_tz": 300
    },
    "id": "8iM7L4Cp2DIk",
    "outputId": "3a224d86-3154-4b33-99d5-3c487ddf8648"
   },
   "outputs": [
    {
     "data": {
      "text/html": [
       "<div>\n",
       "<style scoped>\n",
       "    .dataframe tbody tr th:only-of-type {\n",
       "        vertical-align: middle;\n",
       "    }\n",
       "\n",
       "    .dataframe tbody tr th {\n",
       "        vertical-align: top;\n",
       "    }\n",
       "\n",
       "    .dataframe thead th {\n",
       "        text-align: right;\n",
       "    }\n",
       "</style>\n",
       "<table border=\"1\" class=\"dataframe\">\n",
       "  <thead>\n",
       "    <tr style=\"text-align: right;\">\n",
       "      <th></th>\n",
       "      <th>count</th>\n",
       "    </tr>\n",
       "    <tr>\n",
       "      <th>CLASS</th>\n",
       "      <th></th>\n",
       "    </tr>\n",
       "  </thead>\n",
       "  <tbody>\n",
       "    <tr>\n",
       "      <th>NaN</th>\n",
       "      <td>571</td>\n",
       "    </tr>\n",
       "    <tr>\n",
       "      <th>N/A</th>\n",
       "      <td>2</td>\n",
       "    </tr>\n",
       "  </tbody>\n",
       "</table>\n",
       "</div><br><label><b>dtype:</b> int64</label>"
      ],
      "text/plain": [
       "CLASS\n",
       "NaN    571\n",
       "N/A      2\n",
       "Name: count, dtype: int64"
      ]
     },
     "execution_count": 191,
     "metadata": {},
     "output_type": "execute_result"
    }
   ],
   "source": [
    "df_concat\\\n",
    " [df_concat['RUNNING_STATUS']=='RUNNING']\\\n",
    "  ['CLASS'].value_counts(dropna=False)"
   ]
  },
  {
   "cell_type": "markdown",
   "metadata": {
    "id": "DD7KoKHKtre1"
   },
   "source": [
    "Se revisa el registro KZWM2X-4 y se verifica que efectivamente está fuera de servicio y no running. Se agrega como fecha de falla el 19-10-2023. Además el registro K7UMI3-2, se asume que la fecha de falla es 22-04-2024."
   ]
  },
  {
   "cell_type": "markdown",
   "metadata": {
    "id": "jEeR3q530NQN"
   },
   "source": [
    "El registro VMLM6X-12 está running y por tanto su class debe ser N/A."
   ]
  },
  {
   "cell_type": "code",
   "execution_count": null,
   "metadata": {
    "colab": {
     "base_uri": "https://localhost:8080/",
     "height": 130
    },
    "executionInfo": {
     "elapsed": 49,
     "status": "ok",
     "timestamp": 1740851306657,
     "user": {
      "displayName": "Danny Perilla",
      "userId": "12445778756415185299"
     },
     "user_tz": 300
    },
    "id": "KJuillJUdPO_",
    "outputId": "709c0a26-bfbd-48b8-96d6-97f2267e9a83"
   },
   "outputs": [
    {
     "data": {
      "application/vnd.google.colaboratory.intrinsic+json": {
       "type": "dataframe"
      },
      "text/html": [
       "\n",
       "  <div id=\"df-c66bb1af-ac3f-4d4d-8546-e8a1bc243c1b\" class=\"colab-df-container\">\n",
       "    <div>\n",
       "<style scoped>\n",
       "    .dataframe tbody tr th:only-of-type {\n",
       "        vertical-align: middle;\n",
       "    }\n",
       "\n",
       "    .dataframe tbody tr th {\n",
       "        vertical-align: top;\n",
       "    }\n",
       "\n",
       "    .dataframe thead th {\n",
       "        text-align: right;\n",
       "    }\n",
       "</style>\n",
       "<table border=\"1\" class=\"dataframe\">\n",
       "  <thead>\n",
       "    <tr style=\"text-align: right;\">\n",
       "      <th></th>\n",
       "      <th>ASSET</th>\n",
       "      <th>COMPLETION_NUMBER</th>\n",
       "      <th>ACTIVATION_TYPE</th>\n",
       "      <th>SUPPLIER</th>\n",
       "      <th>ENVIRONMENT</th>\n",
       "      <th>RUNNING_STATUS</th>\n",
       "      <th>INSTALLATION_DATE</th>\n",
       "      <th>FAILURE_DATE</th>\n",
       "      <th>ACLS_DATE</th>\n",
       "      <th>POOH_DATE</th>\n",
       "      <th>...</th>\n",
       "      <th>START_UP_DELAY</th>\n",
       "      <th>ORDINAL_CHECK</th>\n",
       "      <th>MAX_INSTALLS</th>\n",
       "      <th>STOP_INDEX</th>\n",
       "      <th>STOP_GROUP</th>\n",
       "      <th>LAST_INSTALL</th>\n",
       "      <th>REASON_FOR_STOP_OR_POOH</th>\n",
       "      <th>CLASS</th>\n",
       "      <th>ESP_FAIL?</th>\n",
       "      <th>TUBING_SIZE_(INCH)</th>\n",
       "    </tr>\n",
       "  </thead>\n",
       "  <tbody>\n",
       "    <tr>\n",
       "      <th>1494</th>\n",
       "      <td>VMLM28</td>\n",
       "      <td>6</td>\n",
       "      <td>ESP</td>\n",
       "      <td>GOONER</td>\n",
       "      <td>OFFSHORE</td>\n",
       "      <td>RUNNING</td>\n",
       "      <td>2023-07-25</td>\n",
       "      <td>NaT</td>\n",
       "      <td>NaT</td>\n",
       "      <td>NaT</td>\n",
       "      <td>...</td>\n",
       "      <td>6</td>\n",
       "      <td>NORMAL</td>\n",
       "      <td>6</td>\n",
       "      <td>1.0</td>\n",
       "      <td>-</td>\n",
       "      <td>1</td>\n",
       "      <td>-</td>\n",
       "      <td>S</td>\n",
       "      <td>No</td>\n",
       "      <td>3,5</td>\n",
       "    </tr>\n",
       "  </tbody>\n",
       "</table>\n",
       "<p>1 rows × 25 columns</p>\n",
       "</div>\n",
       "    <div class=\"colab-df-buttons\">\n",
       "\n",
       "  <div class=\"colab-df-container\">\n",
       "    <button class=\"colab-df-convert\" onclick=\"convertToInteractive('df-c66bb1af-ac3f-4d4d-8546-e8a1bc243c1b')\"\n",
       "            title=\"Convert this dataframe to an interactive table.\"\n",
       "            style=\"display:none;\">\n",
       "\n",
       "  <svg xmlns=\"http://www.w3.org/2000/svg\" height=\"24px\" viewBox=\"0 -960 960 960\">\n",
       "    <path d=\"M120-120v-720h720v720H120Zm60-500h600v-160H180v160Zm220 220h160v-160H400v160Zm0 220h160v-160H400v160ZM180-400h160v-160H180v160Zm440 0h160v-160H620v160ZM180-180h160v-160H180v160Zm440 0h160v-160H620v160Z\"/>\n",
       "  </svg>\n",
       "    </button>\n",
       "\n",
       "  <style>\n",
       "    .colab-df-container {\n",
       "      display:flex;\n",
       "      gap: 12px;\n",
       "    }\n",
       "\n",
       "    .colab-df-convert {\n",
       "      background-color: #E8F0FE;\n",
       "      border: none;\n",
       "      border-radius: 50%;\n",
       "      cursor: pointer;\n",
       "      display: none;\n",
       "      fill: #1967D2;\n",
       "      height: 32px;\n",
       "      padding: 0 0 0 0;\n",
       "      width: 32px;\n",
       "    }\n",
       "\n",
       "    .colab-df-convert:hover {\n",
       "      background-color: #E2EBFA;\n",
       "      box-shadow: 0px 1px 2px rgba(60, 64, 67, 0.3), 0px 1px 3px 1px rgba(60, 64, 67, 0.15);\n",
       "      fill: #174EA6;\n",
       "    }\n",
       "\n",
       "    .colab-df-buttons div {\n",
       "      margin-bottom: 4px;\n",
       "    }\n",
       "\n",
       "    [theme=dark] .colab-df-convert {\n",
       "      background-color: #3B4455;\n",
       "      fill: #D2E3FC;\n",
       "    }\n",
       "\n",
       "    [theme=dark] .colab-df-convert:hover {\n",
       "      background-color: #434B5C;\n",
       "      box-shadow: 0px 1px 3px 1px rgba(0, 0, 0, 0.15);\n",
       "      filter: drop-shadow(0px 1px 2px rgba(0, 0, 0, 0.3));\n",
       "      fill: #FFFFFF;\n",
       "    }\n",
       "  </style>\n",
       "\n",
       "    <script>\n",
       "      const buttonEl =\n",
       "        document.querySelector('#df-c66bb1af-ac3f-4d4d-8546-e8a1bc243c1b button.colab-df-convert');\n",
       "      buttonEl.style.display =\n",
       "        google.colab.kernel.accessAllowed ? 'block' : 'none';\n",
       "\n",
       "      async function convertToInteractive(key) {\n",
       "        const element = document.querySelector('#df-c66bb1af-ac3f-4d4d-8546-e8a1bc243c1b');\n",
       "        const dataTable =\n",
       "          await google.colab.kernel.invokeFunction('convertToInteractive',\n",
       "                                                    [key], {});\n",
       "        if (!dataTable) return;\n",
       "\n",
       "        const docLinkHtml = 'Like what you see? Visit the ' +\n",
       "          '<a target=\"_blank\" href=https://colab.research.google.com/notebooks/data_table.ipynb>data table notebook</a>'\n",
       "          + ' to learn more about interactive tables.';\n",
       "        element.innerHTML = '';\n",
       "        dataTable['output_type'] = 'display_data';\n",
       "        await google.colab.output.renderOutput(dataTable, element);\n",
       "        const docLink = document.createElement('div');\n",
       "        docLink.innerHTML = docLinkHtml;\n",
       "        element.appendChild(docLink);\n",
       "      }\n",
       "    </script>\n",
       "  </div>\n",
       "\n",
       "\n",
       "    </div>\n",
       "  </div>\n"
      ],
      "text/plain": [
       "       ASSET  COMPLETION_NUMBER ACTIVATION_TYPE SUPPLIER ENVIRONMENT  \\\n",
       "1494  VMLM28                  6             ESP   GOONER    OFFSHORE   \n",
       "\n",
       "     RUNNING_STATUS INSTALLATION_DATE FAILURE_DATE ACLS_DATE POOH_DATE  ...  \\\n",
       "1494        RUNNING        2023-07-25          NaT       NaT       NaT  ...   \n",
       "\n",
       "      START_UP_DELAY ORDINAL_CHECK MAX_INSTALLS STOP_INDEX STOP_GROUP  \\\n",
       "1494               6        NORMAL            6        1.0          -   \n",
       "\n",
       "      LAST_INSTALL REASON_FOR_STOP_OR_POOH  CLASS  ESP_FAIL?  \\\n",
       "1494             1                       -      S         No   \n",
       "\n",
       "     TUBING_SIZE_(INCH)  \n",
       "1494                3,5  \n",
       "\n",
       "[1 rows x 25 columns]"
      ]
     },
     "execution_count": 180,
     "metadata": {},
     "output_type": "execute_result"
    }
   ],
   "source": [
    "df_concat\\\n",
    " [(df_concat['RUNNING_STATUS']=='RUNNING') &\n",
    "  (df_concat['CLASS'].isin(['F', 'S', 'N']))].iloc[:, 1:26]"
   ]
  },
  {
   "cell_type": "code",
   "execution_count": null,
   "metadata": {
    "colab": {
     "base_uri": "https://localhost:8080/",
     "height": 224
    },
    "executionInfo": {
     "elapsed": 48,
     "status": "ok",
     "timestamp": 1740851615015,
     "user": {
      "displayName": "Danny Perilla",
      "userId": "12445778756415185299"
     },
     "user_tz": 300
    },
    "id": "Q0cB-9uU03tT",
    "outputId": "040169d7-cc59-4538-802a-420b33ec535c"
   },
   "outputs": [
    {
     "data": {
      "application/vnd.google.colaboratory.intrinsic+json": {
       "type": "dataframe"
      },
      "text/html": [
       "\n",
       "  <div id=\"df-05c9ea60-7b6d-4aa2-b4bb-1efa991216f4\" class=\"colab-df-container\">\n",
       "    <div>\n",
       "<style scoped>\n",
       "    .dataframe tbody tr th:only-of-type {\n",
       "        vertical-align: middle;\n",
       "    }\n",
       "\n",
       "    .dataframe tbody tr th {\n",
       "        vertical-align: top;\n",
       "    }\n",
       "\n",
       "    .dataframe thead th {\n",
       "        text-align: right;\n",
       "    }\n",
       "</style>\n",
       "<table border=\"1\" class=\"dataframe\">\n",
       "  <thead>\n",
       "    <tr style=\"text-align: right;\">\n",
       "      <th></th>\n",
       "      <th>ASSET</th>\n",
       "      <th>COMPLETION_NUMBER</th>\n",
       "      <th>ACTIVATION_TYPE</th>\n",
       "      <th>SUPPLIER</th>\n",
       "      <th>ENVIRONMENT</th>\n",
       "      <th>RUNNING_STATUS</th>\n",
       "      <th>INSTALLATION_DATE</th>\n",
       "      <th>FAILURE_DATE</th>\n",
       "      <th>ACLS_DATE</th>\n",
       "      <th>POOH_DATE</th>\n",
       "      <th>...</th>\n",
       "      <th>START_UP_DELAY</th>\n",
       "      <th>ORDINAL_CHECK</th>\n",
       "      <th>MAX_INSTALLS</th>\n",
       "      <th>STOP_INDEX</th>\n",
       "      <th>STOP_GROUP</th>\n",
       "      <th>LAST_INSTALL</th>\n",
       "      <th>REASON_FOR_STOP_OR_POOH</th>\n",
       "      <th>CLASS</th>\n",
       "      <th>ESP_FAIL?</th>\n",
       "      <th>TUBING_SIZE_(INCH)</th>\n",
       "    </tr>\n",
       "  </thead>\n",
       "  <tbody>\n",
       "    <tr>\n",
       "      <th>1494</th>\n",
       "      <td>VMLM28</td>\n",
       "      <td>6</td>\n",
       "      <td>ESP</td>\n",
       "      <td>GOONER</td>\n",
       "      <td>OFFSHORE</td>\n",
       "      <td>RUNNING</td>\n",
       "      <td>2023-07-25</td>\n",
       "      <td>NaT</td>\n",
       "      <td>NaT</td>\n",
       "      <td>NaT</td>\n",
       "      <td>...</td>\n",
       "      <td>6</td>\n",
       "      <td>NORMAL</td>\n",
       "      <td>6</td>\n",
       "      <td>1.0</td>\n",
       "      <td>-</td>\n",
       "      <td>1</td>\n",
       "      <td>-</td>\n",
       "      <td>N/A</td>\n",
       "      <td>No</td>\n",
       "      <td>3,5</td>\n",
       "    </tr>\n",
       "    <tr>\n",
       "      <th>1831</th>\n",
       "      <td>VMLM6X</td>\n",
       "      <td>12</td>\n",
       "      <td>ESP</td>\n",
       "      <td>GOONER</td>\n",
       "      <td>OFFSHORE</td>\n",
       "      <td>RUNNING</td>\n",
       "      <td>2023-03-26</td>\n",
       "      <td>NaT</td>\n",
       "      <td>NaT</td>\n",
       "      <td>NaT</td>\n",
       "      <td>...</td>\n",
       "      <td>2</td>\n",
       "      <td>NORMAL</td>\n",
       "      <td>12</td>\n",
       "      <td>1.0</td>\n",
       "      <td>-</td>\n",
       "      <td>1</td>\n",
       "      <td>-</td>\n",
       "      <td>N/A</td>\n",
       "      <td>No</td>\n",
       "      <td>3,5</td>\n",
       "    </tr>\n",
       "    <tr>\n",
       "      <th>7532</th>\n",
       "      <td>K7UMI3</td>\n",
       "      <td>2</td>\n",
       "      <td>ESP</td>\n",
       "      <td>QUAKER</td>\n",
       "      <td>ONSHORE</td>\n",
       "      <td>PULLED</td>\n",
       "      <td>2023-12-04</td>\n",
       "      <td>2024-04-22</td>\n",
       "      <td>NaT</td>\n",
       "      <td>NaT</td>\n",
       "      <td>...</td>\n",
       "      <td>0</td>\n",
       "      <td>NORMAL</td>\n",
       "      <td>2</td>\n",
       "      <td>39.0</td>\n",
       "      <td>UNKNOWN</td>\n",
       "      <td>1</td>\n",
       "      <td>UNKNOWN</td>\n",
       "      <td>F</td>\n",
       "      <td>Yes</td>\n",
       "      <td>2,875</td>\n",
       "    </tr>\n",
       "    <tr>\n",
       "      <th>7334</th>\n",
       "      <td>KZWM2X</td>\n",
       "      <td>4</td>\n",
       "      <td>ESP</td>\n",
       "      <td>QUAKER</td>\n",
       "      <td>ONSHORE</td>\n",
       "      <td>PULLED</td>\n",
       "      <td>2019-10-19</td>\n",
       "      <td>2023-10-19</td>\n",
       "      <td>NaT</td>\n",
       "      <td>NaT</td>\n",
       "      <td>...</td>\n",
       "      <td>1</td>\n",
       "      <td>NORMAL</td>\n",
       "      <td>4</td>\n",
       "      <td>40.0</td>\n",
       "      <td>UNSPECIFIED_FAILURE</td>\n",
       "      <td>1</td>\n",
       "      <td>UNSPECIFIED FAILURE</td>\n",
       "      <td>F</td>\n",
       "      <td>Yes</td>\n",
       "      <td>3,5</td>\n",
       "    </tr>\n",
       "  </tbody>\n",
       "</table>\n",
       "<p>4 rows × 25 columns</p>\n",
       "</div>\n",
       "    <div class=\"colab-df-buttons\">\n",
       "\n",
       "  <div class=\"colab-df-container\">\n",
       "    <button class=\"colab-df-convert\" onclick=\"convertToInteractive('df-05c9ea60-7b6d-4aa2-b4bb-1efa991216f4')\"\n",
       "            title=\"Convert this dataframe to an interactive table.\"\n",
       "            style=\"display:none;\">\n",
       "\n",
       "  <svg xmlns=\"http://www.w3.org/2000/svg\" height=\"24px\" viewBox=\"0 -960 960 960\">\n",
       "    <path d=\"M120-120v-720h720v720H120Zm60-500h600v-160H180v160Zm220 220h160v-160H400v160Zm0 220h160v-160H400v160ZM180-400h160v-160H180v160Zm440 0h160v-160H620v160ZM180-180h160v-160H180v160Zm440 0h160v-160H620v160Z\"/>\n",
       "  </svg>\n",
       "    </button>\n",
       "\n",
       "  <style>\n",
       "    .colab-df-container {\n",
       "      display:flex;\n",
       "      gap: 12px;\n",
       "    }\n",
       "\n",
       "    .colab-df-convert {\n",
       "      background-color: #E8F0FE;\n",
       "      border: none;\n",
       "      border-radius: 50%;\n",
       "      cursor: pointer;\n",
       "      display: none;\n",
       "      fill: #1967D2;\n",
       "      height: 32px;\n",
       "      padding: 0 0 0 0;\n",
       "      width: 32px;\n",
       "    }\n",
       "\n",
       "    .colab-df-convert:hover {\n",
       "      background-color: #E2EBFA;\n",
       "      box-shadow: 0px 1px 2px rgba(60, 64, 67, 0.3), 0px 1px 3px 1px rgba(60, 64, 67, 0.15);\n",
       "      fill: #174EA6;\n",
       "    }\n",
       "\n",
       "    .colab-df-buttons div {\n",
       "      margin-bottom: 4px;\n",
       "    }\n",
       "\n",
       "    [theme=dark] .colab-df-convert {\n",
       "      background-color: #3B4455;\n",
       "      fill: #D2E3FC;\n",
       "    }\n",
       "\n",
       "    [theme=dark] .colab-df-convert:hover {\n",
       "      background-color: #434B5C;\n",
       "      box-shadow: 0px 1px 3px 1px rgba(0, 0, 0, 0.15);\n",
       "      filter: drop-shadow(0px 1px 2px rgba(0, 0, 0, 0.3));\n",
       "      fill: #FFFFFF;\n",
       "    }\n",
       "  </style>\n",
       "\n",
       "    <script>\n",
       "      const buttonEl =\n",
       "        document.querySelector('#df-05c9ea60-7b6d-4aa2-b4bb-1efa991216f4 button.colab-df-convert');\n",
       "      buttonEl.style.display =\n",
       "        google.colab.kernel.accessAllowed ? 'block' : 'none';\n",
       "\n",
       "      async function convertToInteractive(key) {\n",
       "        const element = document.querySelector('#df-05c9ea60-7b6d-4aa2-b4bb-1efa991216f4');\n",
       "        const dataTable =\n",
       "          await google.colab.kernel.invokeFunction('convertToInteractive',\n",
       "                                                    [key], {});\n",
       "        if (!dataTable) return;\n",
       "\n",
       "        const docLinkHtml = 'Like what you see? Visit the ' +\n",
       "          '<a target=\"_blank\" href=https://colab.research.google.com/notebooks/data_table.ipynb>data table notebook</a>'\n",
       "          + ' to learn more about interactive tables.';\n",
       "        element.innerHTML = '';\n",
       "        dataTable['output_type'] = 'display_data';\n",
       "        await google.colab.output.renderOutput(dataTable, element);\n",
       "        const docLink = document.createElement('div');\n",
       "        docLink.innerHTML = docLinkHtml;\n",
       "        element.appendChild(docLink);\n",
       "      }\n",
       "    </script>\n",
       "  </div>\n",
       "\n",
       "\n",
       "<div id=\"df-a8533d8a-48ea-4252-a880-4a04cad385e5\">\n",
       "  <button class=\"colab-df-quickchart\" onclick=\"quickchart('df-a8533d8a-48ea-4252-a880-4a04cad385e5')\"\n",
       "            title=\"Suggest charts\"\n",
       "            style=\"display:none;\">\n",
       "\n",
       "<svg xmlns=\"http://www.w3.org/2000/svg\" height=\"24px\"viewBox=\"0 0 24 24\"\n",
       "     width=\"24px\">\n",
       "    <g>\n",
       "        <path d=\"M19 3H5c-1.1 0-2 .9-2 2v14c0 1.1.9 2 2 2h14c1.1 0 2-.9 2-2V5c0-1.1-.9-2-2-2zM9 17H7v-7h2v7zm4 0h-2V7h2v10zm4 0h-2v-4h2v4z\"/>\n",
       "    </g>\n",
       "</svg>\n",
       "  </button>\n",
       "\n",
       "<style>\n",
       "  .colab-df-quickchart {\n",
       "      --bg-color: #E8F0FE;\n",
       "      --fill-color: #1967D2;\n",
       "      --hover-bg-color: #E2EBFA;\n",
       "      --hover-fill-color: #174EA6;\n",
       "      --disabled-fill-color: #AAA;\n",
       "      --disabled-bg-color: #DDD;\n",
       "  }\n",
       "\n",
       "  [theme=dark] .colab-df-quickchart {\n",
       "      --bg-color: #3B4455;\n",
       "      --fill-color: #D2E3FC;\n",
       "      --hover-bg-color: #434B5C;\n",
       "      --hover-fill-color: #FFFFFF;\n",
       "      --disabled-bg-color: #3B4455;\n",
       "      --disabled-fill-color: #666;\n",
       "  }\n",
       "\n",
       "  .colab-df-quickchart {\n",
       "    background-color: var(--bg-color);\n",
       "    border: none;\n",
       "    border-radius: 50%;\n",
       "    cursor: pointer;\n",
       "    display: none;\n",
       "    fill: var(--fill-color);\n",
       "    height: 32px;\n",
       "    padding: 0;\n",
       "    width: 32px;\n",
       "  }\n",
       "\n",
       "  .colab-df-quickchart:hover {\n",
       "    background-color: var(--hover-bg-color);\n",
       "    box-shadow: 0 1px 2px rgba(60, 64, 67, 0.3), 0 1px 3px 1px rgba(60, 64, 67, 0.15);\n",
       "    fill: var(--button-hover-fill-color);\n",
       "  }\n",
       "\n",
       "  .colab-df-quickchart-complete:disabled,\n",
       "  .colab-df-quickchart-complete:disabled:hover {\n",
       "    background-color: var(--disabled-bg-color);\n",
       "    fill: var(--disabled-fill-color);\n",
       "    box-shadow: none;\n",
       "  }\n",
       "\n",
       "  .colab-df-spinner {\n",
       "    border: 2px solid var(--fill-color);\n",
       "    border-color: transparent;\n",
       "    border-bottom-color: var(--fill-color);\n",
       "    animation:\n",
       "      spin 1s steps(1) infinite;\n",
       "  }\n",
       "\n",
       "  @keyframes spin {\n",
       "    0% {\n",
       "      border-color: transparent;\n",
       "      border-bottom-color: var(--fill-color);\n",
       "      border-left-color: var(--fill-color);\n",
       "    }\n",
       "    20% {\n",
       "      border-color: transparent;\n",
       "      border-left-color: var(--fill-color);\n",
       "      border-top-color: var(--fill-color);\n",
       "    }\n",
       "    30% {\n",
       "      border-color: transparent;\n",
       "      border-left-color: var(--fill-color);\n",
       "      border-top-color: var(--fill-color);\n",
       "      border-right-color: var(--fill-color);\n",
       "    }\n",
       "    40% {\n",
       "      border-color: transparent;\n",
       "      border-right-color: var(--fill-color);\n",
       "      border-top-color: var(--fill-color);\n",
       "    }\n",
       "    60% {\n",
       "      border-color: transparent;\n",
       "      border-right-color: var(--fill-color);\n",
       "    }\n",
       "    80% {\n",
       "      border-color: transparent;\n",
       "      border-right-color: var(--fill-color);\n",
       "      border-bottom-color: var(--fill-color);\n",
       "    }\n",
       "    90% {\n",
       "      border-color: transparent;\n",
       "      border-bottom-color: var(--fill-color);\n",
       "    }\n",
       "  }\n",
       "</style>\n",
       "\n",
       "  <script>\n",
       "    async function quickchart(key) {\n",
       "      const quickchartButtonEl =\n",
       "        document.querySelector('#' + key + ' button');\n",
       "      quickchartButtonEl.disabled = true;  // To prevent multiple clicks.\n",
       "      quickchartButtonEl.classList.add('colab-df-spinner');\n",
       "      try {\n",
       "        const charts = await google.colab.kernel.invokeFunction(\n",
       "            'suggestCharts', [key], {});\n",
       "      } catch (error) {\n",
       "        console.error('Error during call to suggestCharts:', error);\n",
       "      }\n",
       "      quickchartButtonEl.classList.remove('colab-df-spinner');\n",
       "      quickchartButtonEl.classList.add('colab-df-quickchart-complete');\n",
       "    }\n",
       "    (() => {\n",
       "      let quickchartButtonEl =\n",
       "        document.querySelector('#df-a8533d8a-48ea-4252-a880-4a04cad385e5 button');\n",
       "      quickchartButtonEl.style.display =\n",
       "        google.colab.kernel.accessAllowed ? 'block' : 'none';\n",
       "    })();\n",
       "  </script>\n",
       "</div>\n",
       "\n",
       "    </div>\n",
       "  </div>\n"
      ],
      "text/plain": [
       "       ASSET  COMPLETION_NUMBER ACTIVATION_TYPE SUPPLIER ENVIRONMENT  \\\n",
       "1494  VMLM28                  6             ESP   GOONER    OFFSHORE   \n",
       "1831  VMLM6X                 12             ESP   GOONER    OFFSHORE   \n",
       "7532  K7UMI3                  2             ESP   QUAKER     ONSHORE   \n",
       "7334  KZWM2X                  4             ESP   QUAKER     ONSHORE   \n",
       "\n",
       "     RUNNING_STATUS INSTALLATION_DATE FAILURE_DATE ACLS_DATE POOH_DATE  ...  \\\n",
       "1494        RUNNING        2023-07-25          NaT       NaT       NaT  ...   \n",
       "1831        RUNNING        2023-03-26          NaT       NaT       NaT  ...   \n",
       "7532         PULLED        2023-12-04   2024-04-22       NaT       NaT  ...   \n",
       "7334         PULLED        2019-10-19   2023-10-19       NaT       NaT  ...   \n",
       "\n",
       "      START_UP_DELAY ORDINAL_CHECK MAX_INSTALLS STOP_INDEX  \\\n",
       "1494               6        NORMAL            6        1.0   \n",
       "1831               2        NORMAL           12        1.0   \n",
       "7532               0        NORMAL            2       39.0   \n",
       "7334               1        NORMAL            4       40.0   \n",
       "\n",
       "               STOP_GROUP  LAST_INSTALL REASON_FOR_STOP_OR_POOH  CLASS  \\\n",
       "1494                    -             1                       -    N/A   \n",
       "1831                    -             1                       -    N/A   \n",
       "7532              UNKNOWN             1                 UNKNOWN      F   \n",
       "7334  UNSPECIFIED_FAILURE             1     UNSPECIFIED FAILURE      F   \n",
       "\n",
       "      ESP_FAIL? TUBING_SIZE_(INCH)  \n",
       "1494         No                3,5  \n",
       "1831         No                3,5  \n",
       "7532        Yes              2,875  \n",
       "7334        Yes                3,5  \n",
       "\n",
       "[4 rows x 25 columns]"
      ]
     },
     "execution_count": 190,
     "metadata": {},
     "output_type": "execute_result"
    }
   ],
   "source": [
    "df_concat.iloc[[1494, 1831, 7532, 7334]].iloc[:, 1:26]"
   ]
  },
  {
   "cell_type": "code",
   "execution_count": null,
   "metadata": {
    "id": "qEhhnKqj0fxe"
   },
   "outputs": [],
   "source": [
    "df_concat.loc[1831, 'REASON_FOR_STOP_OR_POOH'] = '-'"
   ]
  },
  {
   "cell_type": "code",
   "execution_count": null,
   "metadata": {
    "id": "T3N3IUeT10wc"
   },
   "outputs": [],
   "source": [
    "df_concat.loc[1831, 'STOP_GROUP'] = '-'"
   ]
  },
  {
   "cell_type": "code",
   "execution_count": null,
   "metadata": {
    "id": "D1scpjBp1mZs"
   },
   "outputs": [],
   "source": [
    "df_concat.loc[1494, 'CLASS'] = 'N/A'"
   ]
  },
  {
   "cell_type": "code",
   "execution_count": null,
   "metadata": {
    "id": "7BnQoZED0nYd"
   },
   "outputs": [],
   "source": [
    "df_concat.loc[1831, 'CLASS'] = 'N/A'"
   ]
  },
  {
   "cell_type": "code",
   "execution_count": null,
   "metadata": {
    "id": "2BBIOIlkxSqa"
   },
   "outputs": [],
   "source": [
    "df_concat.loc[7532, 'STOP_INDEX'] = 39"
   ]
  },
  {
   "cell_type": "code",
   "execution_count": null,
   "metadata": {
    "id": "LG05Hmw_1UUM"
   },
   "outputs": [],
   "source": [
    "df_concat.loc[7532, 'STOP_GROUP'] = 'UNKNOWN'"
   ]
  },
  {
   "cell_type": "code",
   "execution_count": null,
   "metadata": {
    "id": "VSutvjDOxv5-"
   },
   "outputs": [],
   "source": [
    "df_concat.loc[7532, 'RUNNING_STATUS'] = 'PULLED'"
   ]
  },
  {
   "cell_type": "code",
   "execution_count": null,
   "metadata": {
    "id": "aBcLbxDgxdgu"
   },
   "outputs": [],
   "source": [
    "df_concat.loc[7532, 'RUN_LIFE'] = df_concat.loc[7532, 'RUN_LIFE'].days"
   ]
  },
  {
   "cell_type": "code",
   "execution_count": null,
   "metadata": {
    "id": "GSt-XXxAxMUi"
   },
   "outputs": [],
   "source": [
    "df_concat.loc[7532, 'RUN_LIFE'] = \\\n",
    "df_concat.loc[7532, 'FAILURE_DATE'] - df_concat.loc[7532, 'INSTALLATION_DATE']"
   ]
  },
  {
   "cell_type": "code",
   "execution_count": null,
   "metadata": {
    "id": "F5tUTgD9wm5I"
   },
   "outputs": [],
   "source": [
    "df_concat.loc[7532, 'FAILURE_DATE'] = pd.to_datetime('2024-04-22')"
   ]
  },
  {
   "cell_type": "code",
   "execution_count": null,
   "metadata": {
    "id": "AORVK0TNuOiG"
   },
   "outputs": [],
   "source": [
    "df_concat.loc[7334, 'RUN_LIFE'] = df_concat.loc[7334, 'RUN_LIFE'].days"
   ]
  },
  {
   "cell_type": "code",
   "execution_count": null,
   "metadata": {
    "colab": {
     "base_uri": "https://localhost:8080/"
    },
    "executionInfo": {
     "elapsed": 6,
     "status": "ok",
     "timestamp": 1740849862571,
     "user": {
      "displayName": "Danny Perilla",
      "userId": "12445778756415185299"
     },
     "user_tz": 300
    },
    "id": "8ZSXjYp0vMYh",
    "outputId": "da11c1cf-39b2-4169-ada2-e37a82efce07"
   },
   "outputs": [
    {
     "data": {
      "text/plain": [
       "Timedelta('1461 days 00:00:00')"
      ]
     },
     "execution_count": 147,
     "metadata": {},
     "output_type": "execute_result"
    }
   ],
   "source": [
    "df_concat.loc[7334, 'RUN_LIFE_2']"
   ]
  },
  {
   "cell_type": "code",
   "execution_count": null,
   "metadata": {
    "colab": {
     "base_uri": "https://localhost:8080/"
    },
    "executionInfo": {
     "elapsed": 6,
     "status": "ok",
     "timestamp": 1740849682004,
     "user": {
      "displayName": "Danny Perilla",
      "userId": "12445778756415185299"
     },
     "user_tz": 300
    },
    "id": "8xyjofaIuQjr",
    "outputId": "8d6847fc-16de-4508-9137-a8adcb6ef282"
   },
   "outputs": [
    {
     "data": {
      "text/plain": [
       "Timedelta('1909 days 00:00:00')"
      ]
     },
     "execution_count": 132,
     "metadata": {},
     "output_type": "execute_result"
    }
   ],
   "source": [
    "# hacer la diferencia en dias entre las fechas 19-10-2019 y 9-01-2025\n",
    "pd.to_datetime('2025-01-09') - pd.to_datetime('2019-10-19')"
   ]
  },
  {
   "cell_type": "code",
   "execution_count": null,
   "metadata": {
    "colab": {
     "base_uri": "https://localhost:8080/"
    },
    "executionInfo": {
     "elapsed": 65,
     "status": "ok",
     "timestamp": 1740849741097,
     "user": {
      "displayName": "Danny Perilla",
      "userId": "12445778756415185299"
     },
     "user_tz": 300
    },
    "id": "oKgpMAhWuqS5",
    "outputId": "30a24a8c-36e1-4840-f442-564d73cdc5fd"
   },
   "outputs": [
    {
     "data": {
      "text/plain": [
       "Timedelta('1461 days 00:00:00')"
      ]
     },
     "execution_count": 134,
     "metadata": {},
     "output_type": "execute_result"
    }
   ],
   "source": [
    "df_concat.loc[7334, 'FAILURE_DATE'] - df_concat.loc[7334, 'INSTALLATION_DATE']"
   ]
  },
  {
   "cell_type": "code",
   "execution_count": null,
   "metadata": {
    "id": "lzZ-2gJsuEB3"
   },
   "outputs": [],
   "source": [
    "df_concat.loc[7334, 'RUN_LIFE_2'] = \\\n",
    "df_concat.loc[7334, 'FAILURE_DATE'] - df_concat.loc[7334, 'INSTALLATION_DATE']"
   ]
  },
  {
   "cell_type": "code",
   "execution_count": null,
   "metadata": {
    "id": "e79Xx0e2pL77"
   },
   "outputs": [],
   "source": [
    "df_concat.loc[7334, 'STOP_GROUP'] = 'UNSPECIFIED_FAILURE'"
   ]
  },
  {
   "cell_type": "code",
   "execution_count": null,
   "metadata": {
    "id": "fgobjHa0v-vv"
   },
   "outputs": [],
   "source": [
    "df_concat.loc[7334, 'RUNNING_STATUS'] = 'PULLED'"
   ]
  },
  {
   "cell_type": "code",
   "execution_count": null,
   "metadata": {
    "colab": {
     "base_uri": "https://localhost:8080/",
     "height": 930
    },
    "executionInfo": {
     "elapsed": 57,
     "status": "ok",
     "timestamp": 1740850174500,
     "user": {
      "displayName": "Danny Perilla",
      "userId": "12445778756415185299"
     },
     "user_tz": 300
    },
    "id": "ubhhnvMCwMrD",
    "outputId": "bf527659-e4c7-4534-f79d-04f9e35f3cbe"
   },
   "outputs": [
    {
     "data": {
      "text/html": [
       "<div>\n",
       "<style scoped>\n",
       "    .dataframe tbody tr th:only-of-type {\n",
       "        vertical-align: middle;\n",
       "    }\n",
       "\n",
       "    .dataframe tbody tr th {\n",
       "        vertical-align: top;\n",
       "    }\n",
       "\n",
       "    .dataframe thead th {\n",
       "        text-align: right;\n",
       "    }\n",
       "</style>\n",
       "<table border=\"1\" class=\"dataframe\">\n",
       "  <thead>\n",
       "    <tr style=\"text-align: right;\">\n",
       "      <th></th>\n",
       "      <th>7334</th>\n",
       "    </tr>\n",
       "  </thead>\n",
       "  <tbody>\n",
       "    <tr>\n",
       "      <th>COUNTRY</th>\n",
       "      <td>TURKEY</td>\n",
       "    </tr>\n",
       "    <tr>\n",
       "      <th>ASSET</th>\n",
       "      <td>KZWM2X</td>\n",
       "    </tr>\n",
       "    <tr>\n",
       "      <th>COMPLETION_NUMBER</th>\n",
       "      <td>4</td>\n",
       "    </tr>\n",
       "    <tr>\n",
       "      <th>ACTIVATION_TYPE</th>\n",
       "      <td>ESP</td>\n",
       "    </tr>\n",
       "    <tr>\n",
       "      <th>SUPPLIER</th>\n",
       "      <td>QUAKER</td>\n",
       "    </tr>\n",
       "    <tr>\n",
       "      <th>ENVIRONMENT</th>\n",
       "      <td>ONSHORE</td>\n",
       "    </tr>\n",
       "    <tr>\n",
       "      <th>RUNNING_STATUS</th>\n",
       "      <td>PULLED</td>\n",
       "    </tr>\n",
       "    <tr>\n",
       "      <th>INSTALLATION_DATE</th>\n",
       "      <td>2019-10-19 00:00:00</td>\n",
       "    </tr>\n",
       "    <tr>\n",
       "      <th>FAILURE_DATE</th>\n",
       "      <td>2023-10-19 00:00:00</td>\n",
       "    </tr>\n",
       "    <tr>\n",
       "      <th>ACLS_DATE</th>\n",
       "      <td>NaT</td>\n",
       "    </tr>\n",
       "    <tr>\n",
       "      <th>POOH_DATE</th>\n",
       "      <td>NaT</td>\n",
       "    </tr>\n",
       "    <tr>\n",
       "      <th>LAST_UPDATE</th>\n",
       "      <td>1</td>\n",
       "    </tr>\n",
       "    <tr>\n",
       "      <th>RUN_LIFE</th>\n",
       "      <td>1461</td>\n",
       "    </tr>\n",
       "    <tr>\n",
       "      <th>RUN_LIFE_2</th>\n",
       "      <td>1461 days 00:00:00</td>\n",
       "    </tr>\n",
       "    <tr>\n",
       "      <th>START_DATE</th>\n",
       "      <td>2019-10-20 00:00:00</td>\n",
       "    </tr>\n",
       "    <tr>\n",
       "      <th>START_UP_DELAY_2</th>\n",
       "      <td>1 days</td>\n",
       "    </tr>\n",
       "    <tr>\n",
       "      <th>START_UP_DELAY</th>\n",
       "      <td>1</td>\n",
       "    </tr>\n",
       "    <tr>\n",
       "      <th>ORDINAL_CHECK</th>\n",
       "      <td>NORMAL</td>\n",
       "    </tr>\n",
       "    <tr>\n",
       "      <th>MAX_INSTALLS</th>\n",
       "      <td>4</td>\n",
       "    </tr>\n",
       "    <tr>\n",
       "      <th>STOP_INDEX</th>\n",
       "      <td>40.0</td>\n",
       "    </tr>\n",
       "    <tr>\n",
       "      <th>STOP_GROUP</th>\n",
       "      <td>UNSPECIFIED_FAILURE</td>\n",
       "    </tr>\n",
       "    <tr>\n",
       "      <th>LAST_INSTALL</th>\n",
       "      <td>1</td>\n",
       "    </tr>\n",
       "    <tr>\n",
       "      <th>REASON_FOR_STOP_OR_POOH</th>\n",
       "      <td>UNSPECIFIED FAILURE</td>\n",
       "    </tr>\n",
       "    <tr>\n",
       "      <th>CLASS</th>\n",
       "      <td>F</td>\n",
       "    </tr>\n",
       "    <tr>\n",
       "      <th>ESP_FAIL?</th>\n",
       "      <td>Yes</td>\n",
       "    </tr>\n",
       "    <tr>\n",
       "      <th>TUBING_SIZE_(INCH)</th>\n",
       "      <td>3,5</td>\n",
       "    </tr>\n",
       "    <tr>\n",
       "      <th>TUBING_WEIGHT_(PPF)</th>\n",
       "      <td>9,3</td>\n",
       "    </tr>\n",
       "  </tbody>\n",
       "</table>\n",
       "</div><br><label><b>dtype:</b> object</label>"
      ],
      "text/plain": [
       "COUNTRY                                 TURKEY\n",
       "ASSET                                   KZWM2X\n",
       "COMPLETION_NUMBER                            4\n",
       "ACTIVATION_TYPE                            ESP\n",
       "SUPPLIER                                QUAKER\n",
       "ENVIRONMENT                            ONSHORE\n",
       "RUNNING_STATUS                          PULLED\n",
       "INSTALLATION_DATE          2019-10-19 00:00:00\n",
       "FAILURE_DATE               2023-10-19 00:00:00\n",
       "ACLS_DATE                                  NaT\n",
       "POOH_DATE                                  NaT\n",
       "LAST_UPDATE                                  1\n",
       "RUN_LIFE                                  1461\n",
       "RUN_LIFE_2                  1461 days 00:00:00\n",
       "START_DATE                 2019-10-20 00:00:00\n",
       "START_UP_DELAY_2                        1 days\n",
       "START_UP_DELAY                               1\n",
       "ORDINAL_CHECK                           NORMAL\n",
       "MAX_INSTALLS                                 4\n",
       "STOP_INDEX                                40.0\n",
       "STOP_GROUP                 UNSPECIFIED_FAILURE\n",
       "LAST_INSTALL                                 1\n",
       "REASON_FOR_STOP_OR_POOH    UNSPECIFIED FAILURE\n",
       "CLASS                                        F\n",
       "ESP_FAIL?                                  Yes\n",
       "TUBING_SIZE_(INCH)                         3,5\n",
       "TUBING_WEIGHT_(PPF)                        9,3\n",
       "Name: 7334, dtype: object"
      ]
     },
     "execution_count": 156,
     "metadata": {},
     "output_type": "execute_result"
    }
   ],
   "source": [
    "df_concat.loc[7334].iloc[:27]"
   ]
  },
  {
   "cell_type": "code",
   "execution_count": null,
   "metadata": {
    "colab": {
     "base_uri": "https://localhost:8080/",
     "height": 224
    },
    "executionInfo": {
     "elapsed": 60,
     "status": "ok",
     "timestamp": 1740848128182,
     "user": {
      "displayName": "Danny Perilla",
      "userId": "12445778756415185299"
     },
     "user_tz": 300
    },
    "id": "QFJ9LpSnk8Xj",
    "outputId": "b4766a22-118d-4fdc-db45-4fe75372a7af"
   },
   "outputs": [
    {
     "data": {
      "application/vnd.google.colaboratory.intrinsic+json": {
       "type": "dataframe"
      },
      "text/html": [
       "\n",
       "  <div id=\"df-41569926-95c0-4be0-8cd5-cd4544138516\" class=\"colab-df-container\">\n",
       "    <div>\n",
       "<style scoped>\n",
       "    .dataframe tbody tr th:only-of-type {\n",
       "        vertical-align: middle;\n",
       "    }\n",
       "\n",
       "    .dataframe tbody tr th {\n",
       "        vertical-align: top;\n",
       "    }\n",
       "\n",
       "    .dataframe thead th {\n",
       "        text-align: right;\n",
       "    }\n",
       "</style>\n",
       "<table border=\"1\" class=\"dataframe\">\n",
       "  <thead>\n",
       "    <tr style=\"text-align: right;\">\n",
       "      <th></th>\n",
       "      <th>COUNTRY</th>\n",
       "      <th>ASSET</th>\n",
       "      <th>COMPLETION_NUMBER</th>\n",
       "      <th>ACTIVATION_TYPE</th>\n",
       "      <th>SUPPLIER</th>\n",
       "      <th>ENVIRONMENT</th>\n",
       "      <th>RUNNING_STATUS</th>\n",
       "      <th>INSTALLATION_DATE</th>\n",
       "      <th>FAILURE_DATE</th>\n",
       "      <th>ACLS_DATE</th>\n",
       "      <th>...</th>\n",
       "      <th>ORDINAL_CHECK</th>\n",
       "      <th>MAX_INSTALLS</th>\n",
       "      <th>STOP_INDEX</th>\n",
       "      <th>STOP_GROUP</th>\n",
       "      <th>LAST_INSTALL</th>\n",
       "      <th>REASON_FOR_STOP_OR_POOH</th>\n",
       "      <th>CLASS</th>\n",
       "      <th>ESP_FAIL?</th>\n",
       "      <th>TUBING_SIZE_(INCH)</th>\n",
       "      <th>TUBING_WEIGHT_(PPF)</th>\n",
       "    </tr>\n",
       "  </thead>\n",
       "  <tbody>\n",
       "    <tr>\n",
       "      <th>7331</th>\n",
       "      <td>TURKEY</td>\n",
       "      <td>KZWM2X</td>\n",
       "      <td>1</td>\n",
       "      <td>ESP</td>\n",
       "      <td>QUAKER</td>\n",
       "      <td>ONSHORE</td>\n",
       "      <td>PULLED</td>\n",
       "      <td>1999-09-15</td>\n",
       "      <td>NaT</td>\n",
       "      <td>NaT</td>\n",
       "      <td>...</td>\n",
       "      <td>NEW_WELL</td>\n",
       "      <td>4</td>\n",
       "      <td>42.0</td>\n",
       "      <td>WELL</td>\n",
       "      <td>0</td>\n",
       "      <td>CONVERTED LIFT METHOD</td>\n",
       "      <td>C</td>\n",
       "      <td>No</td>\n",
       "      <td>NaN</td>\n",
       "      <td>NaN</td>\n",
       "    </tr>\n",
       "    <tr>\n",
       "      <th>7332</th>\n",
       "      <td>TURKEY</td>\n",
       "      <td>KZWM2X</td>\n",
       "      <td>2</td>\n",
       "      <td>ESP</td>\n",
       "      <td>MIXED</td>\n",
       "      <td>ONSHORE</td>\n",
       "      <td>PULLED</td>\n",
       "      <td>2012-05-21</td>\n",
       "      <td>2013-01-04</td>\n",
       "      <td>NaT</td>\n",
       "      <td>...</td>\n",
       "      <td>NORMAL</td>\n",
       "      <td>4</td>\n",
       "      <td>8.0</td>\n",
       "      <td>ELECTIVE</td>\n",
       "      <td>0</td>\n",
       "      <td>ESP UPSIZE</td>\n",
       "      <td>E</td>\n",
       "      <td>No</td>\n",
       "      <td>NaN</td>\n",
       "      <td>NaN</td>\n",
       "    </tr>\n",
       "    <tr>\n",
       "      <th>7333</th>\n",
       "      <td>TURKEY</td>\n",
       "      <td>KZWM2X</td>\n",
       "      <td>3</td>\n",
       "      <td>ESP</td>\n",
       "      <td>QUAKER</td>\n",
       "      <td>ONSHORE</td>\n",
       "      <td>PULLED</td>\n",
       "      <td>2013-12-26</td>\n",
       "      <td>2019-05-19</td>\n",
       "      <td>NaT</td>\n",
       "      <td>...</td>\n",
       "      <td>NORMAL</td>\n",
       "      <td>4</td>\n",
       "      <td>14.0</td>\n",
       "      <td>ELECTRIC</td>\n",
       "      <td>0</td>\n",
       "      <td>CABLE FAILURE</td>\n",
       "      <td>F</td>\n",
       "      <td>Yes</td>\n",
       "      <td>NaN</td>\n",
       "      <td>NaN</td>\n",
       "    </tr>\n",
       "    <tr>\n",
       "      <th>7334</th>\n",
       "      <td>TURKEY</td>\n",
       "      <td>KZWM2X</td>\n",
       "      <td>4</td>\n",
       "      <td>ESP</td>\n",
       "      <td>QUAKER</td>\n",
       "      <td>ONSHORE</td>\n",
       "      <td>RUNNING</td>\n",
       "      <td>2019-10-19</td>\n",
       "      <td>NaT</td>\n",
       "      <td>NaT</td>\n",
       "      <td>...</td>\n",
       "      <td>NORMAL</td>\n",
       "      <td>4</td>\n",
       "      <td>1.0</td>\n",
       "      <td>NaN</td>\n",
       "      <td>1</td>\n",
       "      <td>UNSPECIFIED FAILURE</td>\n",
       "      <td>F</td>\n",
       "      <td>Yes</td>\n",
       "      <td>3,5</td>\n",
       "      <td>9,3</td>\n",
       "    </tr>\n",
       "  </tbody>\n",
       "</table>\n",
       "<p>4 rows × 27 columns</p>\n",
       "</div>\n",
       "    <div class=\"colab-df-buttons\">\n",
       "\n",
       "  <div class=\"colab-df-container\">\n",
       "    <button class=\"colab-df-convert\" onclick=\"convertToInteractive('df-41569926-95c0-4be0-8cd5-cd4544138516')\"\n",
       "            title=\"Convert this dataframe to an interactive table.\"\n",
       "            style=\"display:none;\">\n",
       "\n",
       "  <svg xmlns=\"http://www.w3.org/2000/svg\" height=\"24px\" viewBox=\"0 -960 960 960\">\n",
       "    <path d=\"M120-120v-720h720v720H120Zm60-500h600v-160H180v160Zm220 220h160v-160H400v160Zm0 220h160v-160H400v160ZM180-400h160v-160H180v160Zm440 0h160v-160H620v160ZM180-180h160v-160H180v160Zm440 0h160v-160H620v160Z\"/>\n",
       "  </svg>\n",
       "    </button>\n",
       "\n",
       "  <style>\n",
       "    .colab-df-container {\n",
       "      display:flex;\n",
       "      gap: 12px;\n",
       "    }\n",
       "\n",
       "    .colab-df-convert {\n",
       "      background-color: #E8F0FE;\n",
       "      border: none;\n",
       "      border-radius: 50%;\n",
       "      cursor: pointer;\n",
       "      display: none;\n",
       "      fill: #1967D2;\n",
       "      height: 32px;\n",
       "      padding: 0 0 0 0;\n",
       "      width: 32px;\n",
       "    }\n",
       "\n",
       "    .colab-df-convert:hover {\n",
       "      background-color: #E2EBFA;\n",
       "      box-shadow: 0px 1px 2px rgba(60, 64, 67, 0.3), 0px 1px 3px 1px rgba(60, 64, 67, 0.15);\n",
       "      fill: #174EA6;\n",
       "    }\n",
       "\n",
       "    .colab-df-buttons div {\n",
       "      margin-bottom: 4px;\n",
       "    }\n",
       "\n",
       "    [theme=dark] .colab-df-convert {\n",
       "      background-color: #3B4455;\n",
       "      fill: #D2E3FC;\n",
       "    }\n",
       "\n",
       "    [theme=dark] .colab-df-convert:hover {\n",
       "      background-color: #434B5C;\n",
       "      box-shadow: 0px 1px 3px 1px rgba(0, 0, 0, 0.15);\n",
       "      filter: drop-shadow(0px 1px 2px rgba(0, 0, 0, 0.3));\n",
       "      fill: #FFFFFF;\n",
       "    }\n",
       "  </style>\n",
       "\n",
       "    <script>\n",
       "      const buttonEl =\n",
       "        document.querySelector('#df-41569926-95c0-4be0-8cd5-cd4544138516 button.colab-df-convert');\n",
       "      buttonEl.style.display =\n",
       "        google.colab.kernel.accessAllowed ? 'block' : 'none';\n",
       "\n",
       "      async function convertToInteractive(key) {\n",
       "        const element = document.querySelector('#df-41569926-95c0-4be0-8cd5-cd4544138516');\n",
       "        const dataTable =\n",
       "          await google.colab.kernel.invokeFunction('convertToInteractive',\n",
       "                                                    [key], {});\n",
       "        if (!dataTable) return;\n",
       "\n",
       "        const docLinkHtml = 'Like what you see? Visit the ' +\n",
       "          '<a target=\"_blank\" href=https://colab.research.google.com/notebooks/data_table.ipynb>data table notebook</a>'\n",
       "          + ' to learn more about interactive tables.';\n",
       "        element.innerHTML = '';\n",
       "        dataTable['output_type'] = 'display_data';\n",
       "        await google.colab.output.renderOutput(dataTable, element);\n",
       "        const docLink = document.createElement('div');\n",
       "        docLink.innerHTML = docLinkHtml;\n",
       "        element.appendChild(docLink);\n",
       "      }\n",
       "    </script>\n",
       "  </div>\n",
       "\n",
       "\n",
       "<div id=\"df-767caf2f-0e68-4a8c-b2c1-2c085b2cd643\">\n",
       "  <button class=\"colab-df-quickchart\" onclick=\"quickchart('df-767caf2f-0e68-4a8c-b2c1-2c085b2cd643')\"\n",
       "            title=\"Suggest charts\"\n",
       "            style=\"display:none;\">\n",
       "\n",
       "<svg xmlns=\"http://www.w3.org/2000/svg\" height=\"24px\"viewBox=\"0 0 24 24\"\n",
       "     width=\"24px\">\n",
       "    <g>\n",
       "        <path d=\"M19 3H5c-1.1 0-2 .9-2 2v14c0 1.1.9 2 2 2h14c1.1 0 2-.9 2-2V5c0-1.1-.9-2-2-2zM9 17H7v-7h2v7zm4 0h-2V7h2v10zm4 0h-2v-4h2v4z\"/>\n",
       "    </g>\n",
       "</svg>\n",
       "  </button>\n",
       "\n",
       "<style>\n",
       "  .colab-df-quickchart {\n",
       "      --bg-color: #E8F0FE;\n",
       "      --fill-color: #1967D2;\n",
       "      --hover-bg-color: #E2EBFA;\n",
       "      --hover-fill-color: #174EA6;\n",
       "      --disabled-fill-color: #AAA;\n",
       "      --disabled-bg-color: #DDD;\n",
       "  }\n",
       "\n",
       "  [theme=dark] .colab-df-quickchart {\n",
       "      --bg-color: #3B4455;\n",
       "      --fill-color: #D2E3FC;\n",
       "      --hover-bg-color: #434B5C;\n",
       "      --hover-fill-color: #FFFFFF;\n",
       "      --disabled-bg-color: #3B4455;\n",
       "      --disabled-fill-color: #666;\n",
       "  }\n",
       "\n",
       "  .colab-df-quickchart {\n",
       "    background-color: var(--bg-color);\n",
       "    border: none;\n",
       "    border-radius: 50%;\n",
       "    cursor: pointer;\n",
       "    display: none;\n",
       "    fill: var(--fill-color);\n",
       "    height: 32px;\n",
       "    padding: 0;\n",
       "    width: 32px;\n",
       "  }\n",
       "\n",
       "  .colab-df-quickchart:hover {\n",
       "    background-color: var(--hover-bg-color);\n",
       "    box-shadow: 0 1px 2px rgba(60, 64, 67, 0.3), 0 1px 3px 1px rgba(60, 64, 67, 0.15);\n",
       "    fill: var(--button-hover-fill-color);\n",
       "  }\n",
       "\n",
       "  .colab-df-quickchart-complete:disabled,\n",
       "  .colab-df-quickchart-complete:disabled:hover {\n",
       "    background-color: var(--disabled-bg-color);\n",
       "    fill: var(--disabled-fill-color);\n",
       "    box-shadow: none;\n",
       "  }\n",
       "\n",
       "  .colab-df-spinner {\n",
       "    border: 2px solid var(--fill-color);\n",
       "    border-color: transparent;\n",
       "    border-bottom-color: var(--fill-color);\n",
       "    animation:\n",
       "      spin 1s steps(1) infinite;\n",
       "  }\n",
       "\n",
       "  @keyframes spin {\n",
       "    0% {\n",
       "      border-color: transparent;\n",
       "      border-bottom-color: var(--fill-color);\n",
       "      border-left-color: var(--fill-color);\n",
       "    }\n",
       "    20% {\n",
       "      border-color: transparent;\n",
       "      border-left-color: var(--fill-color);\n",
       "      border-top-color: var(--fill-color);\n",
       "    }\n",
       "    30% {\n",
       "      border-color: transparent;\n",
       "      border-left-color: var(--fill-color);\n",
       "      border-top-color: var(--fill-color);\n",
       "      border-right-color: var(--fill-color);\n",
       "    }\n",
       "    40% {\n",
       "      border-color: transparent;\n",
       "      border-right-color: var(--fill-color);\n",
       "      border-top-color: var(--fill-color);\n",
       "    }\n",
       "    60% {\n",
       "      border-color: transparent;\n",
       "      border-right-color: var(--fill-color);\n",
       "    }\n",
       "    80% {\n",
       "      border-color: transparent;\n",
       "      border-right-color: var(--fill-color);\n",
       "      border-bottom-color: var(--fill-color);\n",
       "    }\n",
       "    90% {\n",
       "      border-color: transparent;\n",
       "      border-bottom-color: var(--fill-color);\n",
       "    }\n",
       "  }\n",
       "</style>\n",
       "\n",
       "  <script>\n",
       "    async function quickchart(key) {\n",
       "      const quickchartButtonEl =\n",
       "        document.querySelector('#' + key + ' button');\n",
       "      quickchartButtonEl.disabled = true;  // To prevent multiple clicks.\n",
       "      quickchartButtonEl.classList.add('colab-df-spinner');\n",
       "      try {\n",
       "        const charts = await google.colab.kernel.invokeFunction(\n",
       "            'suggestCharts', [key], {});\n",
       "      } catch (error) {\n",
       "        console.error('Error during call to suggestCharts:', error);\n",
       "      }\n",
       "      quickchartButtonEl.classList.remove('colab-df-spinner');\n",
       "      quickchartButtonEl.classList.add('colab-df-quickchart-complete');\n",
       "    }\n",
       "    (() => {\n",
       "      let quickchartButtonEl =\n",
       "        document.querySelector('#df-767caf2f-0e68-4a8c-b2c1-2c085b2cd643 button');\n",
       "      quickchartButtonEl.style.display =\n",
       "        google.colab.kernel.accessAllowed ? 'block' : 'none';\n",
       "    })();\n",
       "  </script>\n",
       "</div>\n",
       "\n",
       "    </div>\n",
       "  </div>\n"
      ],
      "text/plain": [
       "     COUNTRY   ASSET  COMPLETION_NUMBER ACTIVATION_TYPE SUPPLIER ENVIRONMENT  \\\n",
       "7331  TURKEY  KZWM2X                  1             ESP   QUAKER     ONSHORE   \n",
       "7332  TURKEY  KZWM2X                  2             ESP    MIXED     ONSHORE   \n",
       "7333  TURKEY  KZWM2X                  3             ESP   QUAKER     ONSHORE   \n",
       "7334  TURKEY  KZWM2X                  4             ESP   QUAKER     ONSHORE   \n",
       "\n",
       "     RUNNING_STATUS INSTALLATION_DATE FAILURE_DATE ACLS_DATE  ...  \\\n",
       "7331         PULLED        1999-09-15          NaT       NaT  ...   \n",
       "7332         PULLED        2012-05-21   2013-01-04       NaT  ...   \n",
       "7333         PULLED        2013-12-26   2019-05-19       NaT  ...   \n",
       "7334        RUNNING        2019-10-19          NaT       NaT  ...   \n",
       "\n",
       "     ORDINAL_CHECK  MAX_INSTALLS  STOP_INDEX STOP_GROUP LAST_INSTALL  \\\n",
       "7331      NEW_WELL             4        42.0       WELL            0   \n",
       "7332        NORMAL             4         8.0   ELECTIVE            0   \n",
       "7333        NORMAL             4        14.0   ELECTRIC            0   \n",
       "7334        NORMAL             4         1.0        NaN            1   \n",
       "\n",
       "     REASON_FOR_STOP_OR_POOH  CLASS ESP_FAIL?  TUBING_SIZE_(INCH)  \\\n",
       "7331   CONVERTED LIFT METHOD      C        No                 NaN   \n",
       "7332              ESP UPSIZE      E        No                 NaN   \n",
       "7333           CABLE FAILURE      F       Yes                 NaN   \n",
       "7334     UNSPECIFIED FAILURE      F       Yes                 3,5   \n",
       "\n",
       "      TUBING_WEIGHT_(PPF)  \n",
       "7331                  NaN  \n",
       "7332                  NaN  \n",
       "7333                  NaN  \n",
       "7334                  9,3  \n",
       "\n",
       "[4 rows x 27 columns]"
      ]
     },
     "execution_count": 117,
     "metadata": {},
     "output_type": "execute_result"
    }
   ],
   "source": [
    "df_concat[df_concat['ASSET'] == 'KZWM2X'].iloc[:,: 27]"
   ]
  },
  {
   "cell_type": "code",
   "execution_count": null,
   "metadata": {
    "colab": {
     "base_uri": "https://localhost:8080/",
     "height": 458
    },
    "executionInfo": {
     "elapsed": 49,
     "status": "ok",
     "timestamp": 1740848014035,
     "user": {
      "displayName": "Danny Perilla",
      "userId": "12445778756415185299"
     },
     "user_tz": 300
    },
    "id": "enyCkd3qnrfo",
    "outputId": "eba3f2be-d8fe-4e24-add4-d323720600c9"
   },
   "outputs": [
    {
     "data": {
      "text/html": [
       "<div>\n",
       "<style scoped>\n",
       "    .dataframe tbody tr th:only-of-type {\n",
       "        vertical-align: middle;\n",
       "    }\n",
       "\n",
       "    .dataframe tbody tr th {\n",
       "        vertical-align: top;\n",
       "    }\n",
       "\n",
       "    .dataframe thead th {\n",
       "        text-align: right;\n",
       "    }\n",
       "</style>\n",
       "<table border=\"1\" class=\"dataframe\">\n",
       "  <thead>\n",
       "    <tr style=\"text-align: right;\">\n",
       "      <th></th>\n",
       "      <th>7334</th>\n",
       "    </tr>\n",
       "  </thead>\n",
       "  <tbody>\n",
       "    <tr>\n",
       "      <th>COUNTRY</th>\n",
       "      <td>TURKEY</td>\n",
       "    </tr>\n",
       "    <tr>\n",
       "      <th>ASSET</th>\n",
       "      <td>KZWM2X</td>\n",
       "    </tr>\n",
       "    <tr>\n",
       "      <th>COMPLETION_NUMBER</th>\n",
       "      <td>4</td>\n",
       "    </tr>\n",
       "    <tr>\n",
       "      <th>ACTIVATION_TYPE</th>\n",
       "      <td>ESP</td>\n",
       "    </tr>\n",
       "    <tr>\n",
       "      <th>SUPPLIER</th>\n",
       "      <td>QUAKER</td>\n",
       "    </tr>\n",
       "    <tr>\n",
       "      <th>...</th>\n",
       "      <td>...</td>\n",
       "    </tr>\n",
       "    <tr>\n",
       "      <th>USAGE_INTAKE</th>\n",
       "      <td>1</td>\n",
       "    </tr>\n",
       "    <tr>\n",
       "      <th>USAGE_ROUND</th>\n",
       "      <td>0</td>\n",
       "    </tr>\n",
       "    <tr>\n",
       "      <th>USAGE_FLAT</th>\n",
       "      <td>NaN</td>\n",
       "    </tr>\n",
       "    <tr>\n",
       "      <th>USAGE_GAUGE</th>\n",
       "      <td>0</td>\n",
       "    </tr>\n",
       "    <tr>\n",
       "      <th>PUMP_IS_NEW?</th>\n",
       "      <td>NEW</td>\n",
       "    </tr>\n",
       "  </tbody>\n",
       "</table>\n",
       "<p>92 rows × 1 columns</p>\n",
       "</div><br><label><b>dtype:</b> object</label>"
      ],
      "text/plain": [
       "COUNTRY              TURKEY\n",
       "ASSET                KZWM2X\n",
       "COMPLETION_NUMBER         4\n",
       "ACTIVATION_TYPE         ESP\n",
       "SUPPLIER             QUAKER\n",
       "                      ...  \n",
       "USAGE_INTAKE              1\n",
       "USAGE_ROUND               0\n",
       "USAGE_FLAT              NaN\n",
       "USAGE_GAUGE               0\n",
       "PUMP_IS_NEW?            NEW\n",
       "Name: 7334, Length: 92, dtype: object"
      ]
     },
     "execution_count": 114,
     "metadata": {},
     "output_type": "execute_result"
    }
   ],
   "source": [
    "df_concat.iloc[7334]"
   ]
  },
  {
   "cell_type": "code",
   "execution_count": null,
   "metadata": {
    "colab": {
     "base_uri": "https://localhost:8080/",
     "height": 422
    },
    "executionInfo": {
     "elapsed": 23,
     "status": "ok",
     "timestamp": 1740687066035,
     "user": {
      "displayName": "Danny Perilla",
      "userId": "12445778756415185299"
     },
     "user_tz": 300
    },
    "id": "pktuZWzu_yDj",
    "outputId": "3dcf3894-8109-4b55-d521-5b051de92746"
   },
   "outputs": [
    {
     "name": "stderr",
     "output_type": "stream",
     "text": [
      "<ipython-input-198-776920a3e026>:1: UserWarning: Boolean Series key will be reindexed to match DataFrame index.\n",
      "  df_concat\\\n"
     ]
    },
    {
     "data": {
      "text/html": [
       "<div>\n",
       "<style scoped>\n",
       "    .dataframe tbody tr th:only-of-type {\n",
       "        vertical-align: middle;\n",
       "    }\n",
       "\n",
       "    .dataframe tbody tr th {\n",
       "        vertical-align: top;\n",
       "    }\n",
       "\n",
       "    .dataframe thead th {\n",
       "        text-align: right;\n",
       "    }\n",
       "</style>\n",
       "<table border=\"1\" class=\"dataframe\">\n",
       "  <thead>\n",
       "    <tr style=\"text-align: right;\">\n",
       "      <th></th>\n",
       "      <th>count</th>\n",
       "    </tr>\n",
       "    <tr>\n",
       "      <th>REASON_FOR_STOP_OR_POOH</th>\n",
       "      <th></th>\n",
       "    </tr>\n",
       "  </thead>\n",
       "  <tbody>\n",
       "    <tr>\n",
       "      <th>Converted Lift Method</th>\n",
       "      <td>99</td>\n",
       "    </tr>\n",
       "    <tr>\n",
       "      <th>Converted to Injector</th>\n",
       "      <td>23</td>\n",
       "    </tr>\n",
       "    <tr>\n",
       "      <th>Electric Failure - Unspecified</th>\n",
       "      <td>3</td>\n",
       "    </tr>\n",
       "    <tr>\n",
       "      <th>Broken Shaft or Coupling</th>\n",
       "      <td>2</td>\n",
       "    </tr>\n",
       "    <tr>\n",
       "      <th>Motor Failure</th>\n",
       "      <td>1</td>\n",
       "    </tr>\n",
       "    <tr>\n",
       "      <th>Pump Stuck, including scale</th>\n",
       "      <td>1</td>\n",
       "    </tr>\n",
       "    <tr>\n",
       "      <th>High BSW</th>\n",
       "      <td>1</td>\n",
       "    </tr>\n",
       "    <tr>\n",
       "      <th>Pump Failure</th>\n",
       "      <td>1</td>\n",
       "    </tr>\n",
       "  </tbody>\n",
       "</table>\n",
       "</div><br><label><b>dtype:</b> int64</label>"
      ],
      "text/plain": [
       "REASON_FOR_STOP_OR_POOH\n",
       "Converted Lift Method             99\n",
       "Converted to Injector             23\n",
       "Electric Failure - Unspecified     3\n",
       "Broken Shaft or Coupling           2\n",
       "Motor Failure                      1\n",
       "Pump Stuck, including scale        1\n",
       "High BSW                           1\n",
       "Pump Failure                       1\n",
       "Name: count, dtype: int64"
      ]
     },
     "execution_count": 198,
     "metadata": {},
     "output_type": "execute_result"
    }
   ],
   "source": [
    "df_concat\\\n",
    " [df_concat['RUNNING_STATUS']=='ACLS']\\\n",
    "  [df_concat['CLASS'] == 'C']['REASON_FOR_STOP_OR_POOH'].value_counts()"
   ]
  },
  {
   "cell_type": "code",
   "execution_count": null,
   "metadata": {
    "id": "oFVzfYPEAZio"
   },
   "outputs": [],
   "source": [
    "df_concat.loc[\n",
    "    (df_concat['RUNNING_STATUS'] == 'ACLS') & (df_concat['CLASS'] == 'F'),\n",
    "    'RUNNING_STATUS'\n",
    "] = 'PULLED'"
   ]
  },
  {
   "cell_type": "code",
   "execution_count": null,
   "metadata": {
    "colab": {
     "base_uri": "https://localhost:8080/"
    },
    "executionInfo": {
     "elapsed": 40,
     "status": "ok",
     "timestamp": 1740686564190,
     "user": {
      "displayName": "Danny Perilla",
      "userId": "12445778756415185299"
     },
     "user_tz": 300
    },
    "id": "bhd1Qu8iAOAu",
    "outputId": "e2f6e253-a67f-4333-ba80-54b23400a8b2"
   },
   "outputs": [
    {
     "name": "stderr",
     "output_type": "stream",
     "text": [
      "<ipython-input-189-df82df0ab6bc>:1: UserWarning: Boolean Series key will be reindexed to match DataFrame index.\n",
      "  df_concat\\\n"
     ]
    },
    {
     "data": {
      "text/plain": [
       "53"
      ]
     },
     "execution_count": 189,
     "metadata": {},
     "output_type": "execute_result"
    }
   ],
   "source": [
    "df_concat\\\n",
    " [df_concat['RUNNING_STATUS']=='ACLS']\\\n",
    "  [df_concat['CLASS'] == 'F']['RUNNING_STATUS'].shape[0]"
   ]
  },
  {
   "cell_type": "code",
   "execution_count": null,
   "metadata": {
    "colab": {
     "base_uri": "https://localhost:8080/",
     "height": 455
    },
    "executionInfo": {
     "elapsed": 63,
     "status": "ok",
     "timestamp": 1740685888087,
     "user": {
      "displayName": "Danny Perilla",
      "userId": "12445778756415185299"
     },
     "user_tz": 300
    },
    "id": "sm6pZpdT6ojX",
    "outputId": "c5d140d7-6881-4802-a34b-54ac7ad7d6d3"
   },
   "outputs": [
    {
     "name": "stderr",
     "output_type": "stream",
     "text": [
      "<ipython-input-175-8b209215241b>:1: UserWarning: Boolean Series key will be reindexed to match DataFrame index.\n",
      "  df_concat\\\n",
      "<ipython-input-175-8b209215241b>:1: UserWarning: Boolean Series key will be reindexed to match DataFrame index.\n",
      "  df_concat\\\n"
     ]
    },
    {
     "data": {
      "application/vnd.google.colaboratory.intrinsic+json": {
       "summary": "{\n  \"name\": \"   [['REASON_FOR_STOP_OR_POOH', 'ESP_FAIL?']]\",\n  \"rows\": 10,\n  \"fields\": [\n    {\n      \"column\": \"REASON_FOR_STOP_OR_POOH\",\n      \"properties\": {\n        \"dtype\": \"category\",\n        \"num_unique_values\": 1,\n        \"samples\": [\n          \"Unknown\"\n        ],\n        \"semantic_type\": \"\",\n        \"description\": \"\"\n      }\n    },\n    {\n      \"column\": \"ESP_FAIL?\",\n      \"properties\": {\n        \"dtype\": \"category\",\n        \"num_unique_values\": 1,\n        \"samples\": [\n          \"Yes\"\n        ],\n        \"semantic_type\": \"\",\n        \"description\": \"\"\n      }\n    }\n  ]\n}",
       "type": "dataframe"
      },
      "text/html": [
       "\n",
       "  <div id=\"df-1ff52635-2728-4d4e-b59e-10c3f8bd35d1\" class=\"colab-df-container\">\n",
       "    <div>\n",
       "<style scoped>\n",
       "    .dataframe tbody tr th:only-of-type {\n",
       "        vertical-align: middle;\n",
       "    }\n",
       "\n",
       "    .dataframe tbody tr th {\n",
       "        vertical-align: top;\n",
       "    }\n",
       "\n",
       "    .dataframe thead th {\n",
       "        text-align: right;\n",
       "    }\n",
       "</style>\n",
       "<table border=\"1\" class=\"dataframe\">\n",
       "  <thead>\n",
       "    <tr style=\"text-align: right;\">\n",
       "      <th></th>\n",
       "      <th>REASON_FOR_STOP_OR_POOH</th>\n",
       "      <th>ESP_FAIL?</th>\n",
       "    </tr>\n",
       "  </thead>\n",
       "  <tbody>\n",
       "    <tr>\n",
       "      <th>195</th>\n",
       "      <td>Unknown</td>\n",
       "      <td>Yes</td>\n",
       "    </tr>\n",
       "    <tr>\n",
       "      <th>823</th>\n",
       "      <td>Unknown</td>\n",
       "      <td>Yes</td>\n",
       "    </tr>\n",
       "    <tr>\n",
       "      <th>824</th>\n",
       "      <td>Unknown</td>\n",
       "      <td>Yes</td>\n",
       "    </tr>\n",
       "    <tr>\n",
       "      <th>830</th>\n",
       "      <td>Unknown</td>\n",
       "      <td>Yes</td>\n",
       "    </tr>\n",
       "    <tr>\n",
       "      <th>1721</th>\n",
       "      <td>Unknown</td>\n",
       "      <td>Yes</td>\n",
       "    </tr>\n",
       "    <tr>\n",
       "      <th>4280</th>\n",
       "      <td>Unknown</td>\n",
       "      <td>Yes</td>\n",
       "    </tr>\n",
       "    <tr>\n",
       "      <th>6617</th>\n",
       "      <td>Unknown</td>\n",
       "      <td>Yes</td>\n",
       "    </tr>\n",
       "    <tr>\n",
       "      <th>6624</th>\n",
       "      <td>Unknown</td>\n",
       "      <td>Yes</td>\n",
       "    </tr>\n",
       "    <tr>\n",
       "      <th>7194</th>\n",
       "      <td>Unknown</td>\n",
       "      <td>Yes</td>\n",
       "    </tr>\n",
       "    <tr>\n",
       "      <th>8245</th>\n",
       "      <td>Unknown</td>\n",
       "      <td>Yes</td>\n",
       "    </tr>\n",
       "  </tbody>\n",
       "</table>\n",
       "</div>\n",
       "    <div class=\"colab-df-buttons\">\n",
       "\n",
       "  <div class=\"colab-df-container\">\n",
       "    <button class=\"colab-df-convert\" onclick=\"convertToInteractive('df-1ff52635-2728-4d4e-b59e-10c3f8bd35d1')\"\n",
       "            title=\"Convert this dataframe to an interactive table.\"\n",
       "            style=\"display:none;\">\n",
       "\n",
       "  <svg xmlns=\"http://www.w3.org/2000/svg\" height=\"24px\" viewBox=\"0 -960 960 960\">\n",
       "    <path d=\"M120-120v-720h720v720H120Zm60-500h600v-160H180v160Zm220 220h160v-160H400v160Zm0 220h160v-160H400v160ZM180-400h160v-160H180v160Zm440 0h160v-160H620v160ZM180-180h160v-160H180v160Zm440 0h160v-160H620v160Z\"/>\n",
       "  </svg>\n",
       "    </button>\n",
       "\n",
       "  <style>\n",
       "    .colab-df-container {\n",
       "      display:flex;\n",
       "      gap: 12px;\n",
       "    }\n",
       "\n",
       "    .colab-df-convert {\n",
       "      background-color: #E8F0FE;\n",
       "      border: none;\n",
       "      border-radius: 50%;\n",
       "      cursor: pointer;\n",
       "      display: none;\n",
       "      fill: #1967D2;\n",
       "      height: 32px;\n",
       "      padding: 0 0 0 0;\n",
       "      width: 32px;\n",
       "    }\n",
       "\n",
       "    .colab-df-convert:hover {\n",
       "      background-color: #E2EBFA;\n",
       "      box-shadow: 0px 1px 2px rgba(60, 64, 67, 0.3), 0px 1px 3px 1px rgba(60, 64, 67, 0.15);\n",
       "      fill: #174EA6;\n",
       "    }\n",
       "\n",
       "    .colab-df-buttons div {\n",
       "      margin-bottom: 4px;\n",
       "    }\n",
       "\n",
       "    [theme=dark] .colab-df-convert {\n",
       "      background-color: #3B4455;\n",
       "      fill: #D2E3FC;\n",
       "    }\n",
       "\n",
       "    [theme=dark] .colab-df-convert:hover {\n",
       "      background-color: #434B5C;\n",
       "      box-shadow: 0px 1px 3px 1px rgba(0, 0, 0, 0.15);\n",
       "      filter: drop-shadow(0px 1px 2px rgba(0, 0, 0, 0.3));\n",
       "      fill: #FFFFFF;\n",
       "    }\n",
       "  </style>\n",
       "\n",
       "    <script>\n",
       "      const buttonEl =\n",
       "        document.querySelector('#df-1ff52635-2728-4d4e-b59e-10c3f8bd35d1 button.colab-df-convert');\n",
       "      buttonEl.style.display =\n",
       "        google.colab.kernel.accessAllowed ? 'block' : 'none';\n",
       "\n",
       "      async function convertToInteractive(key) {\n",
       "        const element = document.querySelector('#df-1ff52635-2728-4d4e-b59e-10c3f8bd35d1');\n",
       "        const dataTable =\n",
       "          await google.colab.kernel.invokeFunction('convertToInteractive',\n",
       "                                                    [key], {});\n",
       "        if (!dataTable) return;\n",
       "\n",
       "        const docLinkHtml = 'Like what you see? Visit the ' +\n",
       "          '<a target=\"_blank\" href=https://colab.research.google.com/notebooks/data_table.ipynb>data table notebook</a>'\n",
       "          + ' to learn more about interactive tables.';\n",
       "        element.innerHTML = '';\n",
       "        dataTable['output_type'] = 'display_data';\n",
       "        await google.colab.output.renderOutput(dataTable, element);\n",
       "        const docLink = document.createElement('div');\n",
       "        docLink.innerHTML = docLinkHtml;\n",
       "        element.appendChild(docLink);\n",
       "      }\n",
       "    </script>\n",
       "  </div>\n",
       "\n",
       "\n",
       "<div id=\"df-3f885dfd-9e10-4c49-b4f8-dd0c363b9090\">\n",
       "  <button class=\"colab-df-quickchart\" onclick=\"quickchart('df-3f885dfd-9e10-4c49-b4f8-dd0c363b9090')\"\n",
       "            title=\"Suggest charts\"\n",
       "            style=\"display:none;\">\n",
       "\n",
       "<svg xmlns=\"http://www.w3.org/2000/svg\" height=\"24px\"viewBox=\"0 0 24 24\"\n",
       "     width=\"24px\">\n",
       "    <g>\n",
       "        <path d=\"M19 3H5c-1.1 0-2 .9-2 2v14c0 1.1.9 2 2 2h14c1.1 0 2-.9 2-2V5c0-1.1-.9-2-2-2zM9 17H7v-7h2v7zm4 0h-2V7h2v10zm4 0h-2v-4h2v4z\"/>\n",
       "    </g>\n",
       "</svg>\n",
       "  </button>\n",
       "\n",
       "<style>\n",
       "  .colab-df-quickchart {\n",
       "      --bg-color: #E8F0FE;\n",
       "      --fill-color: #1967D2;\n",
       "      --hover-bg-color: #E2EBFA;\n",
       "      --hover-fill-color: #174EA6;\n",
       "      --disabled-fill-color: #AAA;\n",
       "      --disabled-bg-color: #DDD;\n",
       "  }\n",
       "\n",
       "  [theme=dark] .colab-df-quickchart {\n",
       "      --bg-color: #3B4455;\n",
       "      --fill-color: #D2E3FC;\n",
       "      --hover-bg-color: #434B5C;\n",
       "      --hover-fill-color: #FFFFFF;\n",
       "      --disabled-bg-color: #3B4455;\n",
       "      --disabled-fill-color: #666;\n",
       "  }\n",
       "\n",
       "  .colab-df-quickchart {\n",
       "    background-color: var(--bg-color);\n",
       "    border: none;\n",
       "    border-radius: 50%;\n",
       "    cursor: pointer;\n",
       "    display: none;\n",
       "    fill: var(--fill-color);\n",
       "    height: 32px;\n",
       "    padding: 0;\n",
       "    width: 32px;\n",
       "  }\n",
       "\n",
       "  .colab-df-quickchart:hover {\n",
       "    background-color: var(--hover-bg-color);\n",
       "    box-shadow: 0 1px 2px rgba(60, 64, 67, 0.3), 0 1px 3px 1px rgba(60, 64, 67, 0.15);\n",
       "    fill: var(--button-hover-fill-color);\n",
       "  }\n",
       "\n",
       "  .colab-df-quickchart-complete:disabled,\n",
       "  .colab-df-quickchart-complete:disabled:hover {\n",
       "    background-color: var(--disabled-bg-color);\n",
       "    fill: var(--disabled-fill-color);\n",
       "    box-shadow: none;\n",
       "  }\n",
       "\n",
       "  .colab-df-spinner {\n",
       "    border: 2px solid var(--fill-color);\n",
       "    border-color: transparent;\n",
       "    border-bottom-color: var(--fill-color);\n",
       "    animation:\n",
       "      spin 1s steps(1) infinite;\n",
       "  }\n",
       "\n",
       "  @keyframes spin {\n",
       "    0% {\n",
       "      border-color: transparent;\n",
       "      border-bottom-color: var(--fill-color);\n",
       "      border-left-color: var(--fill-color);\n",
       "    }\n",
       "    20% {\n",
       "      border-color: transparent;\n",
       "      border-left-color: var(--fill-color);\n",
       "      border-top-color: var(--fill-color);\n",
       "    }\n",
       "    30% {\n",
       "      border-color: transparent;\n",
       "      border-left-color: var(--fill-color);\n",
       "      border-top-color: var(--fill-color);\n",
       "      border-right-color: var(--fill-color);\n",
       "    }\n",
       "    40% {\n",
       "      border-color: transparent;\n",
       "      border-right-color: var(--fill-color);\n",
       "      border-top-color: var(--fill-color);\n",
       "    }\n",
       "    60% {\n",
       "      border-color: transparent;\n",
       "      border-right-color: var(--fill-color);\n",
       "    }\n",
       "    80% {\n",
       "      border-color: transparent;\n",
       "      border-right-color: var(--fill-color);\n",
       "      border-bottom-color: var(--fill-color);\n",
       "    }\n",
       "    90% {\n",
       "      border-color: transparent;\n",
       "      border-bottom-color: var(--fill-color);\n",
       "    }\n",
       "  }\n",
       "</style>\n",
       "\n",
       "  <script>\n",
       "    async function quickchart(key) {\n",
       "      const quickchartButtonEl =\n",
       "        document.querySelector('#' + key + ' button');\n",
       "      quickchartButtonEl.disabled = true;  // To prevent multiple clicks.\n",
       "      quickchartButtonEl.classList.add('colab-df-spinner');\n",
       "      try {\n",
       "        const charts = await google.colab.kernel.invokeFunction(\n",
       "            'suggestCharts', [key], {});\n",
       "      } catch (error) {\n",
       "        console.error('Error during call to suggestCharts:', error);\n",
       "      }\n",
       "      quickchartButtonEl.classList.remove('colab-df-spinner');\n",
       "      quickchartButtonEl.classList.add('colab-df-quickchart-complete');\n",
       "    }\n",
       "    (() => {\n",
       "      let quickchartButtonEl =\n",
       "        document.querySelector('#df-3f885dfd-9e10-4c49-b4f8-dd0c363b9090 button');\n",
       "      quickchartButtonEl.style.display =\n",
       "        google.colab.kernel.accessAllowed ? 'block' : 'none';\n",
       "    })();\n",
       "  </script>\n",
       "</div>\n",
       "\n",
       "    </div>\n",
       "  </div>\n"
      ],
      "text/plain": [
       "     REASON_FOR_STOP_OR_POOH ESP_FAIL?\n",
       "195                  Unknown       Yes\n",
       "823                  Unknown       Yes\n",
       "824                  Unknown       Yes\n",
       "830                  Unknown       Yes\n",
       "1721                 Unknown       Yes\n",
       "4280                 Unknown       Yes\n",
       "6617                 Unknown       Yes\n",
       "6624                 Unknown       Yes\n",
       "7194                 Unknown       Yes\n",
       "8245                 Unknown       Yes"
      ]
     },
     "execution_count": 175,
     "metadata": {},
     "output_type": "execute_result"
    }
   ],
   "source": [
    "df_concat\\\n",
    " [df_concat['RUNNING_STATUS']=='ACLS']\\\n",
    "  [df_concat['CLASS'] == 'F'][df_concat['REASON_FOR_STOP_OR_POOH'] == 'Unknown']\\\n",
    "   [['REASON_FOR_STOP_OR_POOH', 'ESP_FAIL?']]"
   ]
  },
  {
   "cell_type": "code",
   "execution_count": null,
   "metadata": {
    "id": "QGy3tyxI8XPC"
   },
   "outputs": [],
   "source": [
    "# ACLS\n",
    "# F\n",
    "# reason_for_stop_or_pooh"
   ]
  },
  {
   "cell_type": "code",
   "execution_count": null,
   "metadata": {
    "id": "ZNVWOelA1rVZ"
   },
   "outputs": [],
   "source": [
    "indices = df_concat[\n",
    "    (df_concat['RUNNING_STATUS'] == 'ACLS') &\n",
    "    (df_concat['CLASS'].isin(['F', 'N', 'E']))\n",
    "][['CLASS', 'RUNNING_STATUS', 'REASON_FOR_STOP_OR_POOH']]['REASON_FOR_STOP_OR_POOH'].value_counts().index\n"
   ]
  },
  {
   "cell_type": "code",
   "execution_count": null,
   "metadata": {
    "colab": {
     "base_uri": "https://localhost:8080/"
    },
    "executionInfo": {
     "elapsed": 9,
     "status": "ok",
     "timestamp": 1740684520386,
     "user": {
      "displayName": "Danny Perilla",
      "userId": "12445778756415185299"
     },
     "user_tz": 300
    },
    "id": "iXyqYu_e4eRH",
    "outputId": "3677b680-7fbf-4baf-ac79-4ba6d3c0fc8f"
   },
   "outputs": [
    {
     "data": {
      "text/plain": [
       "Index(['Electric Failure - Unspecified', 'Unknown',\n",
       "       'Pump Stuck, including scale', 'Tubing or comp acc failure',\n",
       "       'Converted to Injector', 'Broken Shaft or Coupling', 'High BSW',\n",
       "       'Elective - Unspecified', 'Converted Lift Method',\n",
       "       'Unspecified Failure', 'Corrosion', 'Cable Failure', 'Low Productivity',\n",
       "       'Low efficiency', 'Abandoned', 'Operation', 'Zone change or addition',\n",
       "       'Motor Failure', 'Temporarily Abandoned'],\n",
       "      dtype='object', name='REASON_FOR_STOP_OR_POOH')"
      ]
     },
     "execution_count": 153,
     "metadata": {},
     "output_type": "execute_result"
    }
   ],
   "source": [
    "indices"
   ]
  },
  {
   "cell_type": "code",
   "execution_count": null,
   "metadata": {
    "colab": {
     "base_uri": "https://localhost:8080/",
     "height": 489
    },
    "executionInfo": {
     "elapsed": 10,
     "status": "ok",
     "timestamp": 1740684953452,
     "user": {
      "displayName": "Danny Perilla",
      "userId": "12445778756415185299"
     },
     "user_tz": 300
    },
    "id": "KF9Udf5P6Bgh",
    "outputId": "f5ac9997-cc47-40ea-fe22-b09bd7f99d79"
   },
   "outputs": [
    {
     "data": {
      "text/html": [
       "<div>\n",
       "<style scoped>\n",
       "    .dataframe tbody tr th:only-of-type {\n",
       "        vertical-align: middle;\n",
       "    }\n",
       "\n",
       "    .dataframe tbody tr th {\n",
       "        vertical-align: top;\n",
       "    }\n",
       "\n",
       "    .dataframe thead th {\n",
       "        text-align: right;\n",
       "    }\n",
       "</style>\n",
       "<table border=\"1\" class=\"dataframe\">\n",
       "  <thead>\n",
       "    <tr style=\"text-align: right;\">\n",
       "      <th></th>\n",
       "      <th>count</th>\n",
       "    </tr>\n",
       "    <tr>\n",
       "      <th>REASON_FOR_STOP_OR_POOH</th>\n",
       "      <th></th>\n",
       "    </tr>\n",
       "  </thead>\n",
       "  <tbody>\n",
       "    <tr>\n",
       "      <th>Unknown</th>\n",
       "      <td>1396</td>\n",
       "    </tr>\n",
       "    <tr>\n",
       "      <th>Electric Failure - Unspecified</th>\n",
       "      <td>1342</td>\n",
       "    </tr>\n",
       "    <tr>\n",
       "      <th>Cable Failure</th>\n",
       "      <td>805</td>\n",
       "    </tr>\n",
       "    <tr>\n",
       "      <th>Motor Failure</th>\n",
       "      <td>804</td>\n",
       "    </tr>\n",
       "    <tr>\n",
       "      <th>-</th>\n",
       "      <td>596</td>\n",
       "    </tr>\n",
       "    <tr>\n",
       "      <th>...</th>\n",
       "      <td>...</td>\n",
       "    </tr>\n",
       "    <tr>\n",
       "      <th>Paraffin</th>\n",
       "      <td>1</td>\n",
       "    </tr>\n",
       "    <tr>\n",
       "      <th>gas lock</th>\n",
       "      <td>1</td>\n",
       "    </tr>\n",
       "    <tr>\n",
       "      <th>ESP Deepening</th>\n",
       "      <td>1</td>\n",
       "    </tr>\n",
       "    <tr>\n",
       "      <th>Sabotage</th>\n",
       "      <td>1</td>\n",
       "    </tr>\n",
       "    <tr>\n",
       "      <th>Well Chemical Treatment</th>\n",
       "      <td>1</td>\n",
       "    </tr>\n",
       "  </tbody>\n",
       "</table>\n",
       "<p>61 rows × 1 columns</p>\n",
       "</div><br><label><b>dtype:</b> int64</label>"
      ],
      "text/plain": [
       "REASON_FOR_STOP_OR_POOH\n",
       "Unknown                           1396\n",
       "Electric Failure - Unspecified    1342\n",
       "Cable Failure                      805\n",
       "Motor Failure                      804\n",
       "-                                  596\n",
       "                                  ... \n",
       "Paraffin                             1\n",
       "gas lock                             1\n",
       "ESP Deepening                        1\n",
       "Sabotage                             1\n",
       "Well Chemical Treatment              1\n",
       "Name: count, Length: 61, dtype: int64"
      ]
     },
     "execution_count": 154,
     "metadata": {},
     "output_type": "execute_result"
    }
   ],
   "source": [
    "df_concat['REASON_FOR_STOP_OR_POOH'].value_counts()"
   ]
  },
  {
   "cell_type": "code",
   "execution_count": null,
   "metadata": {
    "colab": {
     "base_uri": "https://localhost:8080/",
     "height": 265
    },
    "executionInfo": {
     "elapsed": 66,
     "status": "ok",
     "timestamp": 1740686152641,
     "user": {
      "displayName": "Danny Perilla",
      "userId": "12445778756415185299"
     },
     "user_tz": 300
    },
    "id": "K-axsZnC-SMT",
    "outputId": "e37a0931-4551-443b-c057-32cec87e5aa5"
   },
   "outputs": [
    {
     "name": "stderr",
     "output_type": "stream",
     "text": [
      "<ipython-input-178-f268cab8a724>:1: UserWarning: Boolean Series key will be reindexed to match DataFrame index.\n",
      "  df_concat[df_concat['RUNNING_STATUS']=='ACLS'][df_concat['CLASS']=='U']['ESP_FAIL?'].value_counts()\n"
     ]
    },
    {
     "data": {
      "text/html": [
       "<div>\n",
       "<style scoped>\n",
       "    .dataframe tbody tr th:only-of-type {\n",
       "        vertical-align: middle;\n",
       "    }\n",
       "\n",
       "    .dataframe tbody tr th {\n",
       "        vertical-align: top;\n",
       "    }\n",
       "\n",
       "    .dataframe thead th {\n",
       "        text-align: right;\n",
       "    }\n",
       "</style>\n",
       "<table border=\"1\" class=\"dataframe\">\n",
       "  <thead>\n",
       "    <tr style=\"text-align: right;\">\n",
       "      <th></th>\n",
       "      <th>count</th>\n",
       "    </tr>\n",
       "    <tr>\n",
       "      <th>ESP_FAIL?</th>\n",
       "      <th></th>\n",
       "    </tr>\n",
       "  </thead>\n",
       "  <tbody>\n",
       "    <tr>\n",
       "      <th>Unknown</th>\n",
       "      <td>9</td>\n",
       "    </tr>\n",
       "    <tr>\n",
       "      <th>No</th>\n",
       "      <td>3</td>\n",
       "    </tr>\n",
       "    <tr>\n",
       "      <th>Yes</th>\n",
       "      <td>1</td>\n",
       "    </tr>\n",
       "  </tbody>\n",
       "</table>\n",
       "</div><br><label><b>dtype:</b> int64</label>"
      ],
      "text/plain": [
       "ESP_FAIL?\n",
       "Unknown    9\n",
       "No         3\n",
       "Yes        1\n",
       "Name: count, dtype: int64"
      ]
     },
     "execution_count": 178,
     "metadata": {},
     "output_type": "execute_result"
    }
   ],
   "source": [
    "df_concat[df_concat['RUNNING_STATUS']=='ACLS'][df_concat['CLASS']=='U']['ESP_FAIL?'].value_counts()"
   ]
  },
  {
   "cell_type": "code",
   "execution_count": null,
   "metadata": {
    "colab": {
     "base_uri": "https://localhost:8080/",
     "height": 265
    },
    "executionInfo": {
     "elapsed": 44,
     "status": "ok",
     "timestamp": 1740686185179,
     "user": {
      "displayName": "Danny Perilla",
      "userId": "12445778756415185299"
     },
     "user_tz": 300
    },
    "id": "FWjBujLQ-zEO",
    "outputId": "571d90f5-798a-4b49-920f-3e15c2a9ccba"
   },
   "outputs": [
    {
     "name": "stderr",
     "output_type": "stream",
     "text": [
      "<ipython-input-179-580dbc3f0fad>:1: UserWarning: Boolean Series key will be reindexed to match DataFrame index.\n",
      "  df_concat[df_concat['RUNNING_STATUS']=='PULLED'][df_concat['CLASS']=='U']['ESP_FAIL?'].value_counts()\n"
     ]
    },
    {
     "data": {
      "text/html": [
       "<div>\n",
       "<style scoped>\n",
       "    .dataframe tbody tr th:only-of-type {\n",
       "        vertical-align: middle;\n",
       "    }\n",
       "\n",
       "    .dataframe tbody tr th {\n",
       "        vertical-align: top;\n",
       "    }\n",
       "\n",
       "    .dataframe thead th {\n",
       "        text-align: right;\n",
       "    }\n",
       "</style>\n",
       "<table border=\"1\" class=\"dataframe\">\n",
       "  <thead>\n",
       "    <tr style=\"text-align: right;\">\n",
       "      <th></th>\n",
       "      <th>count</th>\n",
       "    </tr>\n",
       "    <tr>\n",
       "      <th>ESP_FAIL?</th>\n",
       "      <th></th>\n",
       "    </tr>\n",
       "  </thead>\n",
       "  <tbody>\n",
       "    <tr>\n",
       "      <th>Unknown</th>\n",
       "      <td>302</td>\n",
       "    </tr>\n",
       "    <tr>\n",
       "      <th>Yes</th>\n",
       "      <td>100</td>\n",
       "    </tr>\n",
       "    <tr>\n",
       "      <th>No</th>\n",
       "      <td>25</td>\n",
       "    </tr>\n",
       "  </tbody>\n",
       "</table>\n",
       "</div><br><label><b>dtype:</b> int64</label>"
      ],
      "text/plain": [
       "ESP_FAIL?\n",
       "Unknown    302\n",
       "Yes        100\n",
       "No          25\n",
       "Name: count, dtype: int64"
      ]
     },
     "execution_count": 179,
     "metadata": {},
     "output_type": "execute_result"
    }
   ],
   "source": [
    "df_concat[df_concat['RUNNING_STATUS']=='PULLED'][df_concat['CLASS']=='U']['ESP_FAIL?'].value_counts()"
   ]
  },
  {
   "cell_type": "markdown",
   "metadata": {
    "id": "JIXS83sFV40L"
   },
   "source": [
    "## Revisando la coherencia entre stop index, stop group y reason for stop or pooh."
   ]
  },
  {
   "cell_type": "code",
   "execution_count": null,
   "metadata": {
    "colab": {
     "base_uri": "https://localhost:8080/",
     "height": 366
    },
    "executionInfo": {
     "elapsed": 47,
     "status": "ok",
     "timestamp": 1740846096050,
     "user": {
      "displayName": "Danny Perilla",
      "userId": "12445778756415185299"
     },
     "user_tz": 300
    },
    "id": "iewxaZsHgmza",
    "outputId": "71164f93-b7d5-4afa-ead1-6cecddc60b4c"
   },
   "outputs": [
    {
     "data": {
      "text/html": [
       "<div>\n",
       "<style scoped>\n",
       "    .dataframe tbody tr th:only-of-type {\n",
       "        vertical-align: middle;\n",
       "    }\n",
       "\n",
       "    .dataframe tbody tr th {\n",
       "        vertical-align: top;\n",
       "    }\n",
       "\n",
       "    .dataframe thead th {\n",
       "        text-align: right;\n",
       "    }\n",
       "</style>\n",
       "<table border=\"1\" class=\"dataframe\">\n",
       "  <thead>\n",
       "    <tr style=\"text-align: right;\">\n",
       "      <th></th>\n",
       "      <th>count</th>\n",
       "    </tr>\n",
       "    <tr>\n",
       "      <th>STOP_INDEX</th>\n",
       "      <th></th>\n",
       "    </tr>\n",
       "  </thead>\n",
       "  <tbody>\n",
       "    <tr>\n",
       "      <th>16.0</th>\n",
       "      <td>1342</td>\n",
       "    </tr>\n",
       "    <tr>\n",
       "      <th>14.0</th>\n",
       "      <td>817</td>\n",
       "    </tr>\n",
       "    <tr>\n",
       "      <th>18.0</th>\n",
       "      <td>806</td>\n",
       "    </tr>\n",
       "    <tr>\n",
       "      <th>17.0</th>\n",
       "      <td>67</td>\n",
       "    </tr>\n",
       "    <tr>\n",
       "      <th>15.0</th>\n",
       "      <td>59</td>\n",
       "    </tr>\n",
       "    <tr>\n",
       "      <th>21.0</th>\n",
       "      <td>33</td>\n",
       "    </tr>\n",
       "    <tr>\n",
       "      <th>20.0</th>\n",
       "      <td>32</td>\n",
       "    </tr>\n",
       "    <tr>\n",
       "      <th>19.0</th>\n",
       "      <td>27</td>\n",
       "    </tr>\n",
       "  </tbody>\n",
       "</table>\n",
       "</div><br><label><b>dtype:</b> int64</label>"
      ],
      "text/plain": [
       "STOP_INDEX\n",
       "16.0    1342\n",
       "14.0     817\n",
       "18.0     806\n",
       "17.0      67\n",
       "15.0      59\n",
       "21.0      33\n",
       "20.0      32\n",
       "19.0      27\n",
       "Name: count, dtype: int64"
      ]
     },
     "execution_count": 98,
     "metadata": {},
     "output_type": "execute_result"
    }
   ],
   "source": [
    "df_concat[df_concat['STOP_GROUP'] == 'ELECTRIC']['STOP_INDEX'].value_counts()"
   ]
  },
  {
   "cell_type": "code",
   "execution_count": null,
   "metadata": {
    "id": "xepsa_3mX7Df"
   },
   "outputs": [],
   "source": [
    "# .uppper a la columna reason for stop or pooh\n",
    "df_concat['REASON_FOR_STOP_OR_POOH'] = df_concat['REASON_FOR_STOP_OR_POOH'].str.upper()"
   ]
  },
  {
   "cell_type": "code",
   "execution_count": null,
   "metadata": {
    "colab": {
     "base_uri": "https://localhost:8080/",
     "height": 146
    },
    "executionInfo": {
     "elapsed": 48,
     "status": "ok",
     "timestamp": 1740843809719,
     "user": {
      "displayName": "Danny Perilla",
      "userId": "12445778756415185299"
     },
     "user_tz": 300
    },
    "id": "U09pJQq8WA9A",
    "outputId": "2dca575c-3303-4a1d-a0a5-d02410855f0d"
   },
   "outputs": [
    {
     "data": {
      "text/html": [
       "<div>\n",
       "<style scoped>\n",
       "    .dataframe tbody tr th:only-of-type {\n",
       "        vertical-align: middle;\n",
       "    }\n",
       "\n",
       "    .dataframe tbody tr th {\n",
       "        vertical-align: top;\n",
       "    }\n",
       "\n",
       "    .dataframe thead th {\n",
       "        text-align: right;\n",
       "    }\n",
       "</style>\n",
       "<table border=\"1\" class=\"dataframe\">\n",
       "  <thead>\n",
       "    <tr style=\"text-align: right;\">\n",
       "      <th></th>\n",
       "      <th></th>\n",
       "      <th>count</th>\n",
       "    </tr>\n",
       "    <tr>\n",
       "      <th>STOP_GROUP</th>\n",
       "      <th>REASON_FOR_STOP_OR_POOH</th>\n",
       "      <th></th>\n",
       "    </tr>\n",
       "  </thead>\n",
       "  <tbody>\n",
       "    <tr>\n",
       "      <th>ELECTIVE</th>\n",
       "      <th>ACIDIZE/STIMULATION</th>\n",
       "      <td>108</td>\n",
       "    </tr>\n",
       "  </tbody>\n",
       "</table>\n",
       "</div><br><label><b>dtype:</b> int64</label>"
      ],
      "text/plain": [
       "STOP_GROUP  REASON_FOR_STOP_OR_POOH\n",
       "ELECTIVE    ACIDIZE/STIMULATION        108\n",
       "Name: count, dtype: int64"
      ]
     },
     "execution_count": 70,
     "metadata": {},
     "output_type": "execute_result"
    }
   ],
   "source": [
    "df_concat[df_concat['STOP_INDEX'] == 2][['STOP_GROUP', 'REASON_FOR_STOP_OR_POOH']].value_counts()"
   ]
  },
  {
   "cell_type": "code",
   "execution_count": null,
   "metadata": {
    "colab": {
     "base_uri": "https://localhost:8080/"
    },
    "executionInfo": {
     "elapsed": 16,
     "status": "ok",
     "timestamp": 1740843816153,
     "user": {
      "displayName": "Danny Perilla",
      "userId": "12445778756415185299"
     },
     "user_tz": 300
    },
    "id": "TYG6mkyxWx2q",
    "outputId": "9c3b95a9-a25a-46ae-9cab-9f19d7a5b4ca"
   },
   "outputs": [
    {
     "name": "stdout",
     "output_type": "stream",
     "text": [
      "Archivo 'grouped_stops.txt' generado con éxito.\n"
     ]
    }
   ],
   "source": [
    "from tabulate import tabulate\n",
    "\n",
    "# Agrupar por STOP_INDEX, STOP_GROUP y REASON_FOR_STOP_OR_POOH y contar ocurrencias\n",
    "df_grouped = df_concat.groupby(['STOP_INDEX', 'STOP_GROUP', 'REASON_FOR_STOP_OR_POOH']).size().reset_index(name='COUNT')\n",
    "\n",
    "# Convertir el DataFrame en una tabla de texto\n",
    "table_str = tabulate(df_grouped, headers='keys', tablefmt='grid')\n",
    "\n",
    "# Guardar en un archivo de texto\n",
    "with open(\"grouped_stops.txt\", \"w\") as f:\n",
    "    f.write(table_str)\n",
    "\n",
    "# Mostrar en pantalla\n",
    "print(\"Archivo 'grouped_stops.txt' generado con éxito.\")\n"
   ]
  }
 ],
 "metadata": {
  "colab": {
   "authorship_tag": "ABX9TyMhXl+6zoUHNTiZSf/Lok8g",
   "provenance": []
  },
  "kernelspec": {
   "display_name": "Python 3 (ipykernel)",
   "language": "python",
   "name": "python3"
  },
  "language_info": {
   "codemirror_mode": {
    "name": "ipython",
    "version": 3
   },
   "file_extension": ".py",
   "mimetype": "text/x-python",
   "name": "python",
   "nbconvert_exporter": "python",
   "pygments_lexer": "ipython3",
   "version": "3.10.6"
  }
 },
 "nbformat": 4,
 "nbformat_minor": 4
}
