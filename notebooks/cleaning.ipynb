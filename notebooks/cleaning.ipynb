{
 "cells": [
  {
   "cell_type": "markdown",
   "metadata": {
    "id": "nyufV05R_cNk"
   },
   "source": [
    "## Importación y lectura de datos"
   ]
  },
  {
   "cell_type": "code",
   "execution_count": 17,
   "metadata": {},
   "outputs": [],
   "source": [
    "import pandas as pd\n",
    "import numpy as np\n",
    "import warnings\n",
    "warnings.filterwarnings('ignore')"
   ]
  },
  {
   "cell_type": "code",
   "execution_count": 18,
   "metadata": {
    "id": "tXEkNUbdaHRH"
   },
   "outputs": [],
   "source": [
    "# base folder en drive\n",
    "BASE_FOLDER = '../datasets'"
   ]
  },
  {
   "cell_type": "code",
   "execution_count": 19,
   "metadata": {
    "colab": {
     "base_uri": "https://localhost:8080/"
    },
    "executionInfo": {
     "elapsed": 786,
     "status": "ok",
     "timestamp": 1740308977266,
     "user": {
      "displayName": "Danny Perilla",
      "userId": "12445778756415185299"
     },
     "user_tz": 300
    },
    "id": "VqZ_zCfbaZt_",
    "outputId": "57c84131-2911-4c05-a4f5-97400dfbd21c"
   },
   "outputs": [],
   "source": [
    "#importar csv de drive\n",
    "import pandas as pd\n",
    "df = pd.read_csv(f'{BASE_FOLDER}/equipment_maintenance.csv')"
   ]
  },
  {
   "cell_type": "code",
   "execution_count": 20,
   "metadata": {},
   "outputs": [
    {
     "data": {
      "text/plain": [
       "(8289, 93)"
      ]
     },
     "execution_count": 20,
     "metadata": {},
     "output_type": "execute_result"
    }
   ],
   "source": [
    "# numner of columns and rows available in the dataset\n",
    "df.shape"
   ]
  },
  {
   "cell_type": "code",
   "execution_count": 21,
   "metadata": {
    "colab": {
     "base_uri": "https://localhost:8080/",
     "height": 290
    },
    "executionInfo": {
     "elapsed": 24,
     "status": "ok",
     "timestamp": 1740308978863,
     "user": {
      "displayName": "Danny Perilla",
      "userId": "12445778756415185299"
     },
     "user_tz": 300
    },
    "id": "cEYceWbByqxB",
    "outputId": "4c7fb6a8-3955-4ffe-f532-d949964a0068"
   },
   "outputs": [
    {
     "data": {
      "text/html": [
       "<div>\n",
       "<style scoped>\n",
       "    .dataframe tbody tr th:only-of-type {\n",
       "        vertical-align: middle;\n",
       "    }\n",
       "\n",
       "    .dataframe tbody tr th {\n",
       "        vertical-align: top;\n",
       "    }\n",
       "\n",
       "    .dataframe thead th {\n",
       "        text-align: right;\n",
       "    }\n",
       "</style>\n",
       "<table border=\"1\" class=\"dataframe\">\n",
       "  <thead>\n",
       "    <tr style=\"text-align: right;\">\n",
       "      <th></th>\n",
       "      <th>Country</th>\n",
       "      <th>Asse7</th>\n",
       "      <th>Completion #</th>\n",
       "      <th>Activation type</th>\n",
       "      <th>Supplier</th>\n",
       "      <th>Environment</th>\n",
       "      <th>Running status</th>\n",
       "      <th>Installation date</th>\n",
       "      <th>Start date</th>\n",
       "      <th>Failure date</th>\n",
       "      <th>...</th>\n",
       "      <th>H2S (Y/N)</th>\n",
       "      <th>Chemical injection (Y/N)</th>\n",
       "      <th>Usage Motor</th>\n",
       "      <th>Usage Pump</th>\n",
       "      <th>Usage Protector</th>\n",
       "      <th>Usage Intake</th>\n",
       "      <th>Usage Round</th>\n",
       "      <th>Usage Flat</th>\n",
       "      <th>Usage Gauge</th>\n",
       "      <th>Pump is NEW?</th>\n",
       "    </tr>\n",
       "  </thead>\n",
       "  <tbody>\n",
       "    <tr>\n",
       "      <th>0</th>\n",
       "      <td>ARGENTINA</td>\n",
       "      <td>Y8PMX2</td>\n",
       "      <td>1</td>\n",
       "      <td>ESP</td>\n",
       "      <td>Unknown</td>\n",
       "      <td>Offshore</td>\n",
       "      <td>Pulled</td>\n",
       "      <td>24/01/1992</td>\n",
       "      <td>NaN</td>\n",
       "      <td>09/10/1995</td>\n",
       "      <td>...</td>\n",
       "      <td>NaN</td>\n",
       "      <td>NaN</td>\n",
       "      <td>NaN</td>\n",
       "      <td>NaN</td>\n",
       "      <td>NaN</td>\n",
       "      <td>NaN</td>\n",
       "      <td>NaN</td>\n",
       "      <td>NaN</td>\n",
       "      <td>NaN</td>\n",
       "      <td>Unknown</td>\n",
       "    </tr>\n",
       "    <tr>\n",
       "      <th>1</th>\n",
       "      <td>ARGENTINA</td>\n",
       "      <td>Y8PMX2</td>\n",
       "      <td>2</td>\n",
       "      <td>ESP</td>\n",
       "      <td>Unknown</td>\n",
       "      <td>Offshore</td>\n",
       "      <td>Pulled</td>\n",
       "      <td>29/10/1995</td>\n",
       "      <td>NaN</td>\n",
       "      <td>29/10/1995</td>\n",
       "      <td>...</td>\n",
       "      <td>NaN</td>\n",
       "      <td>NaN</td>\n",
       "      <td>NaN</td>\n",
       "      <td>NaN</td>\n",
       "      <td>NaN</td>\n",
       "      <td>NaN</td>\n",
       "      <td>NaN</td>\n",
       "      <td>NaN</td>\n",
       "      <td>NaN</td>\n",
       "      <td>Unknown</td>\n",
       "    </tr>\n",
       "    <tr>\n",
       "      <th>2</th>\n",
       "      <td>ARGENTINA</td>\n",
       "      <td>Y8PMX2</td>\n",
       "      <td>3</td>\n",
       "      <td>ESP</td>\n",
       "      <td>Unknown</td>\n",
       "      <td>Offshore</td>\n",
       "      <td>Pulled</td>\n",
       "      <td>09/11/1995</td>\n",
       "      <td>NaN</td>\n",
       "      <td>11/11/1995</td>\n",
       "      <td>...</td>\n",
       "      <td>NaN</td>\n",
       "      <td>NaN</td>\n",
       "      <td>NaN</td>\n",
       "      <td>NaN</td>\n",
       "      <td>NaN</td>\n",
       "      <td>NaN</td>\n",
       "      <td>NaN</td>\n",
       "      <td>NaN</td>\n",
       "      <td>NaN</td>\n",
       "      <td>Unknown</td>\n",
       "    </tr>\n",
       "    <tr>\n",
       "      <th>3</th>\n",
       "      <td>ARGENTINA</td>\n",
       "      <td>Y8PMX2</td>\n",
       "      <td>4</td>\n",
       "      <td>ESP</td>\n",
       "      <td>Unknown</td>\n",
       "      <td>Offshore</td>\n",
       "      <td>Pulled</td>\n",
       "      <td>12/12/1995</td>\n",
       "      <td>NaN</td>\n",
       "      <td>12/12/1995</td>\n",
       "      <td>...</td>\n",
       "      <td>NaN</td>\n",
       "      <td>NaN</td>\n",
       "      <td>NaN</td>\n",
       "      <td>NaN</td>\n",
       "      <td>NaN</td>\n",
       "      <td>NaN</td>\n",
       "      <td>NaN</td>\n",
       "      <td>NaN</td>\n",
       "      <td>NaN</td>\n",
       "      <td>Unknown</td>\n",
       "    </tr>\n",
       "    <tr>\n",
       "      <th>4</th>\n",
       "      <td>ARGENTINA</td>\n",
       "      <td>Y8PMX2</td>\n",
       "      <td>5</td>\n",
       "      <td>ESP</td>\n",
       "      <td>Unknown</td>\n",
       "      <td>Offshore</td>\n",
       "      <td>Pulled</td>\n",
       "      <td>18/12/1995</td>\n",
       "      <td>NaN</td>\n",
       "      <td>29/05/1996</td>\n",
       "      <td>...</td>\n",
       "      <td>NaN</td>\n",
       "      <td>NaN</td>\n",
       "      <td>NaN</td>\n",
       "      <td>NaN</td>\n",
       "      <td>NaN</td>\n",
       "      <td>NaN</td>\n",
       "      <td>NaN</td>\n",
       "      <td>NaN</td>\n",
       "      <td>NaN</td>\n",
       "      <td>Unknown</td>\n",
       "    </tr>\n",
       "  </tbody>\n",
       "</table>\n",
       "<p>5 rows × 93 columns</p>\n",
       "</div>"
      ],
      "text/plain": [
       "     Country   Asse7  Completion # Activation type Supplier Environment  \\\n",
       "0  ARGENTINA  Y8PMX2             1             ESP  Unknown    Offshore   \n",
       "1  ARGENTINA  Y8PMX2             2             ESP  Unknown    Offshore   \n",
       "2  ARGENTINA  Y8PMX2             3             ESP  Unknown    Offshore   \n",
       "3  ARGENTINA  Y8PMX2             4             ESP  Unknown    Offshore   \n",
       "4  ARGENTINA  Y8PMX2             5             ESP  Unknown    Offshore   \n",
       "\n",
       "  Running status Installation date Start date Failure date  ... H2S (Y/N)  \\\n",
       "0         Pulled        24/01/1992        NaN   09/10/1995  ...       NaN   \n",
       "1         Pulled        29/10/1995        NaN   29/10/1995  ...       NaN   \n",
       "2         Pulled        09/11/1995        NaN   11/11/1995  ...       NaN   \n",
       "3         Pulled        12/12/1995        NaN   12/12/1995  ...       NaN   \n",
       "4         Pulled        18/12/1995        NaN   29/05/1996  ...       NaN   \n",
       "\n",
       "  Chemical injection (Y/N)  Usage Motor  Usage Pump  Usage Protector  \\\n",
       "0                      NaN          NaN         NaN              NaN   \n",
       "1                      NaN          NaN         NaN              NaN   \n",
       "2                      NaN          NaN         NaN              NaN   \n",
       "3                      NaN          NaN         NaN              NaN   \n",
       "4                      NaN          NaN         NaN              NaN   \n",
       "\n",
       "  Usage Intake Usage Round Usage Flat  Usage Gauge Pump is NEW?  \n",
       "0          NaN         NaN        NaN          NaN      Unknown  \n",
       "1          NaN         NaN        NaN          NaN      Unknown  \n",
       "2          NaN         NaN        NaN          NaN      Unknown  \n",
       "3          NaN         NaN        NaN          NaN      Unknown  \n",
       "4          NaN         NaN        NaN          NaN      Unknown  \n",
       "\n",
       "[5 rows x 93 columns]"
      ]
     },
     "execution_count": 21,
     "metadata": {},
     "output_type": "execute_result"
    }
   ],
   "source": [
    "df.head()"
   ]
  },
  {
   "cell_type": "markdown",
   "metadata": {
    "id": "oBV7ceT1_lSr"
   },
   "source": [
    "## Limpieza de datos"
   ]
  },
  {
   "cell_type": "code",
   "execution_count": 22,
   "metadata": {
    "id": "4qb_gMT00Aax"
   },
   "outputs": [],
   "source": [
    "df.columns = df.columns.str.upper()\n",
    "df.columns = df.columns.str.replace(' ', '_')\n",
    "df.rename(columns={'COMPLETION_#': 'COMPLETION_NUMBER',\n",
    "                   'ASSE7': 'ASSET'}, inplace=True)"
   ]
  },
  {
   "cell_type": "code",
   "execution_count": 23,
   "metadata": {},
   "outputs": [],
   "source": [
    "df.insert(0, 'ID_EQUIPMENT', df['ASSET'] + '-' + df['COMPLETION_NUMBER'].astype(str))\n",
    "\n",
    "# remove non-useful columns\n",
    "df = df.drop('STATUS_CHECK', axis=1)\n",
    "df = df.drop('DATE/TIME_CHECK', axis=1)"
   ]
  },
  {
   "cell_type": "code",
   "execution_count": 24,
   "metadata": {
    "colab": {
     "base_uri": "https://localhost:8080/"
    },
    "executionInfo": {
     "elapsed": 51,
     "status": "ok",
     "timestamp": 1740327069210,
     "user": {
      "displayName": "Danny Perilla",
      "userId": "12445778756415185299"
     },
     "user_tz": 300
    },
    "id": "nLdvYRrszfnn",
    "outputId": "477292e6-3306-455f-9867-4fb0835397c6"
   },
   "outputs": [
    {
     "data": {
      "text/plain": [
       "Index(['ID_EQUIPMENT', 'COUNTRY', 'ASSET', 'COMPLETION_NUMBER',\n",
       "       'ACTIVATION_TYPE', 'SUPPLIER', 'ENVIRONMENT', 'RUNNING_STATUS',\n",
       "       'INSTALLATION_DATE', 'START_DATE', 'FAILURE_DATE', 'ACLS_DATE',\n",
       "       'POOH_DATE', 'LAST_UPDATE', 'RUN_LIFE'],\n",
       "      dtype='object')"
      ]
     },
     "execution_count": 24,
     "metadata": {},
     "output_type": "execute_result"
    }
   ],
   "source": [
    "df.columns[:15]"
   ]
  },
  {
   "cell_type": "code",
   "execution_count": 25,
   "metadata": {},
   "outputs": [
    {
     "data": {
      "text/plain": [
       "ID_EQUIPMENT         object\n",
       "COUNTRY              object\n",
       "ASSET                object\n",
       "COMPLETION_NUMBER     int64\n",
       "ACTIVATION_TYPE      object\n",
       "                      ...  \n",
       "USAGE_INTAKE         object\n",
       "USAGE_ROUND          object\n",
       "USAGE_FLAT           object\n",
       "USAGE_GAUGE          object\n",
       "PUMP_IS_NEW?         object\n",
       "Length: 92, dtype: object"
      ]
     },
     "execution_count": 25,
     "metadata": {},
     "output_type": "execute_result"
    }
   ],
   "source": [
    "# data types in the columns\n",
    "df.dtypes "
   ]
  },
  {
   "cell_type": "code",
   "execution_count": 26,
   "metadata": {
    "id": "wYWN7ysvgDey"
   },
   "outputs": [],
   "source": [
    "df['SUPPLIER'] = df['SUPPLIER'].str.upper()\n",
    "df['ENVIRONMENT'] = df['ENVIRONMENT'].str.upper()\n",
    "df['RUNNING_STATUS'] = df['RUNNING_STATUS'].str.upper()\n",
    "df['ORDINAL_CHECK'] = df['ORDINAL_CHECK'].str.upper().str.replace(' ', '_')\n",
    "df['STOP_GROUP'] = df['STOP_GROUP'].str.upper().str.replace(' ', '_')\n",
    "df['LAST_INSTALL'] = df['LAST_INSTALL'].apply(lambda x: 1 if x == 'Yes' else 0)"
   ]
  },
  {
   "cell_type": "code",
   "execution_count": 27,
   "metadata": {},
   "outputs": [],
   "source": [
    "df['LAST_UPDATE'] = df['LAST_UPDATE'].apply(lambda x:  \n",
    "    pd.to_datetime(45666, unit='D', origin='1899-12-30') if pd.notnull(x) else x)"
   ]
  },
  {
   "cell_type": "code",
   "execution_count": 28,
   "metadata": {},
   "outputs": [
    {
     "data": {
      "text/plain": [
       "LAST_UPDATE\n",
       "NaT           7425\n",
       "2025-01-09     864\n",
       "Name: count, dtype: int64"
      ]
     },
     "execution_count": 28,
     "metadata": {},
     "output_type": "execute_result"
    }
   ],
   "source": [
    "df['LAST_UPDATE'].value_counts(dropna=False)"
   ]
  },
  {
   "cell_type": "code",
   "execution_count": 29,
   "metadata": {},
   "outputs": [],
   "source": [
    "df['INSTALLATION_DATE'] = pd.to_datetime(df['INSTALLATION_DATE'], dayfirst=True)\n",
    "df['START_DATE'] = pd.to_datetime(df['START_DATE'], dayfirst=True)\n",
    "df['ACLS_DATE'] = pd.to_datetime(df['ACLS_DATE'], dayfirst=True)\n",
    "df['POOH_DATE'] = pd.to_datetime(df['POOH_DATE'], dayfirst=True)\n",
    "df['FAILURE_DATE'] = pd.to_datetime(df['FAILURE_DATE'], dayfirst=True)\n",
    "df['COMPLETION_NUMBER'] = df['COMPLETION_NUMBER'].astype(int)"
   ]
  },
  {
   "cell_type": "code",
   "execution_count": 30,
   "metadata": {},
   "outputs": [],
   "source": [
    "# fills start_date with installation_date when empty\n",
    "df['START_DATE'] = df['START_DATE'].fillna(df['INSTALLATION_DATE'])"
   ]
  },
  {
   "cell_type": "markdown",
   "metadata": {},
   "source": [
    "Existe un registro que no posee calidad. Ese registro corresponde a el 'ID_EQUIPMENT'= 'LKLMIMX2GI-3'. Este registro está etiquetado como un 'Data Error' en la columna de 'STATUS_CHECK'. Por tanto es necesario retirarlo al final."
   ]
  },
  {
   "cell_type": "code",
   "execution_count": 31,
   "metadata": {
    "colab": {
     "base_uri": "https://localhost:8080/"
    },
    "executionInfo": {
     "elapsed": 18,
     "status": "ok",
     "timestamp": 1740327137931,
     "user": {
      "displayName": "Danny Perilla",
      "userId": "12445778756415185299"
     },
     "user_tz": 300
    },
    "id": "2vABHGkRcDst",
    "outputId": "8d81d59b-a3ba-4583-b889-386dca1b082d"
   },
   "outputs": [],
   "source": [
    "# Create a new Run_life column to compare to the existing one. \n",
    "df.insert(15, 'RUN_LIFE_2', np.abs(\n",
    "    df['INSTALLATION_DATE'] -\n",
    "    df[['FAILURE_DATE', 'ACLS_DATE', 'POOH_DATE']].min(axis=1))\n",
    "         )\n",
    "\n",
    "# get the indices of the non-matching rows\n",
    "different_indices = \\\n",
    "    df.index[df['RUN_LIFE'] != df['RUN_LIFE_2'].dt.days]"
   ]
  },
  {
   "cell_type": "markdown",
   "metadata": {},
   "source": [
    "**different_indices**: se refiere a los indices de los registros que no poseen FAILURE_DATE, ACLS_DATE ni POOH_DATE."
   ]
  },
  {
   "cell_type": "code",
   "execution_count": 32,
   "metadata": {},
   "outputs": [
    {
     "name": "stdout",
     "output_type": "stream",
     "text": [
      "<class 'pandas.core.frame.DataFrame'>\n",
      "RangeIndex: 8289 entries, 0 to 8288\n",
      "Data columns (total 16 columns):\n",
      " #   Column             Non-Null Count  Dtype          \n",
      "---  ------             --------------  -----          \n",
      " 0   ID_EQUIPMENT       8289 non-null   object         \n",
      " 1   COUNTRY            8289 non-null   object         \n",
      " 2   ASSET              8289 non-null   object         \n",
      " 3   COMPLETION_NUMBER  8289 non-null   int64          \n",
      " 4   ACTIVATION_TYPE    8289 non-null   object         \n",
      " 5   SUPPLIER           8233 non-null   object         \n",
      " 6   ENVIRONMENT        8289 non-null   object         \n",
      " 7   RUNNING_STATUS     8289 non-null   object         \n",
      " 8   INSTALLATION_DATE  8288 non-null   datetime64[ns] \n",
      " 9   START_DATE         8288 non-null   datetime64[ns] \n",
      " 10  FAILURE_DATE       6084 non-null   datetime64[ns] \n",
      " 11  ACLS_DATE          1147 non-null   datetime64[ns] \n",
      " 12  POOH_DATE          6887 non-null   datetime64[ns] \n",
      " 13  LAST_UPDATE        864 non-null    datetime64[ns] \n",
      " 14  RUN_LIFE           8289 non-null   int64          \n",
      " 15  RUN_LIFE_2         7711 non-null   timedelta64[ns]\n",
      "dtypes: datetime64[ns](6), int64(2), object(7), timedelta64[ns](1)\n",
      "memory usage: 1.0+ MB\n"
     ]
    }
   ],
   "source": [
    "df.iloc[:,:16].info()"
   ]
  },
  {
   "cell_type": "code",
   "execution_count": 33,
   "metadata": {},
   "outputs": [
    {
     "name": "stdout",
     "output_type": "stream",
     "text": [
      "\n",
      "Cantidad de valores diferentes comparando RUN_LIFE y RUN_LIFE_2: 578\n",
      "La cantidad de valores NaT en RUN_LIFE_2 es: 578\n"
     ]
    }
   ],
   "source": [
    "# verificar que la razón de que esos valores sean diferentes es porque run_life_2 es NaT en esos registros\n",
    "print(\"\\nCantidad de valores diferentes comparando RUN_LIFE y RUN_LIFE_2:\", len(different_indices))\n",
    "print(\"La cantidad de valores NaT en RUN_LIFE_2 es:\", df['RUN_LIFE_2'].dt.days.isnull().sum())"
   ]
  },
  {
   "cell_type": "markdown",
   "metadata": {},
   "source": [
    "La conclusión es que todos los valores diferentes corresponden a valores **NaT**."
   ]
  },
  {
   "cell_type": "code",
   "execution_count": 34,
   "metadata": {},
   "outputs": [
    {
     "data": {
      "text/html": [
       "<div>\n",
       "<style scoped>\n",
       "    .dataframe tbody tr th:only-of-type {\n",
       "        vertical-align: middle;\n",
       "    }\n",
       "\n",
       "    .dataframe tbody tr th {\n",
       "        vertical-align: top;\n",
       "    }\n",
       "\n",
       "    .dataframe thead th {\n",
       "        text-align: right;\n",
       "    }\n",
       "</style>\n",
       "<table border=\"1\" class=\"dataframe\">\n",
       "  <thead>\n",
       "    <tr style=\"text-align: right;\">\n",
       "      <th></th>\n",
       "      <th>ID_EQUIPMENT</th>\n",
       "      <th>COUNTRY</th>\n",
       "      <th>ASSET</th>\n",
       "      <th>COMPLETION_NUMBER</th>\n",
       "      <th>ACTIVATION_TYPE</th>\n",
       "      <th>SUPPLIER</th>\n",
       "      <th>ENVIRONMENT</th>\n",
       "      <th>RUNNING_STATUS</th>\n",
       "      <th>INSTALLATION_DATE</th>\n",
       "      <th>START_DATE</th>\n",
       "      <th>FAILURE_DATE</th>\n",
       "      <th>ACLS_DATE</th>\n",
       "      <th>POOH_DATE</th>\n",
       "      <th>LAST_UPDATE</th>\n",
       "      <th>RUN_LIFE</th>\n",
       "      <th>RUN_LIFE_2</th>\n",
       "    </tr>\n",
       "  </thead>\n",
       "  <tbody>\n",
       "    <tr>\n",
       "      <th>83</th>\n",
       "      <td>Y8PMI2-16</td>\n",
       "      <td>ARGENTINA</td>\n",
       "      <td>Y8PMI2</td>\n",
       "      <td>16</td>\n",
       "      <td>ESP</td>\n",
       "      <td>QUAKER</td>\n",
       "      <td>OFFSHORE</td>\n",
       "      <td>RUNNING</td>\n",
       "      <td>2022-10-14</td>\n",
       "      <td>2022-10-15</td>\n",
       "      <td>NaT</td>\n",
       "      <td>NaT</td>\n",
       "      <td>NaT</td>\n",
       "      <td>2025-01-09</td>\n",
       "      <td>818</td>\n",
       "      <td>NaT</td>\n",
       "    </tr>\n",
       "    <tr>\n",
       "      <th>102</th>\n",
       "      <td>Y8PMI3-19</td>\n",
       "      <td>ARGENTINA</td>\n",
       "      <td>Y8PMI3</td>\n",
       "      <td>19</td>\n",
       "      <td>ESP</td>\n",
       "      <td>GOONER</td>\n",
       "      <td>OFFSHORE</td>\n",
       "      <td>RUNNING</td>\n",
       "      <td>2023-08-21</td>\n",
       "      <td>2023-08-29</td>\n",
       "      <td>NaT</td>\n",
       "      <td>NaT</td>\n",
       "      <td>NaT</td>\n",
       "      <td>2025-01-09</td>\n",
       "      <td>507</td>\n",
       "      <td>NaT</td>\n",
       "    </tr>\n",
       "    <tr>\n",
       "      <th>140</th>\n",
       "      <td>Y8PMI6-23</td>\n",
       "      <td>ARGENTINA</td>\n",
       "      <td>Y8PMI6</td>\n",
       "      <td>23</td>\n",
       "      <td>ESP</td>\n",
       "      <td>GOONER</td>\n",
       "      <td>OFFSHORE</td>\n",
       "      <td>RUNNING</td>\n",
       "      <td>2022-09-12</td>\n",
       "      <td>2022-09-12</td>\n",
       "      <td>NaT</td>\n",
       "      <td>NaT</td>\n",
       "      <td>NaT</td>\n",
       "      <td>2025-01-09</td>\n",
       "      <td>850</td>\n",
       "      <td>NaT</td>\n",
       "    </tr>\n",
       "    <tr>\n",
       "      <th>178</th>\n",
       "      <td>Y8PMI8-10</td>\n",
       "      <td>ARGENTINA</td>\n",
       "      <td>Y8PMI8</td>\n",
       "      <td>10</td>\n",
       "      <td>ESP</td>\n",
       "      <td>MAC</td>\n",
       "      <td>OFFSHORE</td>\n",
       "      <td>RUNNING</td>\n",
       "      <td>2023-04-20</td>\n",
       "      <td>2023-04-23</td>\n",
       "      <td>NaT</td>\n",
       "      <td>NaT</td>\n",
       "      <td>NaT</td>\n",
       "      <td>2025-01-09</td>\n",
       "      <td>630</td>\n",
       "      <td>NaT</td>\n",
       "    </tr>\n",
       "    <tr>\n",
       "      <th>216</th>\n",
       "      <td>Y8PM2X-21</td>\n",
       "      <td>ARGENTINA</td>\n",
       "      <td>Y8PM2X</td>\n",
       "      <td>21</td>\n",
       "      <td>ESP</td>\n",
       "      <td>GOONER</td>\n",
       "      <td>OFFSHORE</td>\n",
       "      <td>RUNNING</td>\n",
       "      <td>2023-03-05</td>\n",
       "      <td>2023-03-05</td>\n",
       "      <td>NaT</td>\n",
       "      <td>NaT</td>\n",
       "      <td>NaT</td>\n",
       "      <td>2025-01-09</td>\n",
       "      <td>676</td>\n",
       "      <td>NaT</td>\n",
       "    </tr>\n",
       "  </tbody>\n",
       "</table>\n",
       "</div>"
      ],
      "text/plain": [
       "    ID_EQUIPMENT    COUNTRY   ASSET  COMPLETION_NUMBER ACTIVATION_TYPE  \\\n",
       "83     Y8PMI2-16  ARGENTINA  Y8PMI2                 16             ESP   \n",
       "102    Y8PMI3-19  ARGENTINA  Y8PMI3                 19             ESP   \n",
       "140    Y8PMI6-23  ARGENTINA  Y8PMI6                 23             ESP   \n",
       "178    Y8PMI8-10  ARGENTINA  Y8PMI8                 10             ESP   \n",
       "216    Y8PM2X-21  ARGENTINA  Y8PM2X                 21             ESP   \n",
       "\n",
       "    SUPPLIER ENVIRONMENT RUNNING_STATUS INSTALLATION_DATE START_DATE  \\\n",
       "83    QUAKER    OFFSHORE        RUNNING        2022-10-14 2022-10-15   \n",
       "102   GOONER    OFFSHORE        RUNNING        2023-08-21 2023-08-29   \n",
       "140   GOONER    OFFSHORE        RUNNING        2022-09-12 2022-09-12   \n",
       "178      MAC    OFFSHORE        RUNNING        2023-04-20 2023-04-23   \n",
       "216   GOONER    OFFSHORE        RUNNING        2023-03-05 2023-03-05   \n",
       "\n",
       "    FAILURE_DATE ACLS_DATE POOH_DATE LAST_UPDATE  RUN_LIFE RUN_LIFE_2  \n",
       "83           NaT       NaT       NaT  2025-01-09       818        NaT  \n",
       "102          NaT       NaT       NaT  2025-01-09       507        NaT  \n",
       "140          NaT       NaT       NaT  2025-01-09       850        NaT  \n",
       "178          NaT       NaT       NaT  2025-01-09       630        NaT  \n",
       "216          NaT       NaT       NaT  2025-01-09       676        NaT  "
      ]
     },
     "execution_count": 34,
     "metadata": {},
     "output_type": "execute_result"
    }
   ],
   "source": [
    "df.iloc[different_indices, :16].head()"
   ]
  },
  {
   "cell_type": "code",
   "execution_count": 35,
   "metadata": {
    "colab": {
     "base_uri": "https://localhost:8080/",
     "height": 209
    },
    "executionInfo": {
     "elapsed": 38,
     "status": "ok",
     "timestamp": 1740327147721,
     "user": {
      "displayName": "Danny Perilla",
      "userId": "12445778756415185299"
     },
     "user_tz": 300
    },
    "id": "6fcuUifRzcCu",
    "outputId": "5f42da78-1adc-4750-f212-e38e19c11d29"
   },
   "outputs": [
    {
     "data": {
      "text/plain": [
       "RUNNING_STATUS\n",
       "RUNNING    570\n",
       "IDLE         7\n",
       "PULLED       1\n",
       "Name: count, dtype: int64"
      ]
     },
     "execution_count": 35,
     "metadata": {},
     "output_type": "execute_result"
    }
   ],
   "source": [
    "df.iloc[different_indices]['RUNNING_STATUS'].value_counts()"
   ]
  },
  {
   "cell_type": "markdown",
   "metadata": {},
   "source": [
    "Esto es coherente porque IDLE se refiere a equipos que están disponibles pero que no están operando. El registro que se muestrea como PULLED es el mismo registro LKLMIMX2GI-3 sin calidad mencionado anteriormente."
   ]
  },
  {
   "cell_type": "code",
   "execution_count": 36,
   "metadata": {
    "colab": {
     "base_uri": "https://localhost:8080/",
     "height": 272
    },
    "executionInfo": {
     "elapsed": 52,
     "status": "ok",
     "timestamp": 1740327157005,
     "user": {
      "displayName": "Danny Perilla",
      "userId": "12445778756415185299"
     },
     "user_tz": 300
    },
    "id": "0-nH9OffdUEG",
    "outputId": "03578f05-05e4-473f-d82a-b2e1d8275fdc"
   },
   "outputs": [
    {
     "data": {
      "text/plain": [
       "RUNNING_STATUS\n",
       "PULLED     6922\n",
       "RUNNING     575\n",
       "ACLS        542\n",
       "FAILED      174\n",
       "IDLE         76\n",
       "Name: count, dtype: int64"
      ]
     },
     "execution_count": 36,
     "metadata": {},
     "output_type": "execute_result"
    }
   ],
   "source": [
    "df.RUNNING_STATUS.value_counts()"
   ]
  },
  {
   "cell_type": "markdown",
   "metadata": {},
   "source": [
    "Los equipos que están con RUNNING_STATUS = RUNNING deben coincidir. Por tanto vamos a verificar qué 5 equipos en estado RUNNNING possen una fecha falla, o fecha de retiro o fecha de paro voluntario (contradictorio)."
   ]
  },
  {
   "cell_type": "code",
   "execution_count": 37,
   "metadata": {},
   "outputs": [
    {
     "data": {
      "text/html": [
       "<div>\n",
       "<style scoped>\n",
       "    .dataframe tbody tr th:only-of-type {\n",
       "        vertical-align: middle;\n",
       "    }\n",
       "\n",
       "    .dataframe tbody tr th {\n",
       "        vertical-align: top;\n",
       "    }\n",
       "\n",
       "    .dataframe thead th {\n",
       "        text-align: right;\n",
       "    }\n",
       "</style>\n",
       "<table border=\"1\" class=\"dataframe\">\n",
       "  <thead>\n",
       "    <tr style=\"text-align: right;\">\n",
       "      <th></th>\n",
       "      <th>ID_EQUIPMENT</th>\n",
       "      <th>COUNTRY</th>\n",
       "      <th>ASSET</th>\n",
       "      <th>COMPLETION_NUMBER</th>\n",
       "      <th>ACTIVATION_TYPE</th>\n",
       "      <th>SUPPLIER</th>\n",
       "      <th>ENVIRONMENT</th>\n",
       "      <th>RUNNING_STATUS</th>\n",
       "      <th>INSTALLATION_DATE</th>\n",
       "      <th>START_DATE</th>\n",
       "      <th>FAILURE_DATE</th>\n",
       "      <th>ACLS_DATE</th>\n",
       "      <th>POOH_DATE</th>\n",
       "      <th>LAST_UPDATE</th>\n",
       "      <th>RUN_LIFE</th>\n",
       "      <th>RUN_LIFE_2</th>\n",
       "    </tr>\n",
       "  </thead>\n",
       "  <tbody>\n",
       "    <tr>\n",
       "      <th>1085</th>\n",
       "      <td>P8GMI7-19</td>\n",
       "      <td>ARGENTINA</td>\n",
       "      <td>P8GMI7</td>\n",
       "      <td>19</td>\n",
       "      <td>ESP</td>\n",
       "      <td>GOONER</td>\n",
       "      <td>OFFSHORE</td>\n",
       "      <td>RUNNING</td>\n",
       "      <td>2022-04-24</td>\n",
       "      <td>2022-04-26</td>\n",
       "      <td>NaT</td>\n",
       "      <td>2022-04-24</td>\n",
       "      <td>NaT</td>\n",
       "      <td>2025-01-09</td>\n",
       "      <td>0</td>\n",
       "      <td>0 days</td>\n",
       "    </tr>\n",
       "    <tr>\n",
       "      <th>1564</th>\n",
       "      <td>VMLM34-13</td>\n",
       "      <td>ARGENTINA</td>\n",
       "      <td>VMLM34</td>\n",
       "      <td>13</td>\n",
       "      <td>ESP</td>\n",
       "      <td>GOONER</td>\n",
       "      <td>OFFSHORE</td>\n",
       "      <td>RUNNING</td>\n",
       "      <td>2023-02-27</td>\n",
       "      <td>2023-02-27</td>\n",
       "      <td>NaT</td>\n",
       "      <td>NaT</td>\n",
       "      <td>2023-03-29</td>\n",
       "      <td>2025-01-09</td>\n",
       "      <td>30</td>\n",
       "      <td>30 days</td>\n",
       "    </tr>\n",
       "    <tr>\n",
       "      <th>2249</th>\n",
       "      <td>Y8VMXIY-3</td>\n",
       "      <td>CUBA</td>\n",
       "      <td>Y8VMXIY</td>\n",
       "      <td>3</td>\n",
       "      <td>ESP</td>\n",
       "      <td>GOONER</td>\n",
       "      <td>ONSHORE</td>\n",
       "      <td>RUNNING</td>\n",
       "      <td>2024-11-20</td>\n",
       "      <td>2024-11-25</td>\n",
       "      <td>2024-11-25</td>\n",
       "      <td>NaT</td>\n",
       "      <td>NaT</td>\n",
       "      <td>2025-01-09</td>\n",
       "      <td>5</td>\n",
       "      <td>5 days</td>\n",
       "    </tr>\n",
       "    <tr>\n",
       "      <th>4500</th>\n",
       "      <td>MO7MX4-5</td>\n",
       "      <td>IRELAND</td>\n",
       "      <td>MO7MX4</td>\n",
       "      <td>5</td>\n",
       "      <td>ESP</td>\n",
       "      <td>GOONER</td>\n",
       "      <td>OFFSHORE</td>\n",
       "      <td>RUNNING</td>\n",
       "      <td>2025-01-03</td>\n",
       "      <td>2025-01-08</td>\n",
       "      <td>2025-01-07</td>\n",
       "      <td>NaT</td>\n",
       "      <td>NaT</td>\n",
       "      <td>2025-01-09</td>\n",
       "      <td>4</td>\n",
       "      <td>4 days</td>\n",
       "    </tr>\n",
       "    <tr>\n",
       "      <th>4842</th>\n",
       "      <td>HYUMMX2-1</td>\n",
       "      <td>CHINA</td>\n",
       "      <td>HYUMMX2</td>\n",
       "      <td>1</td>\n",
       "      <td>ESP</td>\n",
       "      <td>QUAKER</td>\n",
       "      <td>OFFSHORE</td>\n",
       "      <td>RUNNING</td>\n",
       "      <td>2024-03-22</td>\n",
       "      <td>2024-03-22</td>\n",
       "      <td>NaT</td>\n",
       "      <td>2024-03-22</td>\n",
       "      <td>NaT</td>\n",
       "      <td>2025-01-09</td>\n",
       "      <td>0</td>\n",
       "      <td>0 days</td>\n",
       "    </tr>\n",
       "  </tbody>\n",
       "</table>\n",
       "</div>"
      ],
      "text/plain": [
       "     ID_EQUIPMENT    COUNTRY    ASSET  COMPLETION_NUMBER ACTIVATION_TYPE  \\\n",
       "1085    P8GMI7-19  ARGENTINA   P8GMI7                 19             ESP   \n",
       "1564    VMLM34-13  ARGENTINA   VMLM34                 13             ESP   \n",
       "2249    Y8VMXIY-3       CUBA  Y8VMXIY                  3             ESP   \n",
       "4500     MO7MX4-5    IRELAND   MO7MX4                  5             ESP   \n",
       "4842    HYUMMX2-1      CHINA  HYUMMX2                  1             ESP   \n",
       "\n",
       "     SUPPLIER ENVIRONMENT RUNNING_STATUS INSTALLATION_DATE START_DATE  \\\n",
       "1085   GOONER    OFFSHORE        RUNNING        2022-04-24 2022-04-26   \n",
       "1564   GOONER    OFFSHORE        RUNNING        2023-02-27 2023-02-27   \n",
       "2249   GOONER     ONSHORE        RUNNING        2024-11-20 2024-11-25   \n",
       "4500   GOONER    OFFSHORE        RUNNING        2025-01-03 2025-01-08   \n",
       "4842   QUAKER    OFFSHORE        RUNNING        2024-03-22 2024-03-22   \n",
       "\n",
       "     FAILURE_DATE  ACLS_DATE  POOH_DATE LAST_UPDATE  RUN_LIFE RUN_LIFE_2  \n",
       "1085          NaT 2022-04-24        NaT  2025-01-09         0     0 days  \n",
       "1564          NaT        NaT 2023-03-29  2025-01-09        30    30 days  \n",
       "2249   2024-11-25        NaT        NaT  2025-01-09         5     5 days  \n",
       "4500   2025-01-07        NaT        NaT  2025-01-09         4     4 days  \n",
       "4842          NaT 2024-03-22        NaT  2025-01-09         0     0 days  "
      ]
     },
     "execution_count": 37,
     "metadata": {},
     "output_type": "execute_result"
    }
   ],
   "source": [
    "df[df.RUNNING_STATUS == 'RUNNING'][df.RUN_LIFE_2.notnull()].iloc[:, :16]"
   ]
  },
  {
   "cell_type": "markdown",
   "metadata": {},
   "source": [
    "Se procede a verificar estos equipos con los id's 'P8GMI7-19', 'VMLM34-13', 'Y8VMXIY-3', 'MO7MX4-5', 'HYUMMX2-1' Y se verificó que efectivamente están activos y que las fechas resgistradas de falla no son consistentes, se procede a quitarlas."
   ]
  },
  {
   "cell_type": "code",
   "execution_count": 38,
   "metadata": {},
   "outputs": [],
   "source": [
    "df.loc[df['ID_EQUIPMENT'] == 'P8GMI7-19', 'ACLS_DATE'] = pd.NaT\n",
    "df.loc[df['ID_EQUIPMENT'] == 'VMLM34-13', 'POOH_DATE'] = pd.NaT\n",
    "df.loc[df['ID_EQUIPMENT'] == 'Y8VMXIY-3', 'FAILURE_DATE'] = pd.NaT\n",
    "df.loc[df['ID_EQUIPMENT'] == 'MO7MX4-5', 'FAILURE_DATE'] = pd.NaT\n",
    "df.loc[df['ID_EQUIPMENT'] == 'HYUMMX2-1', 'ACLS_DATE'] = pd.NaT"
   ]
  },
  {
   "cell_type": "code",
   "execution_count": 39,
   "metadata": {},
   "outputs": [],
   "source": [
    "# Run_life2 is again calculated once the 5 records with running_status = running have had dates in ACLS removed.\n",
    "df['RUN_LIFE_2'] = np.abs(\n",
    "    df['INSTALLATION_DATE'] -\n",
    "    df[['FAILURE_DATE', 'ACLS_DATE', 'POOH_DATE']].min(axis=1))    \n",
    "\n",
    "different_indices = \\\n",
    "    df.index[df['RUN_LIFE'] != df['RUN_LIFE_2'].dt.days]"
   ]
  },
  {
   "cell_type": "code",
   "execution_count": 40,
   "metadata": {},
   "outputs": [
    {
     "data": {
      "text/plain": [
       "RUNNING_STATUS\n",
       "RUNNING    575\n",
       "IDLE         7\n",
       "PULLED       1\n",
       "Name: count, dtype: int64"
      ]
     },
     "execution_count": 40,
     "metadata": {},
     "output_type": "execute_result"
    }
   ],
   "source": [
    "df.iloc[different_indices]['RUNNING_STATUS'].value_counts()"
   ]
  },
  {
   "cell_type": "code",
   "execution_count": 41,
   "metadata": {},
   "outputs": [
    {
     "data": {
      "text/plain": [
       "<DatetimeArray>\n",
       "['2025-01-09 00:00:00', '2022-04-24 00:00:00', '2023-03-29 00:00:00',\n",
       " '2024-11-25 00:00:00',                 'NaT', '2025-01-07 00:00:00',\n",
       " '2024-03-22 00:00:00']\n",
       "Length: 7, dtype: datetime64[ns]"
      ]
     },
     "execution_count": 41,
     "metadata": {},
     "output_type": "execute_result"
    }
   ],
   "source": [
    "# recordar que indices diferentes se refiere a las diferencias en run_life y run_life_2\n",
    "(df.loc[different_indices, 'INSTALLATION_DATE'] +  \\\n",
    "pd.to_timedelta(df.loc[different_indices, 'RUN_LIFE'], unit='D')).unique()"
   ]
  },
  {
   "cell_type": "markdown",
   "metadata": {},
   "source": [
    "¿De donde salén los valores de run life de estos equipos que no tienen registro de fecha de falla, paro voluntario o retiro? La razón es para mostrar el run life de los posos que están operando. Cuanto durarón los que ya fallaron. Cuántos días han operando."
   ]
  },
  {
   "cell_type": "code",
   "execution_count": 124,
   "metadata": {},
   "outputs": [
    {
     "data": {
      "text/html": [
       "<div>\n",
       "<style scoped>\n",
       "    .dataframe tbody tr th:only-of-type {\n",
       "        vertical-align: middle;\n",
       "    }\n",
       "\n",
       "    .dataframe tbody tr th {\n",
       "        vertical-align: top;\n",
       "    }\n",
       "\n",
       "    .dataframe thead th {\n",
       "        text-align: right;\n",
       "    }\n",
       "</style>\n",
       "<table border=\"1\" class=\"dataframe\">\n",
       "  <thead>\n",
       "    <tr style=\"text-align: right;\">\n",
       "      <th></th>\n",
       "      <th>ID_EQUIPMENT</th>\n",
       "      <th>COUNTRY</th>\n",
       "      <th>ASSET</th>\n",
       "      <th>COMPLETION_NUMBER</th>\n",
       "      <th>ACTIVATION_TYPE</th>\n",
       "      <th>SUPPLIER</th>\n",
       "      <th>ENVIRONMENT</th>\n",
       "      <th>RUNNING_STATUS</th>\n",
       "      <th>INSTALLATION_DATE</th>\n",
       "      <th>START_DATE</th>\n",
       "      <th>FAILURE_DATE</th>\n",
       "      <th>ACLS_DATE</th>\n",
       "      <th>POOH_DATE</th>\n",
       "      <th>LAST_UPDATE</th>\n",
       "      <th>RUN_LIFE</th>\n",
       "      <th>RUN_LIFE_2</th>\n",
       "    </tr>\n",
       "  </thead>\n",
       "  <tbody>\n",
       "    <tr>\n",
       "      <th>1085</th>\n",
       "      <td>P8GMI7-19</td>\n",
       "      <td>ARGENTINA</td>\n",
       "      <td>P8GMI7</td>\n",
       "      <td>19</td>\n",
       "      <td>ESP</td>\n",
       "      <td>GOONER</td>\n",
       "      <td>OFFSHORE</td>\n",
       "      <td>RUNNING</td>\n",
       "      <td>2022-04-24</td>\n",
       "      <td>2022-04-26</td>\n",
       "      <td>NaT</td>\n",
       "      <td>NaT</td>\n",
       "      <td>NaT</td>\n",
       "      <td>1</td>\n",
       "      <td>0</td>\n",
       "      <td>0 days</td>\n",
       "    </tr>\n",
       "    <tr>\n",
       "      <th>1564</th>\n",
       "      <td>VMLM34-13</td>\n",
       "      <td>ARGENTINA</td>\n",
       "      <td>VMLM34</td>\n",
       "      <td>13</td>\n",
       "      <td>ESP</td>\n",
       "      <td>GOONER</td>\n",
       "      <td>OFFSHORE</td>\n",
       "      <td>RUNNING</td>\n",
       "      <td>2023-02-27</td>\n",
       "      <td>2023-02-27</td>\n",
       "      <td>NaT</td>\n",
       "      <td>NaT</td>\n",
       "      <td>NaT</td>\n",
       "      <td>1</td>\n",
       "      <td>30</td>\n",
       "      <td>30 days</td>\n",
       "    </tr>\n",
       "    <tr>\n",
       "      <th>2249</th>\n",
       "      <td>Y8VMXIY-3</td>\n",
       "      <td>CUBA</td>\n",
       "      <td>Y8VMXIY</td>\n",
       "      <td>3</td>\n",
       "      <td>ESP</td>\n",
       "      <td>GOONER</td>\n",
       "      <td>ONSHORE</td>\n",
       "      <td>RUNNING</td>\n",
       "      <td>2024-11-20</td>\n",
       "      <td>2024-11-25</td>\n",
       "      <td>NaT</td>\n",
       "      <td>NaT</td>\n",
       "      <td>NaT</td>\n",
       "      <td>1</td>\n",
       "      <td>5</td>\n",
       "      <td>5 days</td>\n",
       "    </tr>\n",
       "    <tr>\n",
       "      <th>4500</th>\n",
       "      <td>MO7MX4-5</td>\n",
       "      <td>IRELAND</td>\n",
       "      <td>MO7MX4</td>\n",
       "      <td>5</td>\n",
       "      <td>ESP</td>\n",
       "      <td>GOONER</td>\n",
       "      <td>OFFSHORE</td>\n",
       "      <td>RUNNING</td>\n",
       "      <td>2025-01-03</td>\n",
       "      <td>2025-01-07</td>\n",
       "      <td>NaT</td>\n",
       "      <td>NaT</td>\n",
       "      <td>NaT</td>\n",
       "      <td>1</td>\n",
       "      <td>4</td>\n",
       "      <td>4 days</td>\n",
       "    </tr>\n",
       "    <tr>\n",
       "      <th>4842</th>\n",
       "      <td>HYUMMX2-1</td>\n",
       "      <td>CHINA</td>\n",
       "      <td>HYUMMX2</td>\n",
       "      <td>1</td>\n",
       "      <td>ESP</td>\n",
       "      <td>QUAKER</td>\n",
       "      <td>OFFSHORE</td>\n",
       "      <td>RUNNING</td>\n",
       "      <td>2024-03-22</td>\n",
       "      <td>2024-03-22</td>\n",
       "      <td>NaT</td>\n",
       "      <td>NaT</td>\n",
       "      <td>NaT</td>\n",
       "      <td>1</td>\n",
       "      <td>0</td>\n",
       "      <td>0 days</td>\n",
       "    </tr>\n",
       "  </tbody>\n",
       "</table>\n",
       "</div>"
      ],
      "text/plain": [
       "     ID_EQUIPMENT    COUNTRY    ASSET  COMPLETION_NUMBER ACTIVATION_TYPE  \\\n",
       "1085    P8GMI7-19  ARGENTINA   P8GMI7                 19             ESP   \n",
       "1564    VMLM34-13  ARGENTINA   VMLM34                 13             ESP   \n",
       "2249    Y8VMXIY-3       CUBA  Y8VMXIY                  3             ESP   \n",
       "4500     MO7MX4-5    IRELAND   MO7MX4                  5             ESP   \n",
       "4842    HYUMMX2-1      CHINA  HYUMMX2                  1             ESP   \n",
       "\n",
       "     SUPPLIER ENVIRONMENT RUNNING_STATUS INSTALLATION_DATE START_DATE  \\\n",
       "1085   GOONER    OFFSHORE        RUNNING        2022-04-24 2022-04-26   \n",
       "1564   GOONER    OFFSHORE        RUNNING        2023-02-27 2023-02-27   \n",
       "2249   GOONER     ONSHORE        RUNNING        2024-11-20 2024-11-25   \n",
       "4500   GOONER    OFFSHORE        RUNNING        2025-01-03 2025-01-07   \n",
       "4842   QUAKER    OFFSHORE        RUNNING        2024-03-22 2024-03-22   \n",
       "\n",
       "     FAILURE_DATE ACLS_DATE POOH_DATE  LAST_UPDATE  RUN_LIFE RUN_LIFE_2  \n",
       "1085          NaT       NaT       NaT            1         0     0 days  \n",
       "1564          NaT       NaT       NaT            1        30    30 days  \n",
       "2249          NaT       NaT       NaT            1         5     5 days  \n",
       "4500          NaT       NaT       NaT            1         4     4 days  \n",
       "4842          NaT       NaT       NaT            1         0     0 days  "
      ]
     },
     "execution_count": 124,
     "metadata": {},
     "output_type": "execute_result"
    }
   ],
   "source": [
    "df[df.RUNNING_STATUS == 'RUNNING'][df.RUN_LIFE_2.notnull()].iloc[:, :16]"
   ]
  }
 ],
 "metadata": {
  "colab": {
   "authorship_tag": "ABX9TyMVsK1PTSsJxn6jqZWO9G0i",
   "provenance": []
  },
  "kernelspec": {
   "display_name": "Python 3 (ipykernel)",
   "language": "python",
   "name": "python3"
  },
  "language_info": {
   "codemirror_mode": {
    "name": "ipython",
    "version": 3
   },
   "file_extension": ".py",
   "mimetype": "text/x-python",
   "name": "python",
   "nbconvert_exporter": "python",
   "pygments_lexer": "ipython3",
   "version": "3.10.6"
  }
 },
 "nbformat": 4,
 "nbformat_minor": 4
}
